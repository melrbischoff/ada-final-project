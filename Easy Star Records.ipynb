{
 "cells": [
  {
   "cell_type": "markdown",
   "metadata": {},
   "source": [
    "## Digital Transaction Breakdown by Store\n",
    "+ Source: Easy Star Records\n",
    "+ Our dataset: Recent 3 years' Music albums' digital transaction by store (from 2018-01 to 2021-08)\n",
    "+ 4.7 million rows, each row is a music album's digital transaction data in a music streaming store\n",
    "+ Goal: Analyze past three years' albums revenue data for the Easy Star Records company and model the revenue given the release of albums over time\n",
    "+ Motivation: Help Easy Star Records generate more money from a data scientist perspective"
   ]
  },
  {
   "cell_type": "markdown",
   "metadata": {},
   "source": [
    "### Our data analysis toolbox"
   ]
  },
  {
   "cell_type": "code",
   "execution_count": 1,
   "metadata": {},
   "outputs": [],
   "source": [
    "# Numpy and Pandas,\n",
    "# canonical Python Libraries for numerical computing and data manipulation\n",
    "import numpy as np\n",
    "import pandas as pd \n",
    "\n",
    "# MatPlotLib, a canonical Python plotting Library\n",
    "import matplotlib.pyplot as plt\n",
    "\n",
    "# Seaborn, a library in Python predominantly used for making statistical graphics\n",
    "import seaborn as sns\n",
    "\n",
    "# sklearn is a Python module for machine learning \n",
    "import sklearn\n",
    "\n",
    "import statsmodels.api as sm"
   ]
  },
  {
   "cell_type": "markdown",
   "metadata": {},
   "source": [
    "### Data"
   ]
  },
  {
   "cell_type": "code",
   "execution_count": 2,
   "metadata": {},
   "outputs": [
    {
     "name": "stderr",
     "output_type": "stream",
     "text": [
      "/Users/chenzhiqi/opt/anaconda3/lib/python3.8/site-packages/IPython/core/interactiveshell.py:3071: DtypeWarning: Columns (13) have mixed types.Specify dtype option on import or set low_memory=False.\n",
      "  has_raised = await self.run_ast_nodes(code_ast.body, cell_name,\n"
     ]
    }
   ],
   "source": [
    "# read data\n",
    "df=pd.read_csv(\"https://www.dropbox.com/s/d4x3a92runccsvq/MRI%20-%20Digital%20Transaction%20Breakdown%20by%20Store%20%20Territory%20updated%202021-10-27T1610easystar010118to093021.csv?dl=1\")"
   ]
  },
  {
   "cell_type": "markdown",
   "metadata": {},
   "source": [
    "### Data onboarding and cleaning"
   ]
  },
  {
   "cell_type": "code",
   "execution_count": 3,
   "metadata": {},
   "outputs": [
    {
     "data": {
      "text/plain": [
       "['Unnamed: 0',\n",
       " 'Statement Month',\n",
       " 'Store Name',\n",
       " 'Label Name',\n",
       " 'Artist Name',\n",
       " 'Release Name',\n",
       " 'Track Artist (Performer)',\n",
       " 'Track Name',\n",
       " 'ISRC',\n",
       " 'Display Upc',\n",
       " 'Country Code',\n",
       " 'Continent',\n",
       " 'Stream Ad-Supp, Stream Prem, Download, Physical, Locker, Other',\n",
       " 'Units',\n",
       " 'Gross Revenue USD',\n",
       " 'Net Revenue USD']"
      ]
     },
     "execution_count": 3,
     "metadata": {},
     "output_type": "execute_result"
    }
   ],
   "source": [
    "# column names\n",
    "list(df.columns.values)"
   ]
  },
  {
   "cell_type": "code",
   "execution_count": 4,
   "metadata": {},
   "outputs": [
    {
     "data": {
      "text/plain": [
       "(4757930, 16)"
      ]
     },
     "execution_count": 4,
     "metadata": {},
     "output_type": "execute_result"
    }
   ],
   "source": [
    "df.shape"
   ]
  },
  {
   "cell_type": "code",
   "execution_count": 5,
   "metadata": {},
   "outputs": [
    {
     "data": {
      "text/html": [
       "<div>\n",
       "<style scoped>\n",
       "    .dataframe tbody tr th:only-of-type {\n",
       "        vertical-align: middle;\n",
       "    }\n",
       "\n",
       "    .dataframe tbody tr th {\n",
       "        vertical-align: top;\n",
       "    }\n",
       "\n",
       "    .dataframe thead th {\n",
       "        text-align: right;\n",
       "    }\n",
       "</style>\n",
       "<table border=\"1\" class=\"dataframe\">\n",
       "  <thead>\n",
       "    <tr style=\"text-align: right;\">\n",
       "      <th></th>\n",
       "      <th>Unnamed: 0</th>\n",
       "      <th>Statement Month</th>\n",
       "      <th>Store Name</th>\n",
       "      <th>Label Name</th>\n",
       "      <th>Artist Name</th>\n",
       "      <th>Release Name</th>\n",
       "      <th>Track Artist (Performer)</th>\n",
       "      <th>Track Name</th>\n",
       "      <th>ISRC</th>\n",
       "      <th>Display Upc</th>\n",
       "      <th>Country Code</th>\n",
       "      <th>Continent</th>\n",
       "      <th>Stream Ad-Supp, Stream Prem, Download, Physical, Locker, Other</th>\n",
       "      <th>Units</th>\n",
       "      <th>Gross Revenue USD</th>\n",
       "      <th>Net Revenue USD</th>\n",
       "    </tr>\n",
       "  </thead>\n",
       "  <tbody>\n",
       "    <tr>\n",
       "      <th>0</th>\n",
       "      <td>1</td>\n",
       "      <td>2018-07</td>\n",
       "      <td>iTunes/Apple</td>\n",
       "      <td>MRI Entertainment</td>\n",
       "      <td>Rebelution</td>\n",
       "      <td>Free Rein</td>\n",
       "      <td>NaN</td>\n",
       "      <td>NaN</td>\n",
       "      <td>NaN</td>\n",
       "      <td>657481106983</td>\n",
       "      <td>US</td>\n",
       "      <td>North America</td>\n",
       "      <td>Download</td>\n",
       "      <td>6,650</td>\n",
       "      <td>$46,550.00</td>\n",
       "      <td>$41,895.00</td>\n",
       "    </tr>\n",
       "    <tr>\n",
       "      <th>1</th>\n",
       "      <td>2</td>\n",
       "      <td>2021-07</td>\n",
       "      <td>iTunes/Apple</td>\n",
       "      <td>MRI Entertainment</td>\n",
       "      <td>Rebelution</td>\n",
       "      <td>In the Moment</td>\n",
       "      <td>NaN</td>\n",
       "      <td>NaN</td>\n",
       "      <td>NaN</td>\n",
       "      <td>657481109182</td>\n",
       "      <td>US</td>\n",
       "      <td>North America</td>\n",
       "      <td>Download</td>\n",
       "      <td>1,723</td>\n",
       "      <td>$12,061.00</td>\n",
       "      <td>$10,854.90</td>\n",
       "    </tr>\n",
       "    <tr>\n",
       "      <th>2</th>\n",
       "      <td>3</td>\n",
       "      <td>2018-08</td>\n",
       "      <td>iTunes/Apple</td>\n",
       "      <td>MRI Entertainment</td>\n",
       "      <td>Rebelution</td>\n",
       "      <td>Free Rein</td>\n",
       "      <td>NaN</td>\n",
       "      <td>NaN</td>\n",
       "      <td>NaN</td>\n",
       "      <td>657481106983</td>\n",
       "      <td>US</td>\n",
       "      <td>North America</td>\n",
       "      <td>Download</td>\n",
       "      <td>1,337</td>\n",
       "      <td>$9,359.00</td>\n",
       "      <td>$8,423.10</td>\n",
       "    </tr>\n",
       "    <tr>\n",
       "      <th>3</th>\n",
       "      <td>4</td>\n",
       "      <td>2021-08</td>\n",
       "      <td>iTunes/Apple</td>\n",
       "      <td>MRI Entertainment</td>\n",
       "      <td>Rebelution</td>\n",
       "      <td>In the Moment</td>\n",
       "      <td>NaN</td>\n",
       "      <td>NaN</td>\n",
       "      <td>NaN</td>\n",
       "      <td>657481109182</td>\n",
       "      <td>US</td>\n",
       "      <td>North America</td>\n",
       "      <td>Download</td>\n",
       "      <td>734</td>\n",
       "      <td>$5,138.00</td>\n",
       "      <td>$4,624.20</td>\n",
       "    </tr>\n",
       "    <tr>\n",
       "      <th>4</th>\n",
       "      <td>5</td>\n",
       "      <td>2018-08</td>\n",
       "      <td>iTunes/Apple</td>\n",
       "      <td>MRI Entertainment</td>\n",
       "      <td>Protoje</td>\n",
       "      <td>A Matter of Time</td>\n",
       "      <td>NaN</td>\n",
       "      <td>NaN</td>\n",
       "      <td>NaN</td>\n",
       "      <td>657481106884</td>\n",
       "      <td>US</td>\n",
       "      <td>North America</td>\n",
       "      <td>Download</td>\n",
       "      <td>685</td>\n",
       "      <td>$4,795.00</td>\n",
       "      <td>$4,315.50</td>\n",
       "    </tr>\n",
       "  </tbody>\n",
       "</table>\n",
       "</div>"
      ],
      "text/plain": [
       "   Unnamed: 0 Statement Month    Store Name         Label Name Artist Name  \\\n",
       "0           1         2018-07  iTunes/Apple  MRI Entertainment  Rebelution   \n",
       "1           2         2021-07  iTunes/Apple  MRI Entertainment  Rebelution   \n",
       "2           3         2018-08  iTunes/Apple  MRI Entertainment  Rebelution   \n",
       "3           4         2021-08  iTunes/Apple  MRI Entertainment  Rebelution   \n",
       "4           5         2018-08  iTunes/Apple  MRI Entertainment     Protoje   \n",
       "\n",
       "       Release Name Track Artist (Performer) Track Name ISRC   Display Upc  \\\n",
       "0         Free Rein                      NaN        NaN  NaN  657481106983   \n",
       "1     In the Moment                      NaN        NaN  NaN  657481109182   \n",
       "2         Free Rein                      NaN        NaN  NaN  657481106983   \n",
       "3     In the Moment                      NaN        NaN  NaN  657481109182   \n",
       "4  A Matter of Time                      NaN        NaN  NaN  657481106884   \n",
       "\n",
       "  Country Code      Continent  \\\n",
       "0           US  North America   \n",
       "1           US  North America   \n",
       "2           US  North America   \n",
       "3           US  North America   \n",
       "4           US  North America   \n",
       "\n",
       "  Stream Ad-Supp, Stream Prem, Download, Physical, Locker, Other  Units  \\\n",
       "0                                           Download              6,650   \n",
       "1                                           Download              1,723   \n",
       "2                                           Download              1,337   \n",
       "3                                           Download                734   \n",
       "4                                           Download                685   \n",
       "\n",
       "  Gross Revenue USD Net Revenue USD  \n",
       "0        $46,550.00      $41,895.00  \n",
       "1        $12,061.00      $10,854.90  \n",
       "2         $9,359.00       $8,423.10  \n",
       "3         $5,138.00       $4,624.20  \n",
       "4         $4,795.00       $4,315.50  "
      ]
     },
     "execution_count": 5,
     "metadata": {},
     "output_type": "execute_result"
    }
   ],
   "source": [
    "df.head()"
   ]
  },
  {
   "cell_type": "code",
   "execution_count": 6,
   "metadata": {},
   "outputs": [
    {
     "data": {
      "text/plain": [
       "Unnamed: 0                                                            0\n",
       "Statement Month                                                       0\n",
       "Store Name                                                            0\n",
       "Label Name                                                            0\n",
       "Artist Name                                                           0\n",
       "Release Name                                                          0\n",
       "Track Artist (Performer)                                          47077\n",
       "Track Name                                                         6521\n",
       "ISRC                                                               6521\n",
       "Display Upc                                                           0\n",
       "Country Code                                                       1689\n",
       "Continent                                                             0\n",
       "Stream Ad-Supp, Stream Prem, Download, Physical, Locker, Other        0\n",
       "Units                                                                 0\n",
       "Gross Revenue USD                                                     0\n",
       "Net Revenue USD                                                       0\n",
       "dtype: int64"
      ]
     },
     "execution_count": 6,
     "metadata": {},
     "output_type": "execute_result"
    }
   ],
   "source": [
    "df.isnull().sum()"
   ]
  },
  {
   "cell_type": "code",
   "execution_count": 7,
   "metadata": {},
   "outputs": [
    {
     "data": {
      "text/plain": [
       "Unnamed: 0                                                        4757930\n",
       "Statement Month                                                        44\n",
       "Store Name                                                             85\n",
       "Label Name                                                              1\n",
       "Artist Name                                                            36\n",
       "Release Name                                                          254\n",
       "Track Artist (Performer)                                              143\n",
       "Track Name                                                           1119\n",
       "ISRC                                                                 1181\n",
       "Display Upc                                                           287\n",
       "Country Code                                                          229\n",
       "Continent                                                               6\n",
       "Stream Ad-Supp, Stream Prem, Download, Physical, Locker, Other          5\n",
       "Units                                                               23286\n",
       "Gross Revenue USD                                                   16258\n",
       "Net Revenue USD                                                     15523\n",
       "dtype: int64"
      ]
     },
     "execution_count": 7,
     "metadata": {},
     "output_type": "execute_result"
    }
   ],
   "source": [
    "df.nunique()"
   ]
  },
  {
   "cell_type": "code",
   "execution_count": 10,
   "metadata": {},
   "outputs": [
    {
     "name": "stdout",
     "output_type": "stream",
     "text": [
      "<class 'pandas.core.frame.DataFrame'>\n",
      "RangeIndex: 4757930 entries, 0 to 4757929\n",
      "Data columns (total 16 columns):\n",
      " #   Column                                                          Dtype         \n",
      "---  ------                                                          -----         \n",
      " 0   Unnamed: 0                                                      int64         \n",
      " 1   Statement Month                                                 datetime64[ns]\n",
      " 2   Store Name                                                      object        \n",
      " 3   Label Name                                                      object        \n",
      " 4   Artist Name                                                     object        \n",
      " 5   Release Name                                                    object        \n",
      " 6   Track Artist (Performer)                                        object        \n",
      " 7   Track Name                                                      object        \n",
      " 8   ISRC                                                            object        \n",
      " 9   Display Upc                                                     int64         \n",
      " 10  Country Code                                                    object        \n",
      " 11  Continent                                                       object        \n",
      " 12  Stream Ad-Supp, Stream Prem, Download, Physical, Locker, Other  object        \n",
      " 13  Units                                                           object        \n",
      " 14  Gross Revenue USD                                               float64       \n",
      " 15  Net Revenue USD                                                 float64       \n",
      "dtypes: datetime64[ns](1), float64(2), int64(2), object(11)\n",
      "memory usage: 580.8+ MB\n"
     ]
    }
   ],
   "source": [
    "df.info()"
   ]
  },
  {
   "cell_type": "code",
   "execution_count": 194,
   "metadata": {},
   "outputs": [
    {
     "ename": "AttributeError",
     "evalue": "Can only use .str accessor with string values!",
     "output_type": "error",
     "traceback": [
      "\u001b[0;31m---------------------------------------------------------------------------\u001b[0m",
      "\u001b[0;31mAttributeError\u001b[0m                            Traceback (most recent call last)",
      "\u001b[0;32m<ipython-input-194-0e99f67f7975>\u001b[0m in \u001b[0;36m<module>\u001b[0;34m\u001b[0m\n\u001b[1;32m      4\u001b[0m \u001b[0;31m#Adjust column type\u001b[0m\u001b[0;34m\u001b[0m\u001b[0;34m\u001b[0m\u001b[0;34m\u001b[0m\u001b[0m\n\u001b[1;32m      5\u001b[0m \u001b[0;31m## Gross Revenue to float\u001b[0m\u001b[0;34m\u001b[0m\u001b[0;34m\u001b[0m\u001b[0;34m\u001b[0m\u001b[0m\n\u001b[0;32m----> 6\u001b[0;31m \u001b[0mdf\u001b[0m\u001b[0;34m[\u001b[0m\u001b[0;34m'Gross Revenue USD'\u001b[0m\u001b[0;34m]\u001b[0m \u001b[0;34m=\u001b[0m \u001b[0mdf\u001b[0m\u001b[0;34m[\u001b[0m\u001b[0;34m'Gross Revenue USD'\u001b[0m\u001b[0;34m]\u001b[0m\u001b[0;34m.\u001b[0m\u001b[0mstr\u001b[0m\u001b[0;34m.\u001b[0m\u001b[0mreplace\u001b[0m\u001b[0;34m(\u001b[0m\u001b[0;34m'$'\u001b[0m\u001b[0;34m,\u001b[0m\u001b[0;34m''\u001b[0m\u001b[0;34m)\u001b[0m\u001b[0;34m.\u001b[0m\u001b[0mstr\u001b[0m\u001b[0;34m.\u001b[0m\u001b[0mreplace\u001b[0m\u001b[0;34m(\u001b[0m\u001b[0;34m','\u001b[0m\u001b[0;34m,\u001b[0m\u001b[0;34m''\u001b[0m\u001b[0;34m)\u001b[0m\u001b[0;34m.\u001b[0m\u001b[0mastype\u001b[0m\u001b[0;34m(\u001b[0m\u001b[0;34m'float'\u001b[0m\u001b[0;34m)\u001b[0m\u001b[0;34m\u001b[0m\u001b[0;34m\u001b[0m\u001b[0m\n\u001b[0m\u001b[1;32m      7\u001b[0m \u001b[0;31m## Net Revenue to float\u001b[0m\u001b[0;34m\u001b[0m\u001b[0;34m\u001b[0m\u001b[0;34m\u001b[0m\u001b[0m\n\u001b[1;32m      8\u001b[0m \u001b[0mdf\u001b[0m\u001b[0;34m[\u001b[0m\u001b[0;34m'Net Revenue USD'\u001b[0m\u001b[0;34m]\u001b[0m \u001b[0;34m=\u001b[0m \u001b[0mdf\u001b[0m\u001b[0;34m[\u001b[0m\u001b[0;34m'Net Revenue USD'\u001b[0m\u001b[0;34m]\u001b[0m\u001b[0;34m.\u001b[0m\u001b[0mstr\u001b[0m\u001b[0;34m.\u001b[0m\u001b[0mreplace\u001b[0m\u001b[0;34m(\u001b[0m\u001b[0;34m'$'\u001b[0m\u001b[0;34m,\u001b[0m\u001b[0;34m''\u001b[0m\u001b[0;34m)\u001b[0m\u001b[0;34m.\u001b[0m\u001b[0mstr\u001b[0m\u001b[0;34m.\u001b[0m\u001b[0mreplace\u001b[0m\u001b[0;34m(\u001b[0m\u001b[0;34m','\u001b[0m\u001b[0;34m,\u001b[0m\u001b[0;34m''\u001b[0m\u001b[0;34m)\u001b[0m\u001b[0;34m.\u001b[0m\u001b[0mastype\u001b[0m\u001b[0;34m(\u001b[0m\u001b[0;34m'float'\u001b[0m\u001b[0;34m)\u001b[0m\u001b[0;34m\u001b[0m\u001b[0;34m\u001b[0m\u001b[0m\n",
      "\u001b[0;32m~/opt/anaconda3/lib/python3.8/site-packages/pandas/core/generic.py\u001b[0m in \u001b[0;36m__getattr__\u001b[0;34m(self, name)\u001b[0m\n\u001b[1;32m   5268\u001b[0m             \u001b[0;32mor\u001b[0m \u001b[0mname\u001b[0m \u001b[0;32min\u001b[0m \u001b[0mself\u001b[0m\u001b[0;34m.\u001b[0m\u001b[0m_accessors\u001b[0m\u001b[0;34m\u001b[0m\u001b[0;34m\u001b[0m\u001b[0m\n\u001b[1;32m   5269\u001b[0m         ):\n\u001b[0;32m-> 5270\u001b[0;31m             \u001b[0;32mreturn\u001b[0m \u001b[0mobject\u001b[0m\u001b[0;34m.\u001b[0m\u001b[0m__getattribute__\u001b[0m\u001b[0;34m(\u001b[0m\u001b[0mself\u001b[0m\u001b[0;34m,\u001b[0m \u001b[0mname\u001b[0m\u001b[0;34m)\u001b[0m\u001b[0;34m\u001b[0m\u001b[0;34m\u001b[0m\u001b[0m\n\u001b[0m\u001b[1;32m   5271\u001b[0m         \u001b[0;32melse\u001b[0m\u001b[0;34m:\u001b[0m\u001b[0;34m\u001b[0m\u001b[0;34m\u001b[0m\u001b[0m\n\u001b[1;32m   5272\u001b[0m             \u001b[0;32mif\u001b[0m \u001b[0mself\u001b[0m\u001b[0;34m.\u001b[0m\u001b[0m_info_axis\u001b[0m\u001b[0;34m.\u001b[0m\u001b[0m_can_hold_identifiers_and_holds_name\u001b[0m\u001b[0;34m(\u001b[0m\u001b[0mname\u001b[0m\u001b[0;34m)\u001b[0m\u001b[0;34m:\u001b[0m\u001b[0;34m\u001b[0m\u001b[0;34m\u001b[0m\u001b[0m\n",
      "\u001b[0;32m~/opt/anaconda3/lib/python3.8/site-packages/pandas/core/accessor.py\u001b[0m in \u001b[0;36m__get__\u001b[0;34m(self, obj, cls)\u001b[0m\n\u001b[1;32m    185\u001b[0m             \u001b[0;31m# we're accessing the attribute of the class, i.e., Dataset.geo\u001b[0m\u001b[0;34m\u001b[0m\u001b[0;34m\u001b[0m\u001b[0;34m\u001b[0m\u001b[0m\n\u001b[1;32m    186\u001b[0m             \u001b[0;32mreturn\u001b[0m \u001b[0mself\u001b[0m\u001b[0;34m.\u001b[0m\u001b[0m_accessor\u001b[0m\u001b[0;34m\u001b[0m\u001b[0;34m\u001b[0m\u001b[0m\n\u001b[0;32m--> 187\u001b[0;31m         \u001b[0maccessor_obj\u001b[0m \u001b[0;34m=\u001b[0m \u001b[0mself\u001b[0m\u001b[0;34m.\u001b[0m\u001b[0m_accessor\u001b[0m\u001b[0;34m(\u001b[0m\u001b[0mobj\u001b[0m\u001b[0;34m)\u001b[0m\u001b[0;34m\u001b[0m\u001b[0;34m\u001b[0m\u001b[0m\n\u001b[0m\u001b[1;32m    188\u001b[0m         \u001b[0;31m# Replace the property with the accessor object. Inspired by:\u001b[0m\u001b[0;34m\u001b[0m\u001b[0;34m\u001b[0m\u001b[0;34m\u001b[0m\u001b[0m\n\u001b[1;32m    189\u001b[0m         \u001b[0;31m# http://www.pydanny.com/cached-property.html\u001b[0m\u001b[0;34m\u001b[0m\u001b[0;34m\u001b[0m\u001b[0;34m\u001b[0m\u001b[0m\n",
      "\u001b[0;32m~/opt/anaconda3/lib/python3.8/site-packages/pandas/core/strings.py\u001b[0m in \u001b[0;36m__init__\u001b[0;34m(self, data)\u001b[0m\n\u001b[1;32m   2039\u001b[0m \u001b[0;34m\u001b[0m\u001b[0m\n\u001b[1;32m   2040\u001b[0m     \u001b[0;32mdef\u001b[0m \u001b[0m__init__\u001b[0m\u001b[0;34m(\u001b[0m\u001b[0mself\u001b[0m\u001b[0;34m,\u001b[0m \u001b[0mdata\u001b[0m\u001b[0;34m)\u001b[0m\u001b[0;34m:\u001b[0m\u001b[0;34m\u001b[0m\u001b[0;34m\u001b[0m\u001b[0m\n\u001b[0;32m-> 2041\u001b[0;31m         \u001b[0mself\u001b[0m\u001b[0;34m.\u001b[0m\u001b[0m_inferred_dtype\u001b[0m \u001b[0;34m=\u001b[0m \u001b[0mself\u001b[0m\u001b[0;34m.\u001b[0m\u001b[0m_validate\u001b[0m\u001b[0;34m(\u001b[0m\u001b[0mdata\u001b[0m\u001b[0;34m)\u001b[0m\u001b[0;34m\u001b[0m\u001b[0;34m\u001b[0m\u001b[0m\n\u001b[0m\u001b[1;32m   2042\u001b[0m         \u001b[0mself\u001b[0m\u001b[0;34m.\u001b[0m\u001b[0m_is_categorical\u001b[0m \u001b[0;34m=\u001b[0m \u001b[0mis_categorical_dtype\u001b[0m\u001b[0;34m(\u001b[0m\u001b[0mdata\u001b[0m\u001b[0;34m)\u001b[0m\u001b[0;34m\u001b[0m\u001b[0;34m\u001b[0m\u001b[0m\n\u001b[1;32m   2043\u001b[0m         \u001b[0mself\u001b[0m\u001b[0;34m.\u001b[0m\u001b[0m_is_string\u001b[0m \u001b[0;34m=\u001b[0m \u001b[0mdata\u001b[0m\u001b[0;34m.\u001b[0m\u001b[0mdtype\u001b[0m\u001b[0;34m.\u001b[0m\u001b[0mname\u001b[0m \u001b[0;34m==\u001b[0m \u001b[0;34m\"string\"\u001b[0m\u001b[0;34m\u001b[0m\u001b[0;34m\u001b[0m\u001b[0m\n",
      "\u001b[0;32m~/opt/anaconda3/lib/python3.8/site-packages/pandas/core/strings.py\u001b[0m in \u001b[0;36m_validate\u001b[0;34m(data)\u001b[0m\n\u001b[1;32m   2096\u001b[0m \u001b[0;34m\u001b[0m\u001b[0m\n\u001b[1;32m   2097\u001b[0m         \u001b[0;32mif\u001b[0m \u001b[0minferred_dtype\u001b[0m \u001b[0;32mnot\u001b[0m \u001b[0;32min\u001b[0m \u001b[0mallowed_types\u001b[0m\u001b[0;34m:\u001b[0m\u001b[0;34m\u001b[0m\u001b[0;34m\u001b[0m\u001b[0m\n\u001b[0;32m-> 2098\u001b[0;31m             \u001b[0;32mraise\u001b[0m \u001b[0mAttributeError\u001b[0m\u001b[0;34m(\u001b[0m\u001b[0;34m\"Can only use .str accessor with string values!\"\u001b[0m\u001b[0;34m)\u001b[0m\u001b[0;34m\u001b[0m\u001b[0;34m\u001b[0m\u001b[0m\n\u001b[0m\u001b[1;32m   2099\u001b[0m         \u001b[0;32mreturn\u001b[0m \u001b[0minferred_dtype\u001b[0m\u001b[0;34m\u001b[0m\u001b[0;34m\u001b[0m\u001b[0m\n\u001b[1;32m   2100\u001b[0m \u001b[0;34m\u001b[0m\u001b[0m\n",
      "\u001b[0;31mAttributeError\u001b[0m: Can only use .str accessor with string values!"
     ]
    }
   ],
   "source": [
    "from datetime import datetime\n",
    "# Statement Month to datetime\n",
    "df['Statement Month'] = pd.to_datetime(df['Statement Month'])\n",
    "#Adjust column type\n",
    "## Gross Revenue to float\n",
    "df['Gross Revenue USD'] = df['Gross Revenue USD'].str.replace('$','').str.replace(',','').astype('float')\n",
    "## Net Revenue to float\n",
    "df['Net Revenue USD'] = df['Net Revenue USD'].str.replace('$','').str.replace(',','').astype('float')\n",
    "## Units to int\n",
    "df['Units'] = df['Units'].str.replace(',','').astype('int')\n",
    "# Unite single band called by two different names\n",
    "df['Artist Name'] = np.where(df['Artist Name'] == 'Easy Star All Stars', 'Easy Star All-Stars', df['Artist Name'])"
   ]
  },
  {
   "cell_type": "code",
   "execution_count": 12,
   "metadata": {},
   "outputs": [
    {
     "data": {
      "text/html": [
       "<div>\n",
       "<style scoped>\n",
       "    .dataframe tbody tr th:only-of-type {\n",
       "        vertical-align: middle;\n",
       "    }\n",
       "\n",
       "    .dataframe tbody tr th {\n",
       "        vertical-align: top;\n",
       "    }\n",
       "\n",
       "    .dataframe thead th {\n",
       "        text-align: right;\n",
       "    }\n",
       "</style>\n",
       "<table border=\"1\" class=\"dataframe\">\n",
       "  <thead>\n",
       "    <tr style=\"text-align: right;\">\n",
       "      <th></th>\n",
       "      <th>Unnamed: 0</th>\n",
       "      <th>Statement Month</th>\n",
       "      <th>Store Name</th>\n",
       "      <th>Label Name</th>\n",
       "      <th>Artist Name</th>\n",
       "      <th>Release Name</th>\n",
       "      <th>Track Artist (Performer)</th>\n",
       "      <th>Track Name</th>\n",
       "      <th>ISRC</th>\n",
       "      <th>Display Upc</th>\n",
       "      <th>Country Code</th>\n",
       "      <th>Continent</th>\n",
       "      <th>Stream Ad-Supp, Stream Prem, Download, Physical, Locker, Other</th>\n",
       "      <th>Units</th>\n",
       "      <th>Gross Revenue USD</th>\n",
       "      <th>Net Revenue USD</th>\n",
       "    </tr>\n",
       "  </thead>\n",
       "  <tbody>\n",
       "    <tr>\n",
       "      <th>0</th>\n",
       "      <td>1</td>\n",
       "      <td>2018-07-01</td>\n",
       "      <td>iTunes/Apple</td>\n",
       "      <td>MRI Entertainment</td>\n",
       "      <td>Rebelution</td>\n",
       "      <td>Free Rein</td>\n",
       "      <td>NaN</td>\n",
       "      <td>NaN</td>\n",
       "      <td>NaN</td>\n",
       "      <td>657481106983</td>\n",
       "      <td>US</td>\n",
       "      <td>North America</td>\n",
       "      <td>Download</td>\n",
       "      <td>6,650</td>\n",
       "      <td>46550.0</td>\n",
       "      <td>41895.0</td>\n",
       "    </tr>\n",
       "    <tr>\n",
       "      <th>1</th>\n",
       "      <td>2</td>\n",
       "      <td>2021-07-01</td>\n",
       "      <td>iTunes/Apple</td>\n",
       "      <td>MRI Entertainment</td>\n",
       "      <td>Rebelution</td>\n",
       "      <td>In the Moment</td>\n",
       "      <td>NaN</td>\n",
       "      <td>NaN</td>\n",
       "      <td>NaN</td>\n",
       "      <td>657481109182</td>\n",
       "      <td>US</td>\n",
       "      <td>North America</td>\n",
       "      <td>Download</td>\n",
       "      <td>1,723</td>\n",
       "      <td>12061.0</td>\n",
       "      <td>10854.9</td>\n",
       "    </tr>\n",
       "    <tr>\n",
       "      <th>2</th>\n",
       "      <td>3</td>\n",
       "      <td>2018-08-01</td>\n",
       "      <td>iTunes/Apple</td>\n",
       "      <td>MRI Entertainment</td>\n",
       "      <td>Rebelution</td>\n",
       "      <td>Free Rein</td>\n",
       "      <td>NaN</td>\n",
       "      <td>NaN</td>\n",
       "      <td>NaN</td>\n",
       "      <td>657481106983</td>\n",
       "      <td>US</td>\n",
       "      <td>North America</td>\n",
       "      <td>Download</td>\n",
       "      <td>1,337</td>\n",
       "      <td>9359.0</td>\n",
       "      <td>8423.1</td>\n",
       "    </tr>\n",
       "    <tr>\n",
       "      <th>3</th>\n",
       "      <td>4</td>\n",
       "      <td>2021-08-01</td>\n",
       "      <td>iTunes/Apple</td>\n",
       "      <td>MRI Entertainment</td>\n",
       "      <td>Rebelution</td>\n",
       "      <td>In the Moment</td>\n",
       "      <td>NaN</td>\n",
       "      <td>NaN</td>\n",
       "      <td>NaN</td>\n",
       "      <td>657481109182</td>\n",
       "      <td>US</td>\n",
       "      <td>North America</td>\n",
       "      <td>Download</td>\n",
       "      <td>734</td>\n",
       "      <td>5138.0</td>\n",
       "      <td>4624.2</td>\n",
       "    </tr>\n",
       "    <tr>\n",
       "      <th>4</th>\n",
       "      <td>5</td>\n",
       "      <td>2018-08-01</td>\n",
       "      <td>iTunes/Apple</td>\n",
       "      <td>MRI Entertainment</td>\n",
       "      <td>Protoje</td>\n",
       "      <td>A Matter of Time</td>\n",
       "      <td>NaN</td>\n",
       "      <td>NaN</td>\n",
       "      <td>NaN</td>\n",
       "      <td>657481106884</td>\n",
       "      <td>US</td>\n",
       "      <td>North America</td>\n",
       "      <td>Download</td>\n",
       "      <td>685</td>\n",
       "      <td>4795.0</td>\n",
       "      <td>4315.5</td>\n",
       "    </tr>\n",
       "  </tbody>\n",
       "</table>\n",
       "</div>"
      ],
      "text/plain": [
       "   Unnamed: 0 Statement Month    Store Name         Label Name Artist Name  \\\n",
       "0           1      2018-07-01  iTunes/Apple  MRI Entertainment  Rebelution   \n",
       "1           2      2021-07-01  iTunes/Apple  MRI Entertainment  Rebelution   \n",
       "2           3      2018-08-01  iTunes/Apple  MRI Entertainment  Rebelution   \n",
       "3           4      2021-08-01  iTunes/Apple  MRI Entertainment  Rebelution   \n",
       "4           5      2018-08-01  iTunes/Apple  MRI Entertainment     Protoje   \n",
       "\n",
       "       Release Name Track Artist (Performer) Track Name ISRC   Display Upc  \\\n",
       "0         Free Rein                      NaN        NaN  NaN  657481106983   \n",
       "1     In the Moment                      NaN        NaN  NaN  657481109182   \n",
       "2         Free Rein                      NaN        NaN  NaN  657481106983   \n",
       "3     In the Moment                      NaN        NaN  NaN  657481109182   \n",
       "4  A Matter of Time                      NaN        NaN  NaN  657481106884   \n",
       "\n",
       "  Country Code      Continent  \\\n",
       "0           US  North America   \n",
       "1           US  North America   \n",
       "2           US  North America   \n",
       "3           US  North America   \n",
       "4           US  North America   \n",
       "\n",
       "  Stream Ad-Supp, Stream Prem, Download, Physical, Locker, Other  Units  \\\n",
       "0                                           Download              6,650   \n",
       "1                                           Download              1,723   \n",
       "2                                           Download              1,337   \n",
       "3                                           Download                734   \n",
       "4                                           Download                685   \n",
       "\n",
       "   Gross Revenue USD  Net Revenue USD  \n",
       "0            46550.0          41895.0  \n",
       "1            12061.0          10854.9  \n",
       "2             9359.0           8423.1  \n",
       "3             5138.0           4624.2  \n",
       "4             4795.0           4315.5  "
      ]
     },
     "execution_count": 12,
     "metadata": {},
     "output_type": "execute_result"
    }
   ],
   "source": [
    "# Check \n",
    "df.head()"
   ]
  },
  {
   "cell_type": "markdown",
   "metadata": {},
   "source": [
    "### Data Cleaning"
   ]
  },
  {
   "cell_type": "code",
   "execution_count": 13,
   "metadata": {},
   "outputs": [],
   "source": [
    "# Unite single band called by two different names\n",
    "df['Artist Name'] = np.where(df['Artist Name'] == 'Easy Star All Stars', 'Easy Star All-Stars', df['Artist Name'])"
   ]
  },
  {
   "cell_type": "markdown",
   "metadata": {},
   "source": [
    "## Exploratory Data Analysis\n",
    "### Data Profile - Store & Streaming Levels"
   ]
  },
  {
   "cell_type": "markdown",
   "metadata": {},
   "source": [
    "### Total Net Revenue by Country"
   ]
  },
  {
   "cell_type": "code",
   "execution_count": 15,
   "metadata": {},
   "outputs": [
    {
     "data": {
      "text/html": [
       "<div>\n",
       "<style scoped>\n",
       "    .dataframe tbody tr th:only-of-type {\n",
       "        vertical-align: middle;\n",
       "    }\n",
       "\n",
       "    .dataframe tbody tr th {\n",
       "        vertical-align: top;\n",
       "    }\n",
       "\n",
       "    .dataframe thead th {\n",
       "        text-align: right;\n",
       "    }\n",
       "</style>\n",
       "<table border=\"1\" class=\"dataframe\">\n",
       "  <thead>\n",
       "    <tr style=\"text-align: right;\">\n",
       "      <th></th>\n",
       "      <th>Gross Revenue USD</th>\n",
       "      <th>Net Revenue USD</th>\n",
       "    </tr>\n",
       "    <tr>\n",
       "      <th>Country Code</th>\n",
       "      <th></th>\n",
       "      <th></th>\n",
       "    </tr>\n",
       "  </thead>\n",
       "  <tbody>\n",
       "    <tr>\n",
       "      <th>US</th>\n",
       "      <td>4.791706e+06</td>\n",
       "      <td>4.312545e+06</td>\n",
       "    </tr>\n",
       "    <tr>\n",
       "      <th>GB</th>\n",
       "      <td>1.527124e+05</td>\n",
       "      <td>1.374424e+05</td>\n",
       "    </tr>\n",
       "    <tr>\n",
       "      <th>CA</th>\n",
       "      <td>8.690134e+04</td>\n",
       "      <td>7.820079e+04</td>\n",
       "    </tr>\n",
       "    <tr>\n",
       "      <th>DE</th>\n",
       "      <td>4.379976e+04</td>\n",
       "      <td>3.941159e+04</td>\n",
       "    </tr>\n",
       "    <tr>\n",
       "      <th>BR</th>\n",
       "      <td>3.829593e+04</td>\n",
       "      <td>3.446375e+04</td>\n",
       "    </tr>\n",
       "  </tbody>\n",
       "</table>\n",
       "</div>"
      ],
      "text/plain": [
       "              Gross Revenue USD  Net Revenue USD\n",
       "Country Code                                    \n",
       "US                 4.791706e+06     4.312545e+06\n",
       "GB                 1.527124e+05     1.374424e+05\n",
       "CA                 8.690134e+04     7.820079e+04\n",
       "DE                 4.379976e+04     3.941159e+04\n",
       "BR                 3.829593e+04     3.446375e+04"
      ]
     },
     "execution_count": 15,
     "metadata": {},
     "output_type": "execute_result"
    }
   ],
   "source": [
    "# Pivot Table\n",
    "Country = df.pivot_table(index = ['Country Code'], values = ['Gross Revenue USD','Net Revenue USD'], aggfunc = 'sum')\n",
    "Country.sort_values(by='Net Revenue USD', ascending=False).head()"
   ]
  },
  {
   "cell_type": "code",
   "execution_count": 151,
   "metadata": {},
   "outputs": [
    {
     "data": {
      "text/plain": [
       "Gross Revenue USD    4.791706e+06\n",
       "dtype: float64"
      ]
     },
     "execution_count": 151,
     "metadata": {},
     "output_type": "execute_result"
    }
   ],
   "source": [
    "# US is the largest market (given market share)\n",
    "Country_df = Country.reset_index()\n",
    "Country_US = Country_df.loc[Country_df['Country Code'] == 'US', ['Gross Revenue USD']].sum(axis=0)\n",
    "Country_US\n",
    "#plt.pie(Country)"
   ]
  },
  {
   "cell_type": "code",
   "execution_count": 152,
   "metadata": {},
   "outputs": [
    {
     "data": {
      "text/plain": [
       "Gross Revenue USD    642366.83\n",
       "dtype: float64"
      ]
     },
     "execution_count": 152,
     "metadata": {},
     "output_type": "execute_result"
    }
   ],
   "source": [
    "Country_Others = Country_df.loc[Country_df['Country Code'] != 'US', ['Gross Revenue USD']].sum(axis=0)\n",
    "Country_Others"
   ]
  },
  {
   "cell_type": "code",
   "execution_count": 153,
   "metadata": {},
   "outputs": [
    {
     "name": "stderr",
     "output_type": "stream",
     "text": [
      "<ipython-input-153-a83826ef90c2>:6: MatplotlibDeprecationWarning: Non-1D inputs to pie() are currently squeeze()d, but this behavior is deprecated since 3.1 and will be removed in 3.3; pass a 1D array instead.\n",
      "  plt.pie(df_pie, labels = mylabels, explode = myexplode, autopct='%1.1f%%')\n"
     ]
    },
    {
     "data": {
      "text/plain": [
       "Text(0.5, 1.0, 'Market Share - Total Gross Revenue by Country')"
      ]
     },
     "execution_count": 153,
     "metadata": {},
     "output_type": "execute_result"
    },
    {
     "data": {
      "image/png": "[encoded data removed]",
      "text/plain": [
       "<Figure size 432x288 with 1 Axes>"
      ]
     },
     "metadata": {},
     "output_type": "display_data"
    }
   ],
   "source": [
    "data_pie = [['US', 4.791706e+06], ['Other', 642366.83]]\n",
    "df_pie = pd.DataFrame(data_pie, columns = ['Country', 'Gross Revenue USD'])\n",
    "df_pie = df_pie.set_index('Country')\n",
    "mylabels = ['US', 'Other Countries']\n",
    "myexplode = [0.2, 0]\n",
    "plt.pie(df_pie, labels = mylabels, explode = myexplode, autopct='%1.1f%%')\n",
    "plt.title(\"Market Share - Total Gross Revenue by Country\")"
   ]
  },
  {
   "cell_type": "markdown",
   "metadata": {},
   "source": [
    "### Total Net Revenue by Store"
   ]
  },
  {
   "cell_type": "code",
   "execution_count": 154,
   "metadata": {},
   "outputs": [
    {
     "data": {
      "text/html": [
       "<div>\n",
       "<style scoped>\n",
       "    .dataframe tbody tr th:only-of-type {\n",
       "        vertical-align: middle;\n",
       "    }\n",
       "\n",
       "    .dataframe tbody tr th {\n",
       "        vertical-align: top;\n",
       "    }\n",
       "\n",
       "    .dataframe thead th {\n",
       "        text-align: right;\n",
       "    }\n",
       "</style>\n",
       "<table border=\"1\" class=\"dataframe\">\n",
       "  <thead>\n",
       "    <tr style=\"text-align: right;\">\n",
       "      <th></th>\n",
       "      <th>Gross Revenue USD</th>\n",
       "    </tr>\n",
       "    <tr>\n",
       "      <th>Store Name</th>\n",
       "      <th></th>\n",
       "    </tr>\n",
       "  </thead>\n",
       "  <tbody>\n",
       "    <tr>\n",
       "      <th>Spotify</th>\n",
       "      <td>1.929694e+06</td>\n",
       "    </tr>\n",
       "    <tr>\n",
       "      <th>iTunes/Apple</th>\n",
       "      <td>1.492912e+06</td>\n",
       "    </tr>\n",
       "    <tr>\n",
       "      <th>Pandora</th>\n",
       "      <td>6.458172e+05</td>\n",
       "    </tr>\n",
       "    <tr>\n",
       "      <th>Amazon Unlimited</th>\n",
       "      <td>3.855544e+05</td>\n",
       "    </tr>\n",
       "    <tr>\n",
       "      <th>YouTube</th>\n",
       "      <td>2.647820e+05</td>\n",
       "    </tr>\n",
       "  </tbody>\n",
       "</table>\n",
       "</div>"
      ],
      "text/plain": [
       "                  Gross Revenue USD\n",
       "Store Name                         \n",
       "Spotify                1.929694e+06\n",
       "iTunes/Apple           1.492912e+06\n",
       "Pandora                6.458172e+05\n",
       "Amazon Unlimited       3.855544e+05\n",
       "YouTube                2.647820e+05"
      ]
     },
     "execution_count": 154,
     "metadata": {},
     "output_type": "execute_result"
    }
   ],
   "source": [
    "# Pivot Table\n",
    "Store = df.pivot_table(index = ['Store Name'], values = ['Gross Revenue USD'], aggfunc = 'sum')\n",
    "Store.sort_values(by='Gross Revenue USD', ascending=False).head()"
   ]
  },
  {
   "cell_type": "code",
   "execution_count": 159,
   "metadata": {},
   "outputs": [],
   "source": [
    "Store.to_csv('store.csv')"
   ]
  },
  {
   "cell_type": "code",
   "execution_count": 158,
   "metadata": {},
   "outputs": [
    {
     "data": {
      "text/plain": [
       "Text(0.5, 1.0, 'Top 5 Stores  Most Gross Revenue')"
      ]
     },
     "execution_count": 158,
     "metadata": {},
     "output_type": "execute_result"
    },
    {
     "data": {
      "image/png": "[encoded data removed]",
      "text/plain": [
       "<Figure size 432x288 with 1 Axes>"
      ]
     },
     "metadata": {
      "needs_background": "light"
     },
     "output_type": "display_data"
    }
   ],
   "source": [
    "Store_5 = Store.sort_values(by='Gross Revenue USD', ascending=False).head(5)\n",
    "Store_5 = Store_5.reset_index()\n",
    "plt.bar(Store_5['Store Name'], Store_5['Gross Revenue USD'])\n",
    "plt.xlabel(\"Store\")\n",
    "plt.ylabel(\"Gross Revenue USD\")\n",
    "plt.title(\"Top 5 Stores  Most Gross Revenue\")"
   ]
  },
  {
   "cell_type": "markdown",
   "metadata": {},
   "source": [
    "### Total Net Revenue by Store by Streaming type"
   ]
  },
  {
   "cell_type": "code",
   "execution_count": 53,
   "metadata": {},
   "outputs": [
    {
     "data": {
      "text/html": [
       "<div>\n",
       "<style scoped>\n",
       "    .dataframe tbody tr th:only-of-type {\n",
       "        vertical-align: middle;\n",
       "    }\n",
       "\n",
       "    .dataframe tbody tr th {\n",
       "        vertical-align: top;\n",
       "    }\n",
       "\n",
       "    .dataframe thead th {\n",
       "        text-align: right;\n",
       "    }\n",
       "</style>\n",
       "<table border=\"1\" class=\"dataframe\">\n",
       "  <thead>\n",
       "    <tr style=\"text-align: right;\">\n",
       "      <th></th>\n",
       "      <th>Store Name</th>\n",
       "      <th>Stream Ad-Supp, Stream Prem, Download, Physical, Locker, Other</th>\n",
       "      <th>Net Revenue USD</th>\n",
       "    </tr>\n",
       "  </thead>\n",
       "  <tbody>\n",
       "    <tr>\n",
       "      <th>0</th>\n",
       "      <td>7 Digital</td>\n",
       "      <td>Download</td>\n",
       "      <td>220.680000</td>\n",
       "    </tr>\n",
       "    <tr>\n",
       "      <th>1</th>\n",
       "      <td>AMI Entertainment</td>\n",
       "      <td>Stream Premium</td>\n",
       "      <td>4578.360000</td>\n",
       "    </tr>\n",
       "    <tr>\n",
       "      <th>2</th>\n",
       "      <td>AWA</td>\n",
       "      <td>Stream Ad-Supported</td>\n",
       "      <td>6.340000</td>\n",
       "    </tr>\n",
       "    <tr>\n",
       "      <th>3</th>\n",
       "      <td>AWA</td>\n",
       "      <td>Stream Premium</td>\n",
       "      <td>334.630000</td>\n",
       "    </tr>\n",
       "    <tr>\n",
       "      <th>4</th>\n",
       "      <td>AllSaints Music Group</td>\n",
       "      <td>Stream Ad-Supported</td>\n",
       "      <td>5.990000</td>\n",
       "    </tr>\n",
       "    <tr>\n",
       "      <th>...</th>\n",
       "      <td>...</td>\n",
       "      <td>...</td>\n",
       "      <td>...</td>\n",
       "    </tr>\n",
       "    <tr>\n",
       "      <th>129</th>\n",
       "      <td>iTunes/Apple</td>\n",
       "      <td>Locker</td>\n",
       "      <td>9709.640000</td>\n",
       "    </tr>\n",
       "    <tr>\n",
       "      <th>130</th>\n",
       "      <td>iTunes/Apple</td>\n",
       "      <td>Other</td>\n",
       "      <td>0.010000</td>\n",
       "    </tr>\n",
       "    <tr>\n",
       "      <th>131</th>\n",
       "      <td>iTunes/Apple</td>\n",
       "      <td>Stream Ad-Supported</td>\n",
       "      <td>150.660000</td>\n",
       "    </tr>\n",
       "    <tr>\n",
       "      <th>132</th>\n",
       "      <td>iTunes/Apple</td>\n",
       "      <td>Stream Premium</td>\n",
       "      <td>964528.320005</td>\n",
       "    </tr>\n",
       "    <tr>\n",
       "      <th>133</th>\n",
       "      <td>oMusic</td>\n",
       "      <td>Stream Premium</td>\n",
       "      <td>0.060000</td>\n",
       "    </tr>\n",
       "  </tbody>\n",
       "</table>\n",
       "<p>134 rows × 3 columns</p>\n",
       "</div>"
      ],
      "text/plain": [
       "                Store Name  \\\n",
       "0                7 Digital   \n",
       "1        AMI Entertainment   \n",
       "2                      AWA   \n",
       "3                      AWA   \n",
       "4    AllSaints Music Group   \n",
       "..                     ...   \n",
       "129           iTunes/Apple   \n",
       "130           iTunes/Apple   \n",
       "131           iTunes/Apple   \n",
       "132           iTunes/Apple   \n",
       "133                 oMusic   \n",
       "\n",
       "    Stream Ad-Supp, Stream Prem, Download, Physical, Locker, Other  \\\n",
       "0                                             Download               \n",
       "1                                       Stream Premium               \n",
       "2                                  Stream Ad-Supported               \n",
       "3                                       Stream Premium               \n",
       "4                                  Stream Ad-Supported               \n",
       "..                                                 ...               \n",
       "129                                             Locker               \n",
       "130                                              Other               \n",
       "131                                Stream Ad-Supported               \n",
       "132                                     Stream Premium               \n",
       "133                                     Stream Premium               \n",
       "\n",
       "     Net Revenue USD  \n",
       "0         220.680000  \n",
       "1        4578.360000  \n",
       "2           6.340000  \n",
       "3         334.630000  \n",
       "4           5.990000  \n",
       "..               ...  \n",
       "129      9709.640000  \n",
       "130         0.010000  \n",
       "131       150.660000  \n",
       "132    964528.320005  \n",
       "133         0.060000  \n",
       "\n",
       "[134 rows x 3 columns]"
      ]
     },
     "execution_count": 53,
     "metadata": {},
     "output_type": "execute_result"
    }
   ],
   "source": [
    "# Pivot Table\n",
    "Store_Stream = df.pivot_table(index = ['Store Name', 'Stream Ad-Supp, Stream Prem, Download, Physical, Locker, Other'], values = ['Net Revenue USD'], aggfunc = 'sum')\n",
    "#Store.sort_values(by='Net Revenue USD', ascending=False).head()\n",
    "Store_Stream = Store_Stream.reset_index()\n",
    "Store.to_csv('store.csv')"
   ]
  },
  {
   "cell_type": "code",
   "execution_count": 58,
   "metadata": {},
   "outputs": [],
   "source": [
    "top_5_store = ['Spotify', 'iTunes/Apple', 'Pandora', 'Amazon Unlimited', 'YouTube']\n",
    "Store_Stream = Store_Stream.pivot(index = 'Stream Ad-Supp, Stream Prem, Download, Physical, Locker, Other', columns = 'Store Name', values = 'Net Revenue USD')\n",
    "Store_Stream_5 = Store_Stream[top_5_store]"
   ]
  },
  {
   "cell_type": "code",
   "execution_count": 62,
   "metadata": {},
   "outputs": [
    {
     "data": {
      "text/html": [
       "<div>\n",
       "<style scoped>\n",
       "    .dataframe tbody tr th:only-of-type {\n",
       "        vertical-align: middle;\n",
       "    }\n",
       "\n",
       "    .dataframe tbody tr th {\n",
       "        vertical-align: top;\n",
       "    }\n",
       "\n",
       "    .dataframe thead th {\n",
       "        text-align: right;\n",
       "    }\n",
       "</style>\n",
       "<table border=\"1\" class=\"dataframe\">\n",
       "  <thead>\n",
       "    <tr style=\"text-align: right;\">\n",
       "      <th>Store Name</th>\n",
       "      <th>Stream Ad-Supp, Stream Prem, Download, Physical, Locker, Other</th>\n",
       "      <th>Spotify</th>\n",
       "      <th>iTunes/Apple</th>\n",
       "      <th>Pandora</th>\n",
       "      <th>Amazon Unlimited</th>\n",
       "      <th>YouTube</th>\n",
       "    </tr>\n",
       "  </thead>\n",
       "  <tbody>\n",
       "    <tr>\n",
       "      <th>0</th>\n",
       "      <td>Download</td>\n",
       "      <td>0.000000e+00</td>\n",
       "      <td>369200.330000</td>\n",
       "      <td>0.00</td>\n",
       "      <td>0.000000</td>\n",
       "      <td>0.00</td>\n",
       "    </tr>\n",
       "    <tr>\n",
       "      <th>1</th>\n",
       "      <td>Locker</td>\n",
       "      <td>0.000000e+00</td>\n",
       "      <td>9709.640000</td>\n",
       "      <td>0.00</td>\n",
       "      <td>0.000000</td>\n",
       "      <td>0.00</td>\n",
       "    </tr>\n",
       "    <tr>\n",
       "      <th>2</th>\n",
       "      <td>Other</td>\n",
       "      <td>0.000000e+00</td>\n",
       "      <td>0.010000</td>\n",
       "      <td>0.00</td>\n",
       "      <td>0.000000</td>\n",
       "      <td>0.00</td>\n",
       "    </tr>\n",
       "    <tr>\n",
       "      <th>3</th>\n",
       "      <td>Stream Ad-Supported</td>\n",
       "      <td>1.354221e+05</td>\n",
       "      <td>150.660000</td>\n",
       "      <td>225732.25</td>\n",
       "      <td>0.000000</td>\n",
       "      <td>238225.71</td>\n",
       "    </tr>\n",
       "    <tr>\n",
       "      <th>4</th>\n",
       "      <td>Stream Premium</td>\n",
       "      <td>1.601224e+06</td>\n",
       "      <td>964528.320005</td>\n",
       "      <td>355497.93</td>\n",
       "      <td>346994.650001</td>\n",
       "      <td>52.13</td>\n",
       "    </tr>\n",
       "  </tbody>\n",
       "</table>\n",
       "</div>"
      ],
      "text/plain": [
       "Store Name Stream Ad-Supp, Stream Prem, Download, Physical, Locker, Other  \\\n",
       "0                                                    Download               \n",
       "1                                                      Locker               \n",
       "2                                                       Other               \n",
       "3                                         Stream Ad-Supported               \n",
       "4                                              Stream Premium               \n",
       "\n",
       "Store Name       Spotify   iTunes/Apple    Pandora  Amazon Unlimited  \\\n",
       "0           0.000000e+00  369200.330000       0.00          0.000000   \n",
       "1           0.000000e+00    9709.640000       0.00          0.000000   \n",
       "2           0.000000e+00       0.010000       0.00          0.000000   \n",
       "3           1.354221e+05     150.660000  225732.25          0.000000   \n",
       "4           1.601224e+06  964528.320005  355497.93     346994.650001   \n",
       "\n",
       "Store Name    YouTube  \n",
       "0                0.00  \n",
       "1                0.00  \n",
       "2                0.00  \n",
       "3           238225.71  \n",
       "4               52.13  "
      ]
     },
     "execution_count": 62,
     "metadata": {},
     "output_type": "execute_result"
    }
   ],
   "source": [
    "Store_Stream_5 = Store_Stream_5.reset_index().fillna(0)"
   ]
  },
  {
   "cell_type": "code",
   "execution_count": 67,
   "metadata": {},
   "outputs": [],
   "source": [
    "Store_Stream_5.to_csv('store_stream.csv')"
   ]
  },
  {
   "cell_type": "code",
   "execution_count": null,
   "metadata": {},
   "outputs": [],
   "source": []
  },
  {
   "cell_type": "code",
   "execution_count": null,
   "metadata": {},
   "outputs": [],
   "source": []
  },
  {
   "cell_type": "code",
   "execution_count": null,
   "metadata": {},
   "outputs": [],
   "source": [
    "df['Year'] = pd.PeriodIndex(df['Statement Month'], freq='Y')"
   ]
  },
  {
   "cell_type": "code",
   "execution_count": null,
   "metadata": {},
   "outputs": [],
   "source": [
    "Net_year = df.pivot_table(index = ['Year', 'Store Name'], values = ['Net Revenue USD'], aggfunc = 'sum')"
   ]
  },
  {
   "cell_type": "code",
   "execution_count": null,
   "metadata": {},
   "outputs": [],
   "source": [
    "Net_year"
   ]
  },
  {
   "cell_type": "markdown",
   "metadata": {},
   "source": [
    "### Aggregate by quarter"
   ]
  },
  {
   "cell_type": "code",
   "execution_count": 160,
   "metadata": {},
   "outputs": [],
   "source": [
    "df['Quarter'] = pd.PeriodIndex(df['Statement Month'], freq='Q')\n",
    "Quarter = df.pivot_table(index = ['Quarter', 'Store Name'], values = ['Net Revenue USD'], aggfunc = 'sum')"
   ]
  },
  {
   "cell_type": "code",
   "execution_count": 161,
   "metadata": {},
   "outputs": [
    {
     "data": {
      "text/html": [
       "<div>\n",
       "<style scoped>\n",
       "    .dataframe tbody tr th:only-of-type {\n",
       "        vertical-align: middle;\n",
       "    }\n",
       "\n",
       "    .dataframe tbody tr th {\n",
       "        vertical-align: top;\n",
       "    }\n",
       "\n",
       "    .dataframe thead th {\n",
       "        text-align: right;\n",
       "    }\n",
       "</style>\n",
       "<table border=\"1\" class=\"dataframe\">\n",
       "  <thead>\n",
       "    <tr style=\"text-align: right;\">\n",
       "      <th></th>\n",
       "      <th>Quarter</th>\n",
       "      <th>Store Name</th>\n",
       "      <th>Net Revenue USD</th>\n",
       "    </tr>\n",
       "  </thead>\n",
       "  <tbody>\n",
       "    <tr>\n",
       "      <th>0</th>\n",
       "      <td>2018Q1</td>\n",
       "      <td>AMI Entertainment</td>\n",
       "      <td>240.41</td>\n",
       "    </tr>\n",
       "    <tr>\n",
       "      <th>1</th>\n",
       "      <td>2018Q1</td>\n",
       "      <td>AWA</td>\n",
       "      <td>19.30</td>\n",
       "    </tr>\n",
       "    <tr>\n",
       "      <th>2</th>\n",
       "      <td>2018Q1</td>\n",
       "      <td>Amazon Music</td>\n",
       "      <td>8377.74</td>\n",
       "    </tr>\n",
       "    <tr>\n",
       "      <th>3</th>\n",
       "      <td>2018Q1</td>\n",
       "      <td>Amazon Unlimited</td>\n",
       "      <td>8972.44</td>\n",
       "    </tr>\n",
       "    <tr>\n",
       "      <th>4</th>\n",
       "      <td>2018Q1</td>\n",
       "      <td>Anghami</td>\n",
       "      <td>1.46</td>\n",
       "    </tr>\n",
       "    <tr>\n",
       "      <th>...</th>\n",
       "      <td>...</td>\n",
       "      <td>...</td>\n",
       "      <td>...</td>\n",
       "    </tr>\n",
       "    <tr>\n",
       "      <th>715</th>\n",
       "      <td>2021Q3</td>\n",
       "      <td>YouTube</td>\n",
       "      <td>18316.35</td>\n",
       "    </tr>\n",
       "    <tr>\n",
       "      <th>716</th>\n",
       "      <td>2021Q3</td>\n",
       "      <td>YouTube Subscription</td>\n",
       "      <td>21041.57</td>\n",
       "    </tr>\n",
       "    <tr>\n",
       "      <th>717</th>\n",
       "      <td>2021Q3</td>\n",
       "      <td>iHeartRadio (Reporting Only)</td>\n",
       "      <td>1340.37</td>\n",
       "    </tr>\n",
       "    <tr>\n",
       "      <th>718</th>\n",
       "      <td>2021Q3</td>\n",
       "      <td>iMusica</td>\n",
       "      <td>25.75</td>\n",
       "    </tr>\n",
       "    <tr>\n",
       "      <th>719</th>\n",
       "      <td>2021Q3</td>\n",
       "      <td>iTunes/Apple</td>\n",
       "      <td>94495.90</td>\n",
       "    </tr>\n",
       "  </tbody>\n",
       "</table>\n",
       "<p>720 rows × 3 columns</p>\n",
       "</div>"
      ],
      "text/plain": [
       "    Quarter                    Store Name  Net Revenue USD\n",
       "0    2018Q1             AMI Entertainment           240.41\n",
       "1    2018Q1                           AWA            19.30\n",
       "2    2018Q1                  Amazon Music          8377.74\n",
       "3    2018Q1              Amazon Unlimited          8972.44\n",
       "4    2018Q1                       Anghami             1.46\n",
       "..      ...                           ...              ...\n",
       "715  2021Q3                       YouTube         18316.35\n",
       "716  2021Q3          YouTube Subscription         21041.57\n",
       "717  2021Q3  iHeartRadio (Reporting Only)          1340.37\n",
       "718  2021Q3                       iMusica            25.75\n",
       "719  2021Q3                  iTunes/Apple         94495.90\n",
       "\n",
       "[720 rows x 3 columns]"
      ]
     },
     "execution_count": 161,
     "metadata": {},
     "output_type": "execute_result"
    }
   ],
   "source": [
    "Quarter = Quarter.reset_index()\n",
    "Quarter\n",
    "Quarter.to_csv('Quarter.csv')"
   ]
  },
  {
   "cell_type": "code",
   "execution_count": 167,
   "metadata": {},
   "outputs": [],
   "source": [
    "Quarter.to_csv('Quarter.csv')"
   ]
  },
  {
   "cell_type": "code",
   "execution_count": 162,
   "metadata": {},
   "outputs": [],
   "source": [
    "Quarter = Quarter.pivot(index = 'Quarter', columns = 'Store Name', values = 'Net Revenue USD')"
   ]
  },
  {
   "cell_type": "code",
   "execution_count": 163,
   "metadata": {
    "scrolled": true
   },
   "outputs": [
    {
     "data": {
      "text/html": [
       "<div>\n",
       "<style scoped>\n",
       "    .dataframe tbody tr th:only-of-type {\n",
       "        vertical-align: middle;\n",
       "    }\n",
       "\n",
       "    .dataframe tbody tr th {\n",
       "        vertical-align: top;\n",
       "    }\n",
       "\n",
       "    .dataframe thead th {\n",
       "        text-align: right;\n",
       "    }\n",
       "</style>\n",
       "<table border=\"1\" class=\"dataframe\">\n",
       "  <thead>\n",
       "    <tr style=\"text-align: right;\">\n",
       "      <th>Store Name</th>\n",
       "      <th>Spotify</th>\n",
       "      <th>iTunes/Apple</th>\n",
       "      <th>Pandora</th>\n",
       "      <th>Amazon Unlimited</th>\n",
       "      <th>YouTube</th>\n",
       "    </tr>\n",
       "    <tr>\n",
       "      <th>Quarter</th>\n",
       "      <th></th>\n",
       "      <th></th>\n",
       "      <th></th>\n",
       "      <th></th>\n",
       "      <th></th>\n",
       "    </tr>\n",
       "  </thead>\n",
       "  <tbody>\n",
       "    <tr>\n",
       "      <th>2018Q1</th>\n",
       "      <td>104164.17</td>\n",
       "      <td>84210.28</td>\n",
       "      <td>22567.78</td>\n",
       "      <td>8972.44</td>\n",
       "      <td>10370.71</td>\n",
       "    </tr>\n",
       "    <tr>\n",
       "      <th>2018Q2</th>\n",
       "      <td>104176.13</td>\n",
       "      <td>106391.25</td>\n",
       "      <td>24536.40</td>\n",
       "      <td>13355.40</td>\n",
       "      <td>13090.03</td>\n",
       "    </tr>\n",
       "    <tr>\n",
       "      <th>2018Q3</th>\n",
       "      <td>162308.01</td>\n",
       "      <td>170755.32</td>\n",
       "      <td>33501.76</td>\n",
       "      <td>21313.75</td>\n",
       "      <td>19921.16</td>\n",
       "    </tr>\n",
       "    <tr>\n",
       "      <th>2018Q4</th>\n",
       "      <td>101215.42</td>\n",
       "      <td>79793.78</td>\n",
       "      <td>27707.44</td>\n",
       "      <td>15908.16</td>\n",
       "      <td>16761.48</td>\n",
       "    </tr>\n",
       "    <tr>\n",
       "      <th>2019Q1</th>\n",
       "      <td>95722.94</td>\n",
       "      <td>71177.09</td>\n",
       "      <td>25014.12</td>\n",
       "      <td>14742.55</td>\n",
       "      <td>15759.34</td>\n",
       "    </tr>\n",
       "    <tr>\n",
       "      <th>2019Q2</th>\n",
       "      <td>116479.45</td>\n",
       "      <td>91872.43</td>\n",
       "      <td>32372.05</td>\n",
       "      <td>20801.18</td>\n",
       "      <td>14501.21</td>\n",
       "    </tr>\n",
       "    <tr>\n",
       "      <th>2019Q3</th>\n",
       "      <td>130713.67</td>\n",
       "      <td>100162.81</td>\n",
       "      <td>37752.77</td>\n",
       "      <td>24951.97</td>\n",
       "      <td>16447.76</td>\n",
       "    </tr>\n",
       "    <tr>\n",
       "      <th>2019Q4</th>\n",
       "      <td>95459.00</td>\n",
       "      <td>72130.23</td>\n",
       "      <td>32972.96</td>\n",
       "      <td>20342.75</td>\n",
       "      <td>15643.55</td>\n",
       "    </tr>\n",
       "    <tr>\n",
       "      <th>2020Q1</th>\n",
       "      <td>96221.39</td>\n",
       "      <td>69079.93</td>\n",
       "      <td>31698.41</td>\n",
       "      <td>20280.99</td>\n",
       "      <td>18256.58</td>\n",
       "    </tr>\n",
       "    <tr>\n",
       "      <th>2020Q2</th>\n",
       "      <td>118756.66</td>\n",
       "      <td>82332.98</td>\n",
       "      <td>40850.14</td>\n",
       "      <td>28941.34</td>\n",
       "      <td>13287.99</td>\n",
       "    </tr>\n",
       "    <tr>\n",
       "      <th>2020Q3</th>\n",
       "      <td>138617.24</td>\n",
       "      <td>92350.48</td>\n",
       "      <td>49445.79</td>\n",
       "      <td>33782.91</td>\n",
       "      <td>14854.23</td>\n",
       "    </tr>\n",
       "    <tr>\n",
       "      <th>2020Q4</th>\n",
       "      <td>107832.37</td>\n",
       "      <td>70243.83</td>\n",
       "      <td>41193.17</td>\n",
       "      <td>27644.79</td>\n",
       "      <td>14985.14</td>\n",
       "    </tr>\n",
       "    <tr>\n",
       "      <th>2021Q1</th>\n",
       "      <td>100444.18</td>\n",
       "      <td>68224.35</td>\n",
       "      <td>89009.61</td>\n",
       "      <td>25853.83</td>\n",
       "      <td>14822.30</td>\n",
       "    </tr>\n",
       "    <tr>\n",
       "      <th>2021Q2</th>\n",
       "      <td>143996.68</td>\n",
       "      <td>90368.30</td>\n",
       "      <td>49494.59</td>\n",
       "      <td>37671.21</td>\n",
       "      <td>21260.01</td>\n",
       "    </tr>\n",
       "    <tr>\n",
       "      <th>2021Q3</th>\n",
       "      <td>120539.03</td>\n",
       "      <td>94495.90</td>\n",
       "      <td>43113.19</td>\n",
       "      <td>32431.38</td>\n",
       "      <td>18316.35</td>\n",
       "    </tr>\n",
       "  </tbody>\n",
       "</table>\n",
       "</div>"
      ],
      "text/plain": [
       "Store Name    Spotify  iTunes/Apple   Pandora  Amazon Unlimited   YouTube\n",
       "Quarter                                                                  \n",
       "2018Q1      104164.17      84210.28  22567.78           8972.44  10370.71\n",
       "2018Q2      104176.13     106391.25  24536.40          13355.40  13090.03\n",
       "2018Q3      162308.01     170755.32  33501.76          21313.75  19921.16\n",
       "2018Q4      101215.42      79793.78  27707.44          15908.16  16761.48\n",
       "2019Q1       95722.94      71177.09  25014.12          14742.55  15759.34\n",
       "2019Q2      116479.45      91872.43  32372.05          20801.18  14501.21\n",
       "2019Q3      130713.67     100162.81  37752.77          24951.97  16447.76\n",
       "2019Q4       95459.00      72130.23  32972.96          20342.75  15643.55\n",
       "2020Q1       96221.39      69079.93  31698.41          20280.99  18256.58\n",
       "2020Q2      118756.66      82332.98  40850.14          28941.34  13287.99\n",
       "2020Q3      138617.24      92350.48  49445.79          33782.91  14854.23\n",
       "2020Q4      107832.37      70243.83  41193.17          27644.79  14985.14\n",
       "2021Q1      100444.18      68224.35  89009.61          25853.83  14822.30\n",
       "2021Q2      143996.68      90368.30  49494.59          37671.21  21260.01\n",
       "2021Q3      120539.03      94495.90  43113.19          32431.38  18316.35"
      ]
     },
     "execution_count": 163,
     "metadata": {},
     "output_type": "execute_result"
    }
   ],
   "source": [
    "top_5_store = ['Spotify', 'iTunes/Apple', 'Pandora', 'Amazon Unlimited', 'YouTube']\n",
    "Quarter_5 = Quarter[top_5_store]\n",
    "Quarter_5"
   ]
  },
  {
   "cell_type": "code",
   "execution_count": 168,
   "metadata": {},
   "outputs": [],
   "source": [
    "Quarter_5.to_csv('Quarter_5.csv')"
   ]
  },
  {
   "cell_type": "code",
   "execution_count": 166,
   "metadata": {
    "scrolled": true
   },
   "outputs": [
    {
     "data": {
      "text/plain": [
       "<matplotlib.axes._subplots.AxesSubplot at 0x7f82945945e0>"
      ]
     },
     "execution_count": 166,
     "metadata": {},
     "output_type": "execute_result"
    },
    {
     "data": {
      "image/png": "[encoded data removed]",
      "text/plain": [
       "<Figure size 432x288 with 2 Axes>"
      ]
     },
     "metadata": {
      "needs_background": "light"
     },
     "output_type": "display_data"
    }
   ],
   "source": [
    "import seaborn as sns\n",
    "%matplotlib inline\n",
    "sns.heatmap(Quarter_5, cmap=\"Blues\")"
   ]
  },
  {
   "cell_type": "code",
   "execution_count": null,
   "metadata": {},
   "outputs": [],
   "source": [
    "Monthly = df.pivot_table(index = ['Statement Month', 'Store Name'], values = ['Net Revenue USD'], aggfunc = 'sum')\n",
    "Monthly = Monthly.reset_index()\n",
    "Monthly = Monthly.pivot(index = 'Statement Month', columns = 'Store Name', values = 'Net Revenue USD')\n",
    "top_5_store = ['Spotify', 'iTunes/Apple', 'Pandora', 'Amazon Unlimited', 'YouTube']\n",
    "Monthly[top_5_store]\n",
    "\n"
   ]
  },
  {
   "cell_type": "markdown",
   "metadata": {},
   "source": [
    "### Spitify revenue over time"
   ]
  },
  {
   "cell_type": "code",
   "execution_count": 170,
   "metadata": {},
   "outputs": [],
   "source": [
    "Spotify = df[df['Store Name'] == 'Spotify']"
   ]
  },
  {
   "cell_type": "code",
   "execution_count": 171,
   "metadata": {},
   "outputs": [
    {
     "data": {
      "text/html": [
       "<div>\n",
       "<style scoped>\n",
       "    .dataframe tbody tr th:only-of-type {\n",
       "        vertical-align: middle;\n",
       "    }\n",
       "\n",
       "    .dataframe tbody tr th {\n",
       "        vertical-align: top;\n",
       "    }\n",
       "\n",
       "    .dataframe thead th {\n",
       "        text-align: right;\n",
       "    }\n",
       "</style>\n",
       "<table border=\"1\" class=\"dataframe\">\n",
       "  <thead>\n",
       "    <tr style=\"text-align: right;\">\n",
       "      <th></th>\n",
       "      <th>Gross Revenue USD</th>\n",
       "    </tr>\n",
       "    <tr>\n",
       "      <th>Statement Month</th>\n",
       "      <th></th>\n",
       "    </tr>\n",
       "  </thead>\n",
       "  <tbody>\n",
       "    <tr>\n",
       "      <th>2018-01-01</th>\n",
       "      <td>55358.72</td>\n",
       "    </tr>\n",
       "    <tr>\n",
       "      <th>2018-02-01</th>\n",
       "      <td>29388.34</td>\n",
       "    </tr>\n",
       "    <tr>\n",
       "      <th>2018-03-01</th>\n",
       "      <td>30992.18</td>\n",
       "    </tr>\n",
       "    <tr>\n",
       "      <th>2018-04-01</th>\n",
       "      <td>36317.72</td>\n",
       "    </tr>\n",
       "    <tr>\n",
       "      <th>2018-05-01</th>\n",
       "      <td>37275.27</td>\n",
       "    </tr>\n",
       "    <tr>\n",
       "      <th>2018-06-01</th>\n",
       "      <td>42160.12</td>\n",
       "    </tr>\n",
       "    <tr>\n",
       "      <th>2018-07-01</th>\n",
       "      <td>69514.33</td>\n",
       "    </tr>\n",
       "    <tr>\n",
       "      <th>2018-08-01</th>\n",
       "      <td>60520.59</td>\n",
       "    </tr>\n",
       "    <tr>\n",
       "      <th>2018-09-01</th>\n",
       "      <td>50307.38</td>\n",
       "    </tr>\n",
       "    <tr>\n",
       "      <th>2018-10-01</th>\n",
       "      <td>42938.07</td>\n",
       "    </tr>\n",
       "    <tr>\n",
       "      <th>2018-11-01</th>\n",
       "      <td>36532.00</td>\n",
       "    </tr>\n",
       "    <tr>\n",
       "      <th>2018-12-01</th>\n",
       "      <td>32993.81</td>\n",
       "    </tr>\n",
       "    <tr>\n",
       "      <th>2019-01-01</th>\n",
       "      <td>35404.26</td>\n",
       "    </tr>\n",
       "    <tr>\n",
       "      <th>2019-02-01</th>\n",
       "      <td>36148.81</td>\n",
       "    </tr>\n",
       "    <tr>\n",
       "      <th>2019-03-01</th>\n",
       "      <td>34806.97</td>\n",
       "    </tr>\n",
       "    <tr>\n",
       "      <th>2019-04-01</th>\n",
       "      <td>41207.77</td>\n",
       "    </tr>\n",
       "    <tr>\n",
       "      <th>2019-05-01</th>\n",
       "      <td>42145.10</td>\n",
       "    </tr>\n",
       "    <tr>\n",
       "      <th>2019-06-01</th>\n",
       "      <td>46076.72</td>\n",
       "    </tr>\n",
       "    <tr>\n",
       "      <th>2019-07-01</th>\n",
       "      <td>50009.73</td>\n",
       "    </tr>\n",
       "    <tr>\n",
       "      <th>2019-08-01</th>\n",
       "      <td>49293.44</td>\n",
       "    </tr>\n",
       "    <tr>\n",
       "      <th>2019-09-01</th>\n",
       "      <td>45940.95</td>\n",
       "    </tr>\n",
       "    <tr>\n",
       "      <th>2019-10-01</th>\n",
       "      <td>38097.62</td>\n",
       "    </tr>\n",
       "    <tr>\n",
       "      <th>2019-11-01</th>\n",
       "      <td>35274.24</td>\n",
       "    </tr>\n",
       "    <tr>\n",
       "      <th>2019-12-01</th>\n",
       "      <td>32704.97</td>\n",
       "    </tr>\n",
       "    <tr>\n",
       "      <th>2020-01-01</th>\n",
       "      <td>33853.54</td>\n",
       "    </tr>\n",
       "    <tr>\n",
       "      <th>2020-02-01</th>\n",
       "      <td>35932.40</td>\n",
       "    </tr>\n",
       "    <tr>\n",
       "      <th>2020-03-01</th>\n",
       "      <td>37130.41</td>\n",
       "    </tr>\n",
       "    <tr>\n",
       "      <th>2020-04-01</th>\n",
       "      <td>40655.12</td>\n",
       "    </tr>\n",
       "    <tr>\n",
       "      <th>2020-05-01</th>\n",
       "      <td>41920.52</td>\n",
       "    </tr>\n",
       "    <tr>\n",
       "      <th>2020-06-01</th>\n",
       "      <td>49384.57</td>\n",
       "    </tr>\n",
       "    <tr>\n",
       "      <th>2020-07-01</th>\n",
       "      <td>52015.46</td>\n",
       "    </tr>\n",
       "    <tr>\n",
       "      <th>2020-08-01</th>\n",
       "      <td>54240.58</td>\n",
       "    </tr>\n",
       "    <tr>\n",
       "      <th>2020-09-01</th>\n",
       "      <td>47774.43</td>\n",
       "    </tr>\n",
       "    <tr>\n",
       "      <th>2020-10-01</th>\n",
       "      <td>41744.43</td>\n",
       "    </tr>\n",
       "    <tr>\n",
       "      <th>2020-11-01</th>\n",
       "      <td>41179.74</td>\n",
       "    </tr>\n",
       "    <tr>\n",
       "      <th>2020-12-01</th>\n",
       "      <td>36895.21</td>\n",
       "    </tr>\n",
       "    <tr>\n",
       "      <th>2021-01-01</th>\n",
       "      <td>36046.08</td>\n",
       "    </tr>\n",
       "    <tr>\n",
       "      <th>2021-02-01</th>\n",
       "      <td>37099.17</td>\n",
       "    </tr>\n",
       "    <tr>\n",
       "      <th>2021-03-01</th>\n",
       "      <td>38464.79</td>\n",
       "    </tr>\n",
       "    <tr>\n",
       "      <th>2021-04-01</th>\n",
       "      <td>48744.64</td>\n",
       "    </tr>\n",
       "    <tr>\n",
       "      <th>2021-05-01</th>\n",
       "      <td>53942.18</td>\n",
       "    </tr>\n",
       "    <tr>\n",
       "      <th>2021-06-01</th>\n",
       "      <td>57317.91</td>\n",
       "    </tr>\n",
       "    <tr>\n",
       "      <th>2021-07-01</th>\n",
       "      <td>69612.21</td>\n",
       "    </tr>\n",
       "    <tr>\n",
       "      <th>2021-08-01</th>\n",
       "      <td>64331.62</td>\n",
       "    </tr>\n",
       "  </tbody>\n",
       "</table>\n",
       "</div>"
      ],
      "text/plain": [
       "                 Gross Revenue USD\n",
       "Statement Month                   \n",
       "2018-01-01                55358.72\n",
       "2018-02-01                29388.34\n",
       "2018-03-01                30992.18\n",
       "2018-04-01                36317.72\n",
       "2018-05-01                37275.27\n",
       "2018-06-01                42160.12\n",
       "2018-07-01                69514.33\n",
       "2018-08-01                60520.59\n",
       "2018-09-01                50307.38\n",
       "2018-10-01                42938.07\n",
       "2018-11-01                36532.00\n",
       "2018-12-01                32993.81\n",
       "2019-01-01                35404.26\n",
       "2019-02-01                36148.81\n",
       "2019-03-01                34806.97\n",
       "2019-04-01                41207.77\n",
       "2019-05-01                42145.10\n",
       "2019-06-01                46076.72\n",
       "2019-07-01                50009.73\n",
       "2019-08-01                49293.44\n",
       "2019-09-01                45940.95\n",
       "2019-10-01                38097.62\n",
       "2019-11-01                35274.24\n",
       "2019-12-01                32704.97\n",
       "2020-01-01                33853.54\n",
       "2020-02-01                35932.40\n",
       "2020-03-01                37130.41\n",
       "2020-04-01                40655.12\n",
       "2020-05-01                41920.52\n",
       "2020-06-01                49384.57\n",
       "2020-07-01                52015.46\n",
       "2020-08-01                54240.58\n",
       "2020-09-01                47774.43\n",
       "2020-10-01                41744.43\n",
       "2020-11-01                41179.74\n",
       "2020-12-01                36895.21\n",
       "2021-01-01                36046.08\n",
       "2021-02-01                37099.17\n",
       "2021-03-01                38464.79\n",
       "2021-04-01                48744.64\n",
       "2021-05-01                53942.18\n",
       "2021-06-01                57317.91\n",
       "2021-07-01                69612.21\n",
       "2021-08-01                64331.62"
      ]
     },
     "execution_count": 171,
     "metadata": {},
     "output_type": "execute_result"
    }
   ],
   "source": [
    "Spotify = Spotify.pivot_table(index = ['Statement Month'], values = ['Gross Revenue USD'], aggfunc = 'sum')\n",
    "Spotify "
   ]
  },
  {
   "cell_type": "code",
   "execution_count": 172,
   "metadata": {},
   "outputs": [
    {
     "data": {
      "text/html": [
       "<div>\n",
       "<style scoped>\n",
       "    .dataframe tbody tr th:only-of-type {\n",
       "        vertical-align: middle;\n",
       "    }\n",
       "\n",
       "    .dataframe tbody tr th {\n",
       "        vertical-align: top;\n",
       "    }\n",
       "\n",
       "    .dataframe thead th {\n",
       "        text-align: right;\n",
       "    }\n",
       "</style>\n",
       "<table border=\"1\" class=\"dataframe\">\n",
       "  <thead>\n",
       "    <tr style=\"text-align: right;\">\n",
       "      <th></th>\n",
       "      <th>Gross Revenue USD</th>\n",
       "    </tr>\n",
       "  </thead>\n",
       "  <tbody>\n",
       "    <tr>\n",
       "      <th>count</th>\n",
       "      <td>44.000000</td>\n",
       "    </tr>\n",
       "    <tr>\n",
       "      <th>mean</th>\n",
       "      <td>43856.684545</td>\n",
       "    </tr>\n",
       "    <tr>\n",
       "      <th>std</th>\n",
       "      <td>10021.431148</td>\n",
       "    </tr>\n",
       "    <tr>\n",
       "      <th>min</th>\n",
       "      <td>29388.340000</td>\n",
       "    </tr>\n",
       "    <tr>\n",
       "      <th>25%</th>\n",
       "      <td>36275.492500</td>\n",
       "    </tr>\n",
       "    <tr>\n",
       "      <th>50%</th>\n",
       "      <td>41476.100000</td>\n",
       "    </tr>\n",
       "    <tr>\n",
       "      <th>75%</th>\n",
       "      <td>49540.860000</td>\n",
       "    </tr>\n",
       "    <tr>\n",
       "      <th>max</th>\n",
       "      <td>69612.210000</td>\n",
       "    </tr>\n",
       "  </tbody>\n",
       "</table>\n",
       "</div>"
      ],
      "text/plain": [
       "       Gross Revenue USD\n",
       "count          44.000000\n",
       "mean        43856.684545\n",
       "std         10021.431148\n",
       "min         29388.340000\n",
       "25%         36275.492500\n",
       "50%         41476.100000\n",
       "75%         49540.860000\n",
       "max         69612.210000"
      ]
     },
     "execution_count": 172,
     "metadata": {},
     "output_type": "execute_result"
    }
   ],
   "source": [
    "Spotify.describe()"
   ]
  },
  {
   "cell_type": "code",
   "execution_count": 173,
   "metadata": {},
   "outputs": [
    {
     "data": {
      "text/plain": [
       "Text(0.5, 1.0, 'Gross Revenue from Spotify')"
      ]
     },
     "execution_count": 173,
     "metadata": {},
     "output_type": "execute_result"
    },
    {
     "data": {
      "image/png": "[encoded data removed]",
      "text/plain": [
       "<Figure size 432x288 with 1 Axes>"
      ]
     },
     "metadata": {
      "needs_background": "light"
     },
     "output_type": "display_data"
    }
   ],
   "source": [
    "plt.plot(Spotify)\n",
    "plt.title(\"Gross Revenue from Spotify\")"
   ]
  },
  {
   "cell_type": "markdown",
   "metadata": {},
   "source": [
    "We can see the seasonal trend from the plot above. In July each year, there is peaks in revenues. "
   ]
  },
  {
   "cell_type": "code",
   "execution_count": 86,
   "metadata": {},
   "outputs": [],
   "source": [
    "### Testing for stationarity\n",
    "\n",
    "from statsmodels.tsa.stattools import adfuller"
   ]
  },
  {
   "cell_type": "code",
   "execution_count": 87,
   "metadata": {},
   "outputs": [],
   "source": [
    "test_result=adfuller(Spotify['Gross Revenue USD'])"
   ]
  },
  {
   "cell_type": "code",
   "execution_count": 88,
   "metadata": {},
   "outputs": [],
   "source": [
    "# H0: It is non stationary\n",
    "# H1: It is stationary\n",
    "\n",
    "def adfuller_test(sales):\n",
    "    result=adfuller(sales)\n",
    "    labels = ['ADF Test Statistic','p-value','#Lags Used','Number of Observations Used']\n",
    "    for value,label in zip(result,labels):\n",
    "        print(label+' : '+str(value) )\n",
    "    if result[1] <= 0.05:\n",
    "        print(\"strong evidence against the null hypothesis(Ho), reject the null hypothesis. Data has no unit root and is stationary\")\n",
    "    else:\n",
    "        print(\"weak evidence against null hypothesis, time series has a unit root, indicating it is non-stationary \")\n",
    "    "
   ]
  },
  {
   "cell_type": "code",
   "execution_count": 89,
   "metadata": {},
   "outputs": [
    {
     "name": "stdout",
     "output_type": "stream",
     "text": [
      "ADF Test Statistic : -3.7875035683235336\n",
      "p-value : 0.00303778901603057\n",
      "#Lags Used : 4\n",
      "Number of Observations Used : 39\n",
      "strong evidence against the null hypothesis(Ho), reject the null hypothesis. Data has no unit root and is stationary\n"
     ]
    }
   ],
   "source": [
    "adfuller_test(Spotify['Gross Revenue USD'])"
   ]
  },
  {
   "cell_type": "markdown",
   "metadata": {},
   "source": [
    "### Auto Regressive Model"
   ]
  },
  {
   "cell_type": "code",
   "execution_count": 91,
   "metadata": {},
   "outputs": [
    {
     "data": {
      "image/png": "[encoded data removed]",
      "text/plain": [
       "<Figure size 432x288 with 1 Axes>"
      ]
     },
     "metadata": {
      "needs_background": "light"
     },
     "output_type": "display_data"
    }
   ],
   "source": [
    "from pandas.plotting import autocorrelation_plot\n",
    "autocorrelation_plot(Spotify['Gross Revenue USD'])\n",
    "plt.show()"
   ]
  },
  {
   "cell_type": "code",
   "execution_count": 92,
   "metadata": {},
   "outputs": [],
   "source": [
    "from statsmodels.graphics.tsaplots import plot_acf,plot_pacf"
   ]
  },
  {
   "cell_type": "code",
   "execution_count": 174,
   "metadata": {},
   "outputs": [
    {
     "data": {
      "image/png": "[encoded data removed]",
      "text/plain": [
       "<Figure size 864x576 with 2 Axes>"
      ]
     },
     "metadata": {
      "needs_background": "light"
     },
     "output_type": "display_data"
    }
   ],
   "source": [
    "import statsmodels.api as sm\n",
    "fig = plt.figure(figsize=(12,8))\n",
    "ax1 = fig.add_subplot(211)\n",
    "fig = sm.graphics.tsa.plot_acf(Spotify['Gross Revenue USD'],lags=20,ax=ax1)\n",
    "ax2 = fig.add_subplot(212)\n",
    "fig = sm.graphics.tsa.plot_pacf(Spotify['Gross Revenue USD'],lags=20,ax=ax2)"
   ]
  },
  {
   "cell_type": "code",
   "execution_count": 96,
   "metadata": {},
   "outputs": [],
   "source": [
    "# For non-seasonal data\n",
    "from statsmodels.tsa.arima_model import ARIMA"
   ]
  },
  {
   "cell_type": "code",
   "execution_count": 97,
   "metadata": {},
   "outputs": [
    {
     "name": "stderr",
     "output_type": "stream",
     "text": [
      "/Users/chenzhiqi/opt/anaconda3/lib/python3.8/site-packages/statsmodels/tsa/base/tsa_model.py:159: ValueWarning: No frequency information was provided, so inferred frequency MS will be used.\n",
      "  warnings.warn('No frequency information was'\n"
     ]
    }
   ],
   "source": [
    "model=ARIMA(Spotify['Gross Revenue USD'],order=(1,0,1))\n",
    "model_fit=model.fit()"
   ]
  },
  {
   "cell_type": "code",
   "execution_count": 98,
   "metadata": {},
   "outputs": [
    {
     "data": {
      "text/html": [
       "<table class=\"simpletable\">\n",
       "<caption>ARMA Model Results</caption>\n",
       "<tr>\n",
       "  <th>Dep. Variable:</th> <td>Gross Revenue USD</td> <th>  No. Observations:  </th>    <td>44</td>   \n",
       "</tr>\n",
       "<tr>\n",
       "  <th>Model:</th>            <td>ARMA(1, 1)</td>     <th>  Log Likelihood     </th> <td>-450.784</td>\n",
       "</tr>\n",
       "<tr>\n",
       "  <th>Method:</th>             <td>css-mle</td>      <th>  S.D. of innovations</th> <td>6735.581</td>\n",
       "</tr>\n",
       "<tr>\n",
       "  <th>Date:</th>          <td>Sun, 05 Dec 2021</td>  <th>  AIC                </th>  <td>909.567</td>\n",
       "</tr>\n",
       "<tr>\n",
       "  <th>Time:</th>              <td>18:24:47</td>      <th>  BIC                </th>  <td>916.704</td>\n",
       "</tr>\n",
       "<tr>\n",
       "  <th>Sample:</th>           <td>01-01-2018</td>     <th>  HQIC               </th>  <td>912.214</td>\n",
       "</tr>\n",
       "<tr>\n",
       "  <th></th>                 <td>- 08-01-2021</td>    <th>                     </th>     <td> </td>   \n",
       "</tr>\n",
       "</table>\n",
       "<table class=\"simpletable\">\n",
       "<tr>\n",
       "             <td></td>                <th>coef</th>     <th>std err</th>      <th>z</th>      <th>P>|z|</th>  <th>[0.025</th>    <th>0.975]</th>  \n",
       "</tr>\n",
       "<tr>\n",
       "  <th>const</th>                   <td> 4.505e+04</td> <td> 3115.928</td> <td>   14.459</td> <td> 0.000</td> <td> 3.89e+04</td> <td> 5.12e+04</td>\n",
       "</tr>\n",
       "<tr>\n",
       "  <th>ar.L1.Gross Revenue USD</th> <td>    0.5435</td> <td>    0.170</td> <td>    3.205</td> <td> 0.001</td> <td>    0.211</td> <td>    0.876</td>\n",
       "</tr>\n",
       "<tr>\n",
       "  <th>ma.L1.Gross Revenue USD</th> <td>    0.4257</td> <td>    0.178</td> <td>    2.385</td> <td> 0.017</td> <td>    0.076</td> <td>    0.776</td>\n",
       "</tr>\n",
       "</table>\n",
       "<table class=\"simpletable\">\n",
       "<caption>Roots</caption>\n",
       "<tr>\n",
       "    <td></td>   <th>            Real</th>  <th>         Imaginary</th> <th>         Modulus</th>  <th>        Frequency</th>\n",
       "</tr>\n",
       "<tr>\n",
       "  <th>AR.1</th> <td>           1.8398</td> <td>          +0.0000j</td> <td>           1.8398</td> <td>           0.0000</td>\n",
       "</tr>\n",
       "<tr>\n",
       "  <th>MA.1</th> <td>          -2.3490</td> <td>          +0.0000j</td> <td>           2.3490</td> <td>           0.5000</td>\n",
       "</tr>\n",
       "</table>"
      ],
      "text/plain": [
       "<class 'statsmodels.iolib.summary.Summary'>\n",
       "\"\"\"\n",
       "                              ARMA Model Results                              \n",
       "==============================================================================\n",
       "Dep. Variable:      Gross Revenue USD   No. Observations:                   44\n",
       "Model:                     ARMA(1, 1)   Log Likelihood                -450.784\n",
       "Method:                       css-mle   S.D. of innovations           6735.581\n",
       "Date:                Sun, 05 Dec 2021   AIC                            909.567\n",
       "Time:                        18:24:47   BIC                            916.704\n",
       "Sample:                    01-01-2018   HQIC                           912.214\n",
       "                         - 08-01-2021                                         \n",
       "===========================================================================================\n",
       "                              coef    std err          z      P>|z|      [0.025      0.975]\n",
       "-------------------------------------------------------------------------------------------\n",
       "const                    4.505e+04   3115.928     14.459      0.000    3.89e+04    5.12e+04\n",
       "ar.L1.Gross Revenue USD     0.5435      0.170      3.205      0.001       0.211       0.876\n",
       "ma.L1.Gross Revenue USD     0.4257      0.178      2.385      0.017       0.076       0.776\n",
       "                                    Roots                                    \n",
       "=============================================================================\n",
       "                  Real          Imaginary           Modulus         Frequency\n",
       "-----------------------------------------------------------------------------\n",
       "AR.1            1.8398           +0.0000j            1.8398            0.0000\n",
       "MA.1           -2.3490           +0.0000j            2.3490            0.5000\n",
       "-----------------------------------------------------------------------------\n",
       "\"\"\""
      ]
     },
     "execution_count": 98,
     "metadata": {},
     "output_type": "execute_result"
    }
   ],
   "source": [
    "model_fit.summary()"
   ]
  },
  {
   "cell_type": "code",
   "execution_count": 102,
   "metadata": {},
   "outputs": [
    {
     "data": {
      "text/html": [
       "<div>\n",
       "<style scoped>\n",
       "    .dataframe tbody tr th:only-of-type {\n",
       "        vertical-align: middle;\n",
       "    }\n",
       "\n",
       "    .dataframe tbody tr th {\n",
       "        vertical-align: top;\n",
       "    }\n",
       "\n",
       "    .dataframe thead th {\n",
       "        text-align: right;\n",
       "    }\n",
       "</style>\n",
       "<table border=\"1\" class=\"dataframe\">\n",
       "  <thead>\n",
       "    <tr style=\"text-align: right;\">\n",
       "      <th></th>\n",
       "      <th>Gross Revenue USD</th>\n",
       "      <th>forecast</th>\n",
       "    </tr>\n",
       "    <tr>\n",
       "      <th>Statement Month</th>\n",
       "      <th></th>\n",
       "      <th></th>\n",
       "    </tr>\n",
       "  </thead>\n",
       "  <tbody>\n",
       "    <tr>\n",
       "      <th>2018-01-01</th>\n",
       "      <td>55358.72</td>\n",
       "      <td>NaN</td>\n",
       "    </tr>\n",
       "    <tr>\n",
       "      <th>2018-02-01</th>\n",
       "      <td>29388.34</td>\n",
       "      <td>NaN</td>\n",
       "    </tr>\n",
       "    <tr>\n",
       "      <th>2018-03-01</th>\n",
       "      <td>30992.18</td>\n",
       "      <td>NaN</td>\n",
       "    </tr>\n",
       "    <tr>\n",
       "      <th>2018-04-01</th>\n",
       "      <td>36317.72</td>\n",
       "      <td>NaN</td>\n",
       "    </tr>\n",
       "    <tr>\n",
       "      <th>2018-05-01</th>\n",
       "      <td>37275.27</td>\n",
       "      <td>NaN</td>\n",
       "    </tr>\n",
       "    <tr>\n",
       "      <th>2018-06-01</th>\n",
       "      <td>42160.12</td>\n",
       "      <td>NaN</td>\n",
       "    </tr>\n",
       "    <tr>\n",
       "      <th>2018-07-01</th>\n",
       "      <td>69514.33</td>\n",
       "      <td>NaN</td>\n",
       "    </tr>\n",
       "    <tr>\n",
       "      <th>2018-08-01</th>\n",
       "      <td>60520.59</td>\n",
       "      <td>NaN</td>\n",
       "    </tr>\n",
       "    <tr>\n",
       "      <th>2018-09-01</th>\n",
       "      <td>50307.38</td>\n",
       "      <td>NaN</td>\n",
       "    </tr>\n",
       "    <tr>\n",
       "      <th>2018-10-01</th>\n",
       "      <td>42938.07</td>\n",
       "      <td>NaN</td>\n",
       "    </tr>\n",
       "    <tr>\n",
       "      <th>2018-11-01</th>\n",
       "      <td>36532.00</td>\n",
       "      <td>NaN</td>\n",
       "    </tr>\n",
       "    <tr>\n",
       "      <th>2018-12-01</th>\n",
       "      <td>32993.81</td>\n",
       "      <td>NaN</td>\n",
       "    </tr>\n",
       "    <tr>\n",
       "      <th>2019-01-01</th>\n",
       "      <td>35404.26</td>\n",
       "      <td>NaN</td>\n",
       "    </tr>\n",
       "    <tr>\n",
       "      <th>2019-02-01</th>\n",
       "      <td>36148.81</td>\n",
       "      <td>NaN</td>\n",
       "    </tr>\n",
       "    <tr>\n",
       "      <th>2019-03-01</th>\n",
       "      <td>34806.97</td>\n",
       "      <td>NaN</td>\n",
       "    </tr>\n",
       "    <tr>\n",
       "      <th>2019-04-01</th>\n",
       "      <td>41207.77</td>\n",
       "      <td>NaN</td>\n",
       "    </tr>\n",
       "    <tr>\n",
       "      <th>2019-05-01</th>\n",
       "      <td>42145.10</td>\n",
       "      <td>NaN</td>\n",
       "    </tr>\n",
       "    <tr>\n",
       "      <th>2019-06-01</th>\n",
       "      <td>46076.72</td>\n",
       "      <td>NaN</td>\n",
       "    </tr>\n",
       "    <tr>\n",
       "      <th>2019-07-01</th>\n",
       "      <td>50009.73</td>\n",
       "      <td>NaN</td>\n",
       "    </tr>\n",
       "    <tr>\n",
       "      <th>2019-08-01</th>\n",
       "      <td>49293.44</td>\n",
       "      <td>NaN</td>\n",
       "    </tr>\n",
       "    <tr>\n",
       "      <th>2019-09-01</th>\n",
       "      <td>45940.95</td>\n",
       "      <td>NaN</td>\n",
       "    </tr>\n",
       "    <tr>\n",
       "      <th>2019-10-01</th>\n",
       "      <td>38097.62</td>\n",
       "      <td>NaN</td>\n",
       "    </tr>\n",
       "    <tr>\n",
       "      <th>2019-11-01</th>\n",
       "      <td>35274.24</td>\n",
       "      <td>NaN</td>\n",
       "    </tr>\n",
       "    <tr>\n",
       "      <th>2019-12-01</th>\n",
       "      <td>32704.97</td>\n",
       "      <td>NaN</td>\n",
       "    </tr>\n",
       "    <tr>\n",
       "      <th>2020-01-01</th>\n",
       "      <td>33853.54</td>\n",
       "      <td>NaN</td>\n",
       "    </tr>\n",
       "    <tr>\n",
       "      <th>2020-02-01</th>\n",
       "      <td>35932.40</td>\n",
       "      <td>NaN</td>\n",
       "    </tr>\n",
       "    <tr>\n",
       "      <th>2020-03-01</th>\n",
       "      <td>37130.41</td>\n",
       "      <td>NaN</td>\n",
       "    </tr>\n",
       "    <tr>\n",
       "      <th>2020-04-01</th>\n",
       "      <td>40655.12</td>\n",
       "      <td>NaN</td>\n",
       "    </tr>\n",
       "    <tr>\n",
       "      <th>2020-05-01</th>\n",
       "      <td>41920.52</td>\n",
       "      <td>NaN</td>\n",
       "    </tr>\n",
       "    <tr>\n",
       "      <th>2020-06-01</th>\n",
       "      <td>49384.57</td>\n",
       "      <td>NaN</td>\n",
       "    </tr>\n",
       "    <tr>\n",
       "      <th>2020-07-01</th>\n",
       "      <td>52015.46</td>\n",
       "      <td>NaN</td>\n",
       "    </tr>\n",
       "    <tr>\n",
       "      <th>2020-08-01</th>\n",
       "      <td>54240.58</td>\n",
       "      <td>NaN</td>\n",
       "    </tr>\n",
       "    <tr>\n",
       "      <th>2020-09-01</th>\n",
       "      <td>47774.43</td>\n",
       "      <td>NaN</td>\n",
       "    </tr>\n",
       "    <tr>\n",
       "      <th>2020-10-01</th>\n",
       "      <td>41744.43</td>\n",
       "      <td>NaN</td>\n",
       "    </tr>\n",
       "    <tr>\n",
       "      <th>2020-11-01</th>\n",
       "      <td>41179.74</td>\n",
       "      <td>NaN</td>\n",
       "    </tr>\n",
       "    <tr>\n",
       "      <th>2020-12-01</th>\n",
       "      <td>36895.21</td>\n",
       "      <td>42604.981122</td>\n",
       "    </tr>\n",
       "    <tr>\n",
       "      <th>2021-01-01</th>\n",
       "      <td>36046.08</td>\n",
       "      <td>43722.205815</td>\n",
       "    </tr>\n",
       "    <tr>\n",
       "      <th>2021-02-01</th>\n",
       "      <td>37099.17</td>\n",
       "      <td>44329.445216</td>\n",
       "    </tr>\n",
       "    <tr>\n",
       "      <th>2021-03-01</th>\n",
       "      <td>38464.79</td>\n",
       "      <td>44659.494930</td>\n",
       "    </tr>\n",
       "    <tr>\n",
       "      <th>2021-04-01</th>\n",
       "      <td>48744.64</td>\n",
       "      <td>44838.885156</td>\n",
       "    </tr>\n",
       "    <tr>\n",
       "      <th>2021-05-01</th>\n",
       "      <td>53942.18</td>\n",
       "      <td>44936.388205</td>\n",
       "    </tr>\n",
       "    <tr>\n",
       "      <th>2021-06-01</th>\n",
       "      <td>57317.91</td>\n",
       "      <td>44989.383536</td>\n",
       "    </tr>\n",
       "    <tr>\n",
       "      <th>2021-07-01</th>\n",
       "      <td>69612.21</td>\n",
       "      <td>45018.187816</td>\n",
       "    </tr>\n",
       "    <tr>\n",
       "      <th>2021-08-01</th>\n",
       "      <td>64331.62</td>\n",
       "      <td>45033.843659</td>\n",
       "    </tr>\n",
       "  </tbody>\n",
       "</table>\n",
       "</div>"
      ],
      "text/plain": [
       "                 Gross Revenue USD      forecast\n",
       "Statement Month                                 \n",
       "2018-01-01                55358.72           NaN\n",
       "2018-02-01                29388.34           NaN\n",
       "2018-03-01                30992.18           NaN\n",
       "2018-04-01                36317.72           NaN\n",
       "2018-05-01                37275.27           NaN\n",
       "2018-06-01                42160.12           NaN\n",
       "2018-07-01                69514.33           NaN\n",
       "2018-08-01                60520.59           NaN\n",
       "2018-09-01                50307.38           NaN\n",
       "2018-10-01                42938.07           NaN\n",
       "2018-11-01                36532.00           NaN\n",
       "2018-12-01                32993.81           NaN\n",
       "2019-01-01                35404.26           NaN\n",
       "2019-02-01                36148.81           NaN\n",
       "2019-03-01                34806.97           NaN\n",
       "2019-04-01                41207.77           NaN\n",
       "2019-05-01                42145.10           NaN\n",
       "2019-06-01                46076.72           NaN\n",
       "2019-07-01                50009.73           NaN\n",
       "2019-08-01                49293.44           NaN\n",
       "2019-09-01                45940.95           NaN\n",
       "2019-10-01                38097.62           NaN\n",
       "2019-11-01                35274.24           NaN\n",
       "2019-12-01                32704.97           NaN\n",
       "2020-01-01                33853.54           NaN\n",
       "2020-02-01                35932.40           NaN\n",
       "2020-03-01                37130.41           NaN\n",
       "2020-04-01                40655.12           NaN\n",
       "2020-05-01                41920.52           NaN\n",
       "2020-06-01                49384.57           NaN\n",
       "2020-07-01                52015.46           NaN\n",
       "2020-08-01                54240.58           NaN\n",
       "2020-09-01                47774.43           NaN\n",
       "2020-10-01                41744.43           NaN\n",
       "2020-11-01                41179.74           NaN\n",
       "2020-12-01                36895.21  42604.981122\n",
       "2021-01-01                36046.08  43722.205815\n",
       "2021-02-01                37099.17  44329.445216\n",
       "2021-03-01                38464.79  44659.494930\n",
       "2021-04-01                48744.64  44838.885156\n",
       "2021-05-01                53942.18  44936.388205\n",
       "2021-06-01                57317.91  44989.383536\n",
       "2021-07-01                69612.21  45018.187816\n",
       "2021-08-01                64331.62  45033.843659"
      ]
     },
     "execution_count": 102,
     "metadata": {},
     "output_type": "execute_result"
    }
   ],
   "source": [
    "Spotify['forecast']=model_fit.predict(start=35,end=44,dynamic=True)\n",
    "#df[['Gross Revenue USD','forecast']].plot(figsize=(12,8))\n",
    "Spotify"
   ]
  },
  {
   "cell_type": "code",
   "execution_count": 103,
   "metadata": {},
   "outputs": [],
   "source": [
    "import statsmodels.api as sm"
   ]
  },
  {
   "cell_type": "code",
   "execution_count": 191,
   "metadata": {
    "scrolled": false
   },
   "outputs": [
    {
     "name": "stderr",
     "output_type": "stream",
     "text": [
      "/Users/chenzhiqi/opt/anaconda3/lib/python3.8/site-packages/statsmodels/tsa/base/tsa_model.py:159: ValueWarning: No frequency information was provided, so inferred frequency MS will be used.\n",
      "  warnings.warn('No frequency information was'\n",
      "/Users/chenzhiqi/opt/anaconda3/lib/python3.8/site-packages/statsmodels/tsa/base/tsa_model.py:159: ValueWarning: No frequency information was provided, so inferred frequency MS will be used.\n",
      "  warnings.warn('No frequency information was'\n",
      "/Users/chenzhiqi/opt/anaconda3/lib/python3.8/site-packages/statsmodels/tsa/statespace/sarimax.py:866: UserWarning: Too few observations to estimate starting parameters for seasonal ARMA. All parameters except for variances will be set to zeros.\n",
      "  warn('Too few observations to estimate starting parameters%s.'\n"
     ]
    },
    {
     "data": {
      "text/html": [
       "<table class=\"simpletable\">\n",
       "<caption>SARIMAX Results</caption>\n",
       "<tr>\n",
       "  <th>Dep. Variable:</th>          <td>Gross Revenue USD</td>       <th>  No. Observations:  </th>    <td>44</td>   \n",
       "</tr>\n",
       "<tr>\n",
       "  <th>Model:</th>           <td>SARIMAX(1, 0, 2)x(1, 0, 2, 12)</td> <th>  Log Likelihood     </th> <td>-453.891</td>\n",
       "</tr>\n",
       "<tr>\n",
       "  <th>Date:</th>                   <td>Mon, 06 Dec 2021</td>        <th>  AIC                </th>  <td>921.783</td>\n",
       "</tr>\n",
       "<tr>\n",
       "  <th>Time:</th>                       <td>12:20:41</td>            <th>  BIC                </th>  <td>934.272</td>\n",
       "</tr>\n",
       "<tr>\n",
       "  <th>Sample:</th>                    <td>01-01-2018</td>           <th>  HQIC               </th>  <td>926.414</td>\n",
       "</tr>\n",
       "<tr>\n",
       "  <th></th>                          <td>- 08-01-2021</td>          <th>                     </th>     <td> </td>   \n",
       "</tr>\n",
       "<tr>\n",
       "  <th>Covariance Type:</th>               <td>opg</td>              <th>                     </th>     <td> </td>   \n",
       "</tr>\n",
       "</table>\n",
       "<table class=\"simpletable\">\n",
       "<tr>\n",
       "      <td></td>        <th>coef</th>     <th>std err</th>      <th>z</th>      <th>P>|z|</th>  <th>[0.025</th>    <th>0.975]</th>  \n",
       "</tr>\n",
       "<tr>\n",
       "  <th>ar.L1</th>    <td>    0.9977</td> <td>    0.157</td> <td>    6.360</td> <td> 0.000</td> <td>    0.690</td> <td>    1.305</td>\n",
       "</tr>\n",
       "<tr>\n",
       "  <th>ma.L1</th>    <td>   -0.3863</td> <td>    0.137</td> <td>   -2.822</td> <td> 0.005</td> <td>   -0.655</td> <td>   -0.118</td>\n",
       "</tr>\n",
       "<tr>\n",
       "  <th>ma.L2</th>    <td>   -0.5330</td> <td>    0.140</td> <td>   -3.820</td> <td> 0.000</td> <td>   -0.807</td> <td>   -0.259</td>\n",
       "</tr>\n",
       "<tr>\n",
       "  <th>ar.S.L12</th> <td>    0.9996</td> <td>    0.091</td> <td>   10.977</td> <td> 0.000</td> <td>    0.821</td> <td>    1.178</td>\n",
       "</tr>\n",
       "<tr>\n",
       "  <th>ma.S.L12</th> <td>    0.0164</td> <td>    2.986</td> <td>    0.005</td> <td> 0.996</td> <td>   -5.836</td> <td>    5.869</td>\n",
       "</tr>\n",
       "<tr>\n",
       "  <th>ma.S.L24</th> <td>   -0.9836</td> <td>    0.388</td> <td>   -2.535</td> <td> 0.011</td> <td>   -1.744</td> <td>   -0.223</td>\n",
       "</tr>\n",
       "<tr>\n",
       "  <th>sigma2</th>   <td>  2.08e+07</td> <td> 1.45e-08</td> <td> 1.43e+15</td> <td> 0.000</td> <td> 2.08e+07</td> <td> 2.08e+07</td>\n",
       "</tr>\n",
       "</table>\n",
       "<table class=\"simpletable\">\n",
       "<tr>\n",
       "  <th>Ljung-Box (Q):</th>          <td>71.60</td> <th>  Jarque-Bera (JB):  </th> <td>2.07</td> \n",
       "</tr>\n",
       "<tr>\n",
       "  <th>Prob(Q):</th>                <td>0.00</td>  <th>  Prob(JB):          </th> <td>0.35</td> \n",
       "</tr>\n",
       "<tr>\n",
       "  <th>Heteroskedasticity (H):</th> <td>0.50</td>  <th>  Skew:              </th> <td>-0.03</td>\n",
       "</tr>\n",
       "<tr>\n",
       "  <th>Prob(H) (two-sided):</th>    <td>0.19</td>  <th>  Kurtosis:          </th> <td>4.06</td> \n",
       "</tr>\n",
       "</table><br/><br/>Warnings:<br/>[1] Covariance matrix calculated using the outer product of gradients (complex-step).<br/>[2] Covariance matrix is singular or near-singular, with condition number 2.87e+32. Standard errors may be unstable."
      ],
      "text/plain": [
       "<class 'statsmodels.iolib.summary.Summary'>\n",
       "\"\"\"\n",
       "                                     SARIMAX Results                                      \n",
       "==========================================================================================\n",
       "Dep. Variable:                  Gross Revenue USD   No. Observations:                   44\n",
       "Model:             SARIMAX(1, 0, 2)x(1, 0, 2, 12)   Log Likelihood                -453.891\n",
       "Date:                            Mon, 06 Dec 2021   AIC                            921.783\n",
       "Time:                                    12:20:41   BIC                            934.272\n",
       "Sample:                                01-01-2018   HQIC                           926.414\n",
       "                                     - 08-01-2021                                         \n",
       "Covariance Type:                              opg                                         \n",
       "==============================================================================\n",
       "                 coef    std err          z      P>|z|      [0.025      0.975]\n",
       "------------------------------------------------------------------------------\n",
       "ar.L1          0.9977      0.157      6.360      0.000       0.690       1.305\n",
       "ma.L1         -0.3863      0.137     -2.822      0.005      -0.655      -0.118\n",
       "ma.L2         -0.5330      0.140     -3.820      0.000      -0.807      -0.259\n",
       "ar.S.L12       0.9996      0.091     10.977      0.000       0.821       1.178\n",
       "ma.S.L12       0.0164      2.986      0.005      0.996      -5.836       5.869\n",
       "ma.S.L24      -0.9836      0.388     -2.535      0.011      -1.744      -0.223\n",
       "sigma2       2.08e+07   1.45e-08   1.43e+15      0.000    2.08e+07    2.08e+07\n",
       "===================================================================================\n",
       "Ljung-Box (Q):                       71.60   Jarque-Bera (JB):                 2.07\n",
       "Prob(Q):                              0.00   Prob(JB):                         0.35\n",
       "Heteroskedasticity (H):               0.50   Skew:                            -0.03\n",
       "Prob(H) (two-sided):                  0.19   Kurtosis:                         4.06\n",
       "===================================================================================\n",
       "\n",
       "Warnings:\n",
       "[1] Covariance matrix calculated using the outer product of gradients (complex-step).\n",
       "[2] Covariance matrix is singular or near-singular, with condition number 2.87e+32. Standard errors may be unstable.\n",
       "\"\"\""
      ]
     },
     "execution_count": 191,
     "metadata": {},
     "output_type": "execute_result"
    }
   ],
   "source": [
    "model=sm.tsa.statespace.SARIMAX(Spotify['Gross Revenue USD'],order=(1, 0, 2),seasonal_order=(1, 0, 2, 12))\n",
    "results=model.fit()\n",
    "results.summary()"
   ]
  },
  {
   "cell_type": "code",
   "execution_count": 189,
   "metadata": {},
   "outputs": [
    {
     "data": {
      "text/html": [
       "<table class=\"simpletable\">\n",
       "<caption>ARMA Model Results</caption>\n",
       "<tr>\n",
       "  <th>Dep. Variable:</th> <td>Gross Revenue USD</td> <th>  No. Observations:  </th>    <td>44</td>   \n",
       "</tr>\n",
       "<tr>\n",
       "  <th>Model:</th>            <td>ARMA(1, 1)</td>     <th>  Log Likelihood     </th> <td>-450.784</td>\n",
       "</tr>\n",
       "<tr>\n",
       "  <th>Method:</th>             <td>css-mle</td>      <th>  S.D. of innovations</th> <td>6735.581</td>\n",
       "</tr>\n",
       "<tr>\n",
       "  <th>Date:</th>          <td>Mon, 06 Dec 2021</td>  <th>  AIC                </th>  <td>909.567</td>\n",
       "</tr>\n",
       "<tr>\n",
       "  <th>Time:</th>              <td>12:19:39</td>      <th>  BIC                </th>  <td>916.704</td>\n",
       "</tr>\n",
       "<tr>\n",
       "  <th>Sample:</th>           <td>01-01-2018</td>     <th>  HQIC               </th>  <td>912.214</td>\n",
       "</tr>\n",
       "<tr>\n",
       "  <th></th>                 <td>- 08-01-2021</td>    <th>                     </th>     <td> </td>   \n",
       "</tr>\n",
       "</table>\n",
       "<table class=\"simpletable\">\n",
       "<tr>\n",
       "             <td></td>                <th>coef</th>     <th>std err</th>      <th>z</th>      <th>P>|z|</th>  <th>[0.025</th>    <th>0.975]</th>  \n",
       "</tr>\n",
       "<tr>\n",
       "  <th>const</th>                   <td> 4.505e+04</td> <td> 3115.928</td> <td>   14.459</td> <td> 0.000</td> <td> 3.89e+04</td> <td> 5.12e+04</td>\n",
       "</tr>\n",
       "<tr>\n",
       "  <th>ar.L1.Gross Revenue USD</th> <td>    0.5435</td> <td>    0.170</td> <td>    3.205</td> <td> 0.001</td> <td>    0.211</td> <td>    0.876</td>\n",
       "</tr>\n",
       "<tr>\n",
       "  <th>ma.L1.Gross Revenue USD</th> <td>    0.4257</td> <td>    0.178</td> <td>    2.385</td> <td> 0.017</td> <td>    0.076</td> <td>    0.776</td>\n",
       "</tr>\n",
       "</table>\n",
       "<table class=\"simpletable\">\n",
       "<caption>Roots</caption>\n",
       "<tr>\n",
       "    <td></td>   <th>            Real</th>  <th>         Imaginary</th> <th>         Modulus</th>  <th>        Frequency</th>\n",
       "</tr>\n",
       "<tr>\n",
       "  <th>AR.1</th> <td>           1.8398</td> <td>          +0.0000j</td> <td>           1.8398</td> <td>           0.0000</td>\n",
       "</tr>\n",
       "<tr>\n",
       "  <th>MA.1</th> <td>          -2.3490</td> <td>          +0.0000j</td> <td>           2.3490</td> <td>           0.5000</td>\n",
       "</tr>\n",
       "</table>"
      ],
      "text/plain": [
       "<class 'statsmodels.iolib.summary.Summary'>\n",
       "\"\"\"\n",
       "                              ARMA Model Results                              \n",
       "==============================================================================\n",
       "Dep. Variable:      Gross Revenue USD   No. Observations:                   44\n",
       "Model:                     ARMA(1, 1)   Log Likelihood                -450.784\n",
       "Method:                       css-mle   S.D. of innovations           6735.581\n",
       "Date:                Mon, 06 Dec 2021   AIC                            909.567\n",
       "Time:                        12:19:39   BIC                            916.704\n",
       "Sample:                    01-01-2018   HQIC                           912.214\n",
       "                         - 08-01-2021                                         \n",
       "===========================================================================================\n",
       "                              coef    std err          z      P>|z|      [0.025      0.975]\n",
       "-------------------------------------------------------------------------------------------\n",
       "const                    4.505e+04   3115.928     14.459      0.000    3.89e+04    5.12e+04\n",
       "ar.L1.Gross Revenue USD     0.5435      0.170      3.205      0.001       0.211       0.876\n",
       "ma.L1.Gross Revenue USD     0.4257      0.178      2.385      0.017       0.076       0.776\n",
       "                                    Roots                                    \n",
       "=============================================================================\n",
       "                  Real          Imaginary           Modulus         Frequency\n",
       "-----------------------------------------------------------------------------\n",
       "AR.1            1.8398           +0.0000j            1.8398            0.0000\n",
       "MA.1           -2.3490           +0.0000j            2.3490            0.5000\n",
       "-----------------------------------------------------------------------------\n",
       "\"\"\""
      ]
     },
     "execution_count": 189,
     "metadata": {},
     "output_type": "execute_result"
    }
   ],
   "source": [
    "model_fit.summary()"
   ]
  },
  {
   "cell_type": "code",
   "execution_count": 190,
   "metadata": {
    "scrolled": false
   },
   "outputs": [
    {
     "data": {
      "text/plain": [
       "<matplotlib.axes._subplots.AxesSubplot at 0x7f82a644a820>"
      ]
     },
     "execution_count": 190,
     "metadata": {},
     "output_type": "execute_result"
    },
    {
     "data": {
      "image/png": "[encoded data removed]",
      "text/plain": [
       "<Figure size 864x576 with 1 Axes>"
      ]
     },
     "metadata": {
      "needs_background": "light"
     },
     "output_type": "display_data"
    }
   ],
   "source": [
    "Spotify['forecast']=results.predict(start=35,end=44,dynamic=True)\n",
    "Spotify[['Gross Revenue USD','forecast']].plot(figsize=(12,8))\n"
   ]
  },
  {
   "cell_type": "code",
   "execution_count": 124,
   "metadata": {},
   "outputs": [],
   "source": [
    "from pandas.tseries.offsets import DateOffset\n",
    "future_dates=[Spotify.index[-1]+ DateOffset(months=x)for x in range(0,24)]"
   ]
  },
  {
   "cell_type": "code",
   "execution_count": 125,
   "metadata": {},
   "outputs": [],
   "source": [
    "future_datest_Spotify=pd.DataFrame(index=future_dates[1:],columns=Spotify.columns)"
   ]
  },
  {
   "cell_type": "code",
   "execution_count": 126,
   "metadata": {},
   "outputs": [],
   "source": [
    "future_Spotify=pd.concat([Spotify,future_datest_Spotify])"
   ]
  },
  {
   "cell_type": "code",
   "execution_count": 129,
   "metadata": {},
   "outputs": [
    {
     "data": {
      "text/plain": [
       "<matplotlib.axes._subplots.AxesSubplot at 0x7f82949e29a0>"
      ]
     },
     "execution_count": 129,
     "metadata": {},
     "output_type": "execute_result"
    },
    {
     "data": {
      "image/png": "[encoded data removed]",
      "text/plain": [
       "<Figure size 864x576 with 1 Axes>"
      ]
     },
     "metadata": {
      "needs_background": "light"
     },
     "output_type": "display_data"
    }
   ],
   "source": [
    "future_Spotify['forecast'] = results.predict(start = 42, end = 61, dynamic= True)  \n",
    "future_Spotify[['Gross Revenue USD', 'forecast']].plot(figsize=(12, 8)) "
   ]
  },
  {
   "cell_type": "markdown",
   "metadata": {},
   "source": [
    "### iTunes/Apple Music revenue over time"
   ]
  },
  {
   "cell_type": "code",
   "execution_count": 73,
   "metadata": {},
   "outputs": [],
   "source": [
    "iTunes = df[df['Store Name'] == 'iTunes/Apple']"
   ]
  },
  {
   "cell_type": "code",
   "execution_count": 74,
   "metadata": {},
   "outputs": [
    {
     "data": {
      "text/html": [
       "<div>\n",
       "<style scoped>\n",
       "    .dataframe tbody tr th:only-of-type {\n",
       "        vertical-align: middle;\n",
       "    }\n",
       "\n",
       "    .dataframe tbody tr th {\n",
       "        vertical-align: top;\n",
       "    }\n",
       "\n",
       "    .dataframe thead th {\n",
       "        text-align: right;\n",
       "    }\n",
       "</style>\n",
       "<table border=\"1\" class=\"dataframe\">\n",
       "  <thead>\n",
       "    <tr style=\"text-align: right;\">\n",
       "      <th></th>\n",
       "      <th>Gross Revenue USD</th>\n",
       "    </tr>\n",
       "    <tr>\n",
       "      <th>Statement Month</th>\n",
       "      <th></th>\n",
       "    </tr>\n",
       "  </thead>\n",
       "  <tbody>\n",
       "    <tr>\n",
       "      <th>2018-01-01</th>\n",
       "      <td>41315.98</td>\n",
       "    </tr>\n",
       "    <tr>\n",
       "      <th>2018-02-01</th>\n",
       "      <td>23790.57</td>\n",
       "    </tr>\n",
       "    <tr>\n",
       "      <th>2018-03-01</th>\n",
       "      <td>28459.48</td>\n",
       "    </tr>\n",
       "    <tr>\n",
       "      <th>2018-04-01</th>\n",
       "      <td>43178.56</td>\n",
       "    </tr>\n",
       "    <tr>\n",
       "      <th>2018-05-01</th>\n",
       "      <td>38870.73</td>\n",
       "    </tr>\n",
       "    <tr>\n",
       "      <th>2018-06-01</th>\n",
       "      <td>36166.77</td>\n",
       "    </tr>\n",
       "    <tr>\n",
       "      <th>2018-07-01</th>\n",
       "      <td>85965.20</td>\n",
       "    </tr>\n",
       "    <tr>\n",
       "      <th>2018-08-01</th>\n",
       "      <td>65814.11</td>\n",
       "    </tr>\n",
       "    <tr>\n",
       "      <th>2018-09-01</th>\n",
       "      <td>37950.95</td>\n",
       "    </tr>\n",
       "    <tr>\n",
       "      <th>2018-10-01</th>\n",
       "      <td>31975.94</td>\n",
       "    </tr>\n",
       "    <tr>\n",
       "      <th>2018-11-01</th>\n",
       "      <td>33184.49</td>\n",
       "    </tr>\n",
       "    <tr>\n",
       "      <th>2018-12-01</th>\n",
       "      <td>23497.51</td>\n",
       "    </tr>\n",
       "    <tr>\n",
       "      <th>2019-01-01</th>\n",
       "      <td>22712.79</td>\n",
       "    </tr>\n",
       "    <tr>\n",
       "      <th>2019-02-01</th>\n",
       "      <td>30731.31</td>\n",
       "    </tr>\n",
       "    <tr>\n",
       "      <th>2019-03-01</th>\n",
       "      <td>25643.89</td>\n",
       "    </tr>\n",
       "    <tr>\n",
       "      <th>2019-04-01</th>\n",
       "      <td>28503.86</td>\n",
       "    </tr>\n",
       "    <tr>\n",
       "      <th>2019-05-01</th>\n",
       "      <td>39394.18</td>\n",
       "    </tr>\n",
       "    <tr>\n",
       "      <th>2019-06-01</th>\n",
       "      <td>34182.62</td>\n",
       "    </tr>\n",
       "    <tr>\n",
       "      <th>2019-07-01</th>\n",
       "      <td>35384.88</td>\n",
       "    </tr>\n",
       "    <tr>\n",
       "      <th>2019-08-01</th>\n",
       "      <td>43487.58</td>\n",
       "    </tr>\n",
       "    <tr>\n",
       "      <th>2019-09-01</th>\n",
       "      <td>32422.41</td>\n",
       "    </tr>\n",
       "    <tr>\n",
       "      <th>2019-10-01</th>\n",
       "      <td>27170.65</td>\n",
       "    </tr>\n",
       "    <tr>\n",
       "      <th>2019-11-01</th>\n",
       "      <td>30170.75</td>\n",
       "    </tr>\n",
       "    <tr>\n",
       "      <th>2019-12-01</th>\n",
       "      <td>22806.98</td>\n",
       "    </tr>\n",
       "    <tr>\n",
       "      <th>2020-01-01</th>\n",
       "      <td>22281.35</td>\n",
       "    </tr>\n",
       "    <tr>\n",
       "      <th>2020-02-01</th>\n",
       "      <td>29317.29</td>\n",
       "    </tr>\n",
       "    <tr>\n",
       "      <th>2020-03-01</th>\n",
       "      <td>25157.65</td>\n",
       "    </tr>\n",
       "    <tr>\n",
       "      <th>2020-04-01</th>\n",
       "      <td>25058.48</td>\n",
       "    </tr>\n",
       "    <tr>\n",
       "      <th>2020-05-01</th>\n",
       "      <td>35128.45</td>\n",
       "    </tr>\n",
       "    <tr>\n",
       "      <th>2020-06-01</th>\n",
       "      <td>31300.74</td>\n",
       "    </tr>\n",
       "    <tr>\n",
       "      <th>2020-07-01</th>\n",
       "      <td>31516.67</td>\n",
       "    </tr>\n",
       "    <tr>\n",
       "      <th>2020-08-01</th>\n",
       "      <td>42901.68</td>\n",
       "    </tr>\n",
       "    <tr>\n",
       "      <th>2020-09-01</th>\n",
       "      <td>28194.81</td>\n",
       "    </tr>\n",
       "    <tr>\n",
       "      <th>2020-10-01</th>\n",
       "      <td>24593.87</td>\n",
       "    </tr>\n",
       "    <tr>\n",
       "      <th>2020-11-01</th>\n",
       "      <td>30983.71</td>\n",
       "    </tr>\n",
       "    <tr>\n",
       "      <th>2020-12-01</th>\n",
       "      <td>22478.97</td>\n",
       "    </tr>\n",
       "    <tr>\n",
       "      <th>2021-01-01</th>\n",
       "      <td>23416.80</td>\n",
       "    </tr>\n",
       "    <tr>\n",
       "      <th>2021-02-01</th>\n",
       "      <td>28519.27</td>\n",
       "    </tr>\n",
       "    <tr>\n",
       "      <th>2021-03-01</th>\n",
       "      <td>23871.14</td>\n",
       "    </tr>\n",
       "    <tr>\n",
       "      <th>2021-04-01</th>\n",
       "      <td>28145.04</td>\n",
       "    </tr>\n",
       "    <tr>\n",
       "      <th>2021-05-01</th>\n",
       "      <td>39847.57</td>\n",
       "    </tr>\n",
       "    <tr>\n",
       "      <th>2021-06-01</th>\n",
       "      <td>32418.74</td>\n",
       "    </tr>\n",
       "    <tr>\n",
       "      <th>2021-07-01</th>\n",
       "      <td>49884.80</td>\n",
       "    </tr>\n",
       "    <tr>\n",
       "      <th>2021-08-01</th>\n",
       "      <td>55113.16</td>\n",
       "    </tr>\n",
       "  </tbody>\n",
       "</table>\n",
       "</div>"
      ],
      "text/plain": [
       "                 Gross Revenue USD\n",
       "Statement Month                   \n",
       "2018-01-01                41315.98\n",
       "2018-02-01                23790.57\n",
       "2018-03-01                28459.48\n",
       "2018-04-01                43178.56\n",
       "2018-05-01                38870.73\n",
       "2018-06-01                36166.77\n",
       "2018-07-01                85965.20\n",
       "2018-08-01                65814.11\n",
       "2018-09-01                37950.95\n",
       "2018-10-01                31975.94\n",
       "2018-11-01                33184.49\n",
       "2018-12-01                23497.51\n",
       "2019-01-01                22712.79\n",
       "2019-02-01                30731.31\n",
       "2019-03-01                25643.89\n",
       "2019-04-01                28503.86\n",
       "2019-05-01                39394.18\n",
       "2019-06-01                34182.62\n",
       "2019-07-01                35384.88\n",
       "2019-08-01                43487.58\n",
       "2019-09-01                32422.41\n",
       "2019-10-01                27170.65\n",
       "2019-11-01                30170.75\n",
       "2019-12-01                22806.98\n",
       "2020-01-01                22281.35\n",
       "2020-02-01                29317.29\n",
       "2020-03-01                25157.65\n",
       "2020-04-01                25058.48\n",
       "2020-05-01                35128.45\n",
       "2020-06-01                31300.74\n",
       "2020-07-01                31516.67\n",
       "2020-08-01                42901.68\n",
       "2020-09-01                28194.81\n",
       "2020-10-01                24593.87\n",
       "2020-11-01                30983.71\n",
       "2020-12-01                22478.97\n",
       "2021-01-01                23416.80\n",
       "2021-02-01                28519.27\n",
       "2021-03-01                23871.14\n",
       "2021-04-01                28145.04\n",
       "2021-05-01                39847.57\n",
       "2021-06-01                32418.74\n",
       "2021-07-01                49884.80\n",
       "2021-08-01                55113.16"
      ]
     },
     "execution_count": 74,
     "metadata": {},
     "output_type": "execute_result"
    }
   ],
   "source": [
    "iTunes = iTunes.pivot_table(index = ['Statement Month'], values = ['Gross Revenue USD'], aggfunc = 'sum')\n",
    "iTunes"
   ]
  },
  {
   "cell_type": "code",
   "execution_count": 75,
   "metadata": {},
   "outputs": [
    {
     "data": {
      "text/plain": [
       "[<matplotlib.lines.Line2D at 0x7f82879ed640>]"
      ]
     },
     "execution_count": 75,
     "metadata": {},
     "output_type": "execute_result"
    },
    {
     "data": {
      "image/png": "[encoded data removed]",
      "text/plain": [
       "<Figure size 432x288 with 1 Axes>"
      ]
     },
     "metadata": {
      "needs_background": "light"
     },
     "output_type": "display_data"
    }
   ],
   "source": [
    "plt.plot(iTunes)"
   ]
  },
  {
   "cell_type": "markdown",
   "metadata": {},
   "source": [
    "### Total revenue over time"
   ]
  },
  {
   "cell_type": "code",
   "execution_count": 76,
   "metadata": {
    "scrolled": true
   },
   "outputs": [
    {
     "data": {
      "text/html": [
       "<div>\n",
       "<style scoped>\n",
       "    .dataframe tbody tr th:only-of-type {\n",
       "        vertical-align: middle;\n",
       "    }\n",
       "\n",
       "    .dataframe tbody tr th {\n",
       "        vertical-align: top;\n",
       "    }\n",
       "\n",
       "    .dataframe thead th {\n",
       "        text-align: right;\n",
       "    }\n",
       "</style>\n",
       "<table border=\"1\" class=\"dataframe\">\n",
       "  <thead>\n",
       "    <tr style=\"text-align: right;\">\n",
       "      <th></th>\n",
       "      <th>Gross Revenue USD</th>\n",
       "    </tr>\n",
       "    <tr>\n",
       "      <th>Statement Month</th>\n",
       "      <th></th>\n",
       "    </tr>\n",
       "  </thead>\n",
       "  <tbody>\n",
       "    <tr>\n",
       "      <th>2018-01-01</th>\n",
       "      <td>134623.50</td>\n",
       "    </tr>\n",
       "    <tr>\n",
       "      <th>2018-02-01</th>\n",
       "      <td>82327.74</td>\n",
       "    </tr>\n",
       "    <tr>\n",
       "      <th>2018-03-01</th>\n",
       "      <td>81746.36</td>\n",
       "    </tr>\n",
       "    <tr>\n",
       "      <th>2018-04-01</th>\n",
       "      <td>105829.42</td>\n",
       "    </tr>\n",
       "    <tr>\n",
       "      <th>2018-05-01</th>\n",
       "      <td>104907.35</td>\n",
       "    </tr>\n",
       "    <tr>\n",
       "      <th>2018-06-01</th>\n",
       "      <td>111803.52</td>\n",
       "    </tr>\n",
       "    <tr>\n",
       "      <th>2018-07-01</th>\n",
       "      <td>207097.60</td>\n",
       "    </tr>\n",
       "    <tr>\n",
       "      <th>2018-08-01</th>\n",
       "      <td>168411.98</td>\n",
       "    </tr>\n",
       "    <tr>\n",
       "      <th>2018-09-01</th>\n",
       "      <td>130041.99</td>\n",
       "    </tr>\n",
       "    <tr>\n",
       "      <th>2018-10-01</th>\n",
       "      <td>110803.20</td>\n",
       "    </tr>\n",
       "    <tr>\n",
       "      <th>2018-11-01</th>\n",
       "      <td>102509.43</td>\n",
       "    </tr>\n",
       "    <tr>\n",
       "      <th>2018-12-01</th>\n",
       "      <td>89119.47</td>\n",
       "    </tr>\n",
       "    <tr>\n",
       "      <th>2019-01-01</th>\n",
       "      <td>106209.91</td>\n",
       "    </tr>\n",
       "    <tr>\n",
       "      <th>2019-02-01</th>\n",
       "      <td>98239.62</td>\n",
       "    </tr>\n",
       "    <tr>\n",
       "      <th>2019-03-01</th>\n",
       "      <td>88038.23</td>\n",
       "    </tr>\n",
       "    <tr>\n",
       "      <th>2019-04-01</th>\n",
       "      <td>107812.28</td>\n",
       "    </tr>\n",
       "    <tr>\n",
       "      <th>2019-05-01</th>\n",
       "      <td>112356.51</td>\n",
       "    </tr>\n",
       "    <tr>\n",
       "      <th>2019-06-01</th>\n",
       "      <td>126291.45</td>\n",
       "    </tr>\n",
       "    <tr>\n",
       "      <th>2019-07-01</th>\n",
       "      <td>126678.20</td>\n",
       "    </tr>\n",
       "    <tr>\n",
       "      <th>2019-08-01</th>\n",
       "      <td>144448.63</td>\n",
       "    </tr>\n",
       "    <tr>\n",
       "      <th>2019-09-01</th>\n",
       "      <td>135809.05</td>\n",
       "    </tr>\n",
       "    <tr>\n",
       "      <th>2019-10-01</th>\n",
       "      <td>106127.41</td>\n",
       "    </tr>\n",
       "    <tr>\n",
       "      <th>2019-11-01</th>\n",
       "      <td>102968.79</td>\n",
       "    </tr>\n",
       "    <tr>\n",
       "      <th>2019-12-01</th>\n",
       "      <td>89786.45</td>\n",
       "    </tr>\n",
       "    <tr>\n",
       "      <th>2020-01-01</th>\n",
       "      <td>90120.43</td>\n",
       "    </tr>\n",
       "    <tr>\n",
       "      <th>2020-02-01</th>\n",
       "      <td>119337.10</td>\n",
       "    </tr>\n",
       "    <tr>\n",
       "      <th>2020-03-01</th>\n",
       "      <td>104731.69</td>\n",
       "    </tr>\n",
       "    <tr>\n",
       "      <th>2020-04-01</th>\n",
       "      <td>107601.39</td>\n",
       "    </tr>\n",
       "    <tr>\n",
       "      <th>2020-05-01</th>\n",
       "      <td>119412.84</td>\n",
       "    </tr>\n",
       "    <tr>\n",
       "      <th>2020-06-01</th>\n",
       "      <td>141666.53</td>\n",
       "    </tr>\n",
       "    <tr>\n",
       "      <th>2020-07-01</th>\n",
       "      <td>133678.63</td>\n",
       "    </tr>\n",
       "    <tr>\n",
       "      <th>2020-08-01</th>\n",
       "      <td>150636.27</td>\n",
       "    </tr>\n",
       "    <tr>\n",
       "      <th>2020-09-01</th>\n",
       "      <td>126776.41</td>\n",
       "    </tr>\n",
       "    <tr>\n",
       "      <th>2020-10-01</th>\n",
       "      <td>113333.96</td>\n",
       "    </tr>\n",
       "    <tr>\n",
       "      <th>2020-11-01</th>\n",
       "      <td>115690.01</td>\n",
       "    </tr>\n",
       "    <tr>\n",
       "      <th>2020-12-01</th>\n",
       "      <td>120592.19</td>\n",
       "    </tr>\n",
       "    <tr>\n",
       "      <th>2021-01-01</th>\n",
       "      <td>119088.92</td>\n",
       "    </tr>\n",
       "    <tr>\n",
       "      <th>2021-02-01</th>\n",
       "      <td>123155.28</td>\n",
       "    </tr>\n",
       "    <tr>\n",
       "      <th>2021-03-01</th>\n",
       "      <td>123559.76</td>\n",
       "    </tr>\n",
       "    <tr>\n",
       "      <th>2021-04-01</th>\n",
       "      <td>136945.87</td>\n",
       "    </tr>\n",
       "    <tr>\n",
       "      <th>2021-05-01</th>\n",
       "      <td>172495.75</td>\n",
       "    </tr>\n",
       "    <tr>\n",
       "      <th>2021-06-01</th>\n",
       "      <td>150330.44</td>\n",
       "    </tr>\n",
       "    <tr>\n",
       "      <th>2021-07-01</th>\n",
       "      <td>194010.75</td>\n",
       "    </tr>\n",
       "    <tr>\n",
       "      <th>2021-08-01</th>\n",
       "      <td>196932.92</td>\n",
       "    </tr>\n",
       "  </tbody>\n",
       "</table>\n",
       "</div>"
      ],
      "text/plain": [
       "                 Gross Revenue USD\n",
       "Statement Month                   \n",
       "2018-01-01               134623.50\n",
       "2018-02-01                82327.74\n",
       "2018-03-01                81746.36\n",
       "2018-04-01               105829.42\n",
       "2018-05-01               104907.35\n",
       "2018-06-01               111803.52\n",
       "2018-07-01               207097.60\n",
       "2018-08-01               168411.98\n",
       "2018-09-01               130041.99\n",
       "2018-10-01               110803.20\n",
       "2018-11-01               102509.43\n",
       "2018-12-01                89119.47\n",
       "2019-01-01               106209.91\n",
       "2019-02-01                98239.62\n",
       "2019-03-01                88038.23\n",
       "2019-04-01               107812.28\n",
       "2019-05-01               112356.51\n",
       "2019-06-01               126291.45\n",
       "2019-07-01               126678.20\n",
       "2019-08-01               144448.63\n",
       "2019-09-01               135809.05\n",
       "2019-10-01               106127.41\n",
       "2019-11-01               102968.79\n",
       "2019-12-01                89786.45\n",
       "2020-01-01                90120.43\n",
       "2020-02-01               119337.10\n",
       "2020-03-01               104731.69\n",
       "2020-04-01               107601.39\n",
       "2020-05-01               119412.84\n",
       "2020-06-01               141666.53\n",
       "2020-07-01               133678.63\n",
       "2020-08-01               150636.27\n",
       "2020-09-01               126776.41\n",
       "2020-10-01               113333.96\n",
       "2020-11-01               115690.01\n",
       "2020-12-01               120592.19\n",
       "2021-01-01               119088.92\n",
       "2021-02-01               123155.28\n",
       "2021-03-01               123559.76\n",
       "2021-04-01               136945.87\n",
       "2021-05-01               172495.75\n",
       "2021-06-01               150330.44\n",
       "2021-07-01               194010.75\n",
       "2021-08-01               196932.92"
      ]
     },
     "execution_count": 76,
     "metadata": {},
     "output_type": "execute_result"
    }
   ],
   "source": [
    "Total = df.pivot_table(index = ['Statement Month'], values = ['Gross Revenue USD'], aggfunc = 'sum')\n",
    "Total"
   ]
  },
  {
   "cell_type": "code",
   "execution_count": 192,
   "metadata": {},
   "outputs": [],
   "source": [
    "Total.to_csv('Total.csv')"
   ]
  },
  {
   "cell_type": "code",
   "execution_count": 77,
   "metadata": {},
   "outputs": [
    {
     "data": {
      "text/plain": [
       "[<matplotlib.lines.Line2D at 0x7f82878f4cd0>]"
      ]
     },
     "execution_count": 77,
     "metadata": {},
     "output_type": "execute_result"
    },
    {
     "data": {
      "image/png": "[encoded data removed]",
      "text/plain": [
       "<Figure size 432x288 with 1 Axes>"
      ]
     },
     "metadata": {
      "needs_background": "light"
     },
     "output_type": "display_data"
    }
   ],
   "source": [
    "plt.plot(Total)"
   ]
  },
  {
   "cell_type": "code",
   "execution_count": 130,
   "metadata": {},
   "outputs": [],
   "source": [
    "test_result_total=adfuller(Total['Gross Revenue USD'])"
   ]
  },
  {
   "cell_type": "code",
   "execution_count": 131,
   "metadata": {},
   "outputs": [
    {
     "name": "stdout",
     "output_type": "stream",
     "text": [
      "ADF Test Statistic : -2.4023109328187817\n",
      "p-value : 0.1410852270420797\n",
      "#Lags Used : 0\n",
      "Number of Observations Used : 43\n",
      "weak evidence against null hypothesis, time series has a unit root, indicating it is non-stationary \n"
     ]
    }
   ],
   "source": [
    "adfuller_test(Total['Gross Revenue USD'])"
   ]
  },
  {
   "cell_type": "code",
   "execution_count": 134,
   "metadata": {},
   "outputs": [],
   "source": [
    "Total['Seasonal First Difference']=Total['Gross Revenue USD']-Total['Gross Revenue USD'].shift(1)"
   ]
  },
  {
   "cell_type": "code",
   "execution_count": 135,
   "metadata": {},
   "outputs": [
    {
     "name": "stdout",
     "output_type": "stream",
     "text": [
      "ADF Test Statistic : -7.452995586138008\n",
      "p-value : 5.6064135410035886e-11\n",
      "#Lags Used : 0\n",
      "Number of Observations Used : 42\n",
      "strong evidence against the null hypothesis(Ho), reject the null hypothesis. Data has no unit root and is stationary\n"
     ]
    }
   ],
   "source": [
    "## Again test dickey fuller test\n",
    "adfuller_test(Total['Seasonal First Difference'].dropna())"
   ]
  },
  {
   "cell_type": "code",
   "execution_count": 136,
   "metadata": {},
   "outputs": [
    {
     "data": {
      "text/plain": [
       "<matplotlib.axes._subplots.AxesSubplot at 0x7f82949e2af0>"
      ]
     },
     "execution_count": 136,
     "metadata": {},
     "output_type": "execute_result"
    },
    {
     "data": {
      "image/png": "[encoded data removed]",
      "text/plain": [
       "<Figure size 432x288 with 1 Axes>"
      ]
     },
     "metadata": {
      "needs_background": "light"
     },
     "output_type": "display_data"
    }
   ],
   "source": [
    "Total['Seasonal First Difference'].plot()"
   ]
  },
  {
   "cell_type": "code",
   "execution_count": 137,
   "metadata": {},
   "outputs": [
    {
     "data": {
      "image/png": "[encoded data removed]",
      "text/plain": [
       "<Figure size 432x288 with 1 Axes>"
      ]
     },
     "metadata": {
      "needs_background": "light"
     },
     "output_type": "display_data"
    }
   ],
   "source": [
    "autocorrelation_plot(Total['Gross Revenue USD'])\n",
    "plt.show()"
   ]
  },
  {
   "cell_type": "code",
   "execution_count": 177,
   "metadata": {},
   "outputs": [
    {
     "data": {
      "image/png": "[encoded data removed]",
      "text/plain": [
       "<Figure size 864x576 with 2 Axes>"
      ]
     },
     "metadata": {
      "needs_background": "light"
     },
     "output_type": "display_data"
    }
   ],
   "source": [
    "fig = plt.figure(figsize=(12,8))\n",
    "ax1 = fig.add_subplot(211)\n",
    "fig = sm.graphics.tsa.plot_acf(Total['Seasonal First Difference'].iloc[2:],lags=20,ax=ax1)\n",
    "ax2 = fig.add_subplot(212)\n",
    "fig = sm.graphics.tsa.plot_pacf(Total['Seasonal First Difference'].iloc[2:],lags=20,ax=ax2)"
   ]
  },
  {
   "cell_type": "code",
   "execution_count": 140,
   "metadata": {},
   "outputs": [
    {
     "name": "stderr",
     "output_type": "stream",
     "text": [
      "/Users/chenzhiqi/opt/anaconda3/lib/python3.8/site-packages/statsmodels/tsa/base/tsa_model.py:159: ValueWarning: No frequency information was provided, so inferred frequency MS will be used.\n",
      "  warnings.warn('No frequency information was'\n",
      "/Users/chenzhiqi/opt/anaconda3/lib/python3.8/site-packages/statsmodels/tsa/base/tsa_model.py:159: ValueWarning: No frequency information was provided, so inferred frequency MS will be used.\n",
      "  warnings.warn('No frequency information was'\n"
     ]
    }
   ],
   "source": [
    "model_total=sm.tsa.statespace.SARIMAX(Total['Gross Revenue USD'],order=(0, 1, 0),seasonal_order=(0,1,0,12))\n",
    "results=model_total.fit()"
   ]
  },
  {
   "cell_type": "code",
   "execution_count": 141,
   "metadata": {},
   "outputs": [
    {
     "data": {
      "text/plain": [
       "<matplotlib.axes._subplots.AxesSubplot at 0x7f82a51649a0>"
      ]
     },
     "execution_count": 141,
     "metadata": {},
     "output_type": "execute_result"
    },
    {
     "data": {
      "image/png": "[encoded data removed]",
      "text/plain": [
       "<Figure size 864x576 with 1 Axes>"
      ]
     },
     "metadata": {
      "needs_background": "light"
     },
     "output_type": "display_data"
    }
   ],
   "source": [
    "Total['forecast']=results.predict(start=35,end=44,dynamic=True)\n",
    "Total[['Gross Revenue USD','forecast']].plot(figsize=(12,8))"
   ]
  },
  {
   "cell_type": "code",
   "execution_count": 142,
   "metadata": {},
   "outputs": [],
   "source": [
    "future_dates=[Total.index[-1]+ DateOffset(months=x)for x in range(0,24)]"
   ]
  },
  {
   "cell_type": "code",
   "execution_count": 143,
   "metadata": {},
   "outputs": [],
   "source": [
    "future_datest_Total=pd.DataFrame(index=future_dates[1:],columns=Total.columns)"
   ]
  },
  {
   "cell_type": "code",
   "execution_count": 144,
   "metadata": {},
   "outputs": [],
   "source": [
    "future_Total=pd.concat([Total,future_datest_Total])"
   ]
  },
  {
   "cell_type": "code",
   "execution_count": 146,
   "metadata": {},
   "outputs": [
    {
     "data": {
      "text/plain": [
       "<matplotlib.axes._subplots.AxesSubplot at 0x7f82a56bf670>"
      ]
     },
     "execution_count": 146,
     "metadata": {},
     "output_type": "execute_result"
    },
    {
     "data": {
      "image/png": "[encoded data removed]",
      "text/plain": [
       "<Figure size 864x576 with 1 Axes>"
      ]
     },
     "metadata": {
      "needs_background": "light"
     },
     "output_type": "display_data"
    }
   ],
   "source": [
    "future_Total['forecast'] = results.predict(start = 40, end = 61, dynamic= True)  \n",
    "future_Total[['Gross Revenue USD', 'forecast']].plot(figsize=(12, 8)) "
   ]
  },
  {
   "cell_type": "code",
   "execution_count": null,
   "metadata": {},
   "outputs": [],
   "source": []
  }
 ],
 "metadata": {
  "kernelspec": {
   "display_name": "Python 3",
   "language": "python",
   "name": "python3"
  },
  "language_info": {
   "codemirror_mode": {
    "name": "ipython",
    "version": 3
   },
   "file_extension": ".py",
   "mimetype": "text/x-python",
   "name": "python",
   "nbconvert_exporter": "python",
   "pygments_lexer": "ipython3",
   "version": "3.8.3"
  }
 },
 "nbformat": 4,
 "nbformat_minor": 4
}
