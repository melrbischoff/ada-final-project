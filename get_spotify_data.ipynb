{
 "cells": [
  {
   "cell_type": "code",
   "execution_count": null,
   "id": "c724c013",
   "metadata": {},
   "outputs": [],
   "source": [
    "# !pip3 install openpyxl"
   ]
  },
  {
   "cell_type": "code",
   "execution_count": 1,
   "id": "3f202aaf",
   "metadata": {},
   "outputs": [],
   "source": [
    "import requests\n",
    "import base64\n",
    "import os\n",
    "import numpy as np\n",
    "import pandas as pd\n",
    "import json\n",
    "import time"
   ]
  },
  {
   "cell_type": "code",
   "execution_count": 162,
   "id": "e0d78fc1",
   "metadata": {},
   "outputs": [],
   "source": [
    "class Spotify():\n",
    "    '''\n",
    "    Class to handle hitting spotify API to get music features\n",
    "    '''\n",
    "    \n",
    "    def __init__(self, \n",
    "                 client_id=None, \n",
    "                 client_secret=None):\n",
    "        \n",
    "        self.client_id = client_id\n",
    "        self.client_secret = client_secret\n",
    "        \n",
    "        self.get_access_token()\n",
    "        \n",
    "        \n",
    "    def get_access_token(self):\n",
    "        ## Example use:\n",
    "        ## spotify_instance = Spotify(CLIENT_ID, CLIENT_SECRET)\n",
    "        ## spotify_instance.get_access_token()\n",
    "        \n",
    "        secret_bytes = bytes(('{}:{}'.format(self.client_id, self.client_secret)),'utf-8')\n",
    "        secret_enc = base64.b64encode(secret_bytes).decode('utf-8')\n",
    "        \n",
    "        data = {'grant_type': 'client_credentials'}\n",
    "        headers = {'Authorization': 'Basic {}'.format(secret_enc)}\n",
    "        url = 'https://accounts.spotify.com/api/token'\n",
    "        r = requests.post(url, headers=headers, data=data)\n",
    "        \n",
    "        self.access_token = r.json()['access_token']\n",
    "    \n",
    "    def lookup_spotify_id(self, id_list):\n",
    "        '''\n",
    "        this takes in ISRC and returns ISRC to Spotify ID map\n",
    "        '''\n",
    "        df = pd.DataFrame([])\n",
    "        bad_ids = []\n",
    "        for i in id_list:\n",
    "            r = requests.get(f'https://api.spotify.com/v1/search?type=track&q=isrc:{i}',\n",
    "                             headers = {'Authorization': 'Bearer ' + self.access_token})\n",
    "            while r.status_code == 429:\n",
    "                retry_secs = int(r.headers['Retry-After'])\n",
    "                print('sleeping for {}'.format(retry_secs))\n",
    "                time.sleep(retry_secs)\n",
    "            try:\n",
    "                spotify_id = r.json()['tracks']['items'][0]['id']\n",
    "                row = {'isrc': str(i), 'spotify_id': spotify_id}\n",
    "                df = df.append(row, ignore_index = True)\n",
    "            except:\n",
    "#                 print(f'id issue {len(bad_ids) + 1}')\n",
    "                row = {'isrc': str(i), 'spotify_id': None}\n",
    "                df = df.append(row, ignore_index = True)\n",
    "                bad_ids.append(i)\n",
    "        return df\n",
    "    \n",
    "    def lookup_album_id(self, id_list):\n",
    "        '''\n",
    "        this takes in UPC and returns UPC to Spotify Album ID\n",
    "        '''\n",
    "        df = pd.DataFrame([])\n",
    "        bad_ids = []\n",
    "        for i in id_list:\n",
    "            r = requests.get(f'https://api.spotify.com/v1/search?type=album&q=upc:{i}',\n",
    "                             headers = {'Authorization': 'Bearer ' + self.access_token})\n",
    "            while r.status_code == 429:\n",
    "                retry_secs = int(r.headers['Retry-After'])\n",
    "                print('sleeping for {}'.format(retry_secs))\n",
    "                time.sleep(retry_secs)\n",
    "            try:\n",
    "                spotify_id = r.json()['albums']['items'][0]['id']\n",
    "                row = {'upc': str(i), 'spotify_album_id': spotify_id}\n",
    "                df = df.append(row, ignore_index = True)\n",
    "            except:\n",
    "#                 print(f'id issue {len(bad_ids) + 1}')\n",
    "                row = {'upc': str(i), 'spotify_album_id': None}\n",
    "                df = df.append(row, ignore_index = True)\n",
    "                bad_ids.append(i)\n",
    "        return df\n",
    "    \n",
    "    def group_ids(self, list_of_ids, bucket_size=100):\n",
    "        list_of_ids = pd.DataFrame(list_of_ids, columns=['id'])\n",
    "        list_of_ids['bucket'] = np.floor(np.arange(len(list_of_ids)) / bucket_size)\n",
    "        \n",
    "        gpd_ids = list_of_ids.groupby('bucket')['id'].apply(lambda x: ','.join(x))\n",
    "        \n",
    "        return gpd_ids\n",
    "\n",
    "    def get_audio_features(self, id_list, bucket_size=100):\n",
    "        \n",
    "        gpd_ids = self.group_ids(id_list, bucket_size)\n",
    "        col_list = ['acousticness', 'liveness', 'instrumentalness', \n",
    "                    'analysis_url', 'uri', 'time_signature', 'loudness', \n",
    "                    'speechiness', 'duration_ms', 'danceability', 'mode', \n",
    "                    'id', 'energy', 'key', 'track_href', \n",
    "                    'valence', 'type', 'tempo']\n",
    "        \n",
    "        df = []\n",
    "        \n",
    "        for x in gpd_ids.values:\n",
    "            r = requests.get('https://api.spotify.com/v1/audio-features?ids={}'.format(x), \n",
    "                             headers = {'Authorization': 'Bearer ' + self.access_token})\n",
    "            while r.status_code == 429:\n",
    "                retry_secs = int(r.headers['Retry-After'])\n",
    "                time.sleep(retry_secs)\n",
    "            \n",
    "            audio_features = r.json()['audio_features']\n",
    "            audio_features = [i for i in audio_features if i]\n",
    "            \n",
    "            for row in audio_features:\n",
    "                for c in col_list:\n",
    "                    if c not in row:\n",
    "                        row[c] = None\n",
    "                df.append(row)\n",
    "    \n",
    "        return pd.DataFrame(df)\n",
    "    \n",
    "    def get_tracks(self, id_list, bucket_size=50):\n",
    "        \n",
    "        gpd_ids = self.group_ids(id_list, bucket_size)\n",
    "        col_list = ['popularity', 'name', 'uri', 'external_urls', 'type', 'duration_ms', 'external_ids',\n",
    "                    'album', 'explicit', 'id', 'preview_url', 'track_number', 'available_markets', 'is_local', \n",
    "                    'artists', 'href', 'disc_number']\n",
    "        \n",
    "        track_df = []\n",
    "        \n",
    "        for x in gpd_ids.values:\n",
    "            r = requests.get('https://api.spotify.com/v1/tracks?ids={}'.format(x),\n",
    "                             headers = {'Authorization': 'Bearer ' + self.access_token})\n",
    "            \n",
    "            while r.status_code == 429:\n",
    "                retry_secs = int(r.headers['Retry-After'])\n",
    "                time.sleep(retry_secs)\n",
    "                  \n",
    "            tracks = r.json()['tracks']\n",
    "            tracks = [i for i in tracks if i]\n",
    "            \n",
    "            for row in tracks:\n",
    "                for c in col_list:\n",
    "                    if c not in row:\n",
    "                        row[c] = None\n",
    "                track_df.append(row)\n",
    "        \n",
    "        final_track_df = pd.DataFrame(track_df)\n",
    "        \n",
    "        final_track_df['release_date'] = pd.json_normalize(final_track_df['album'])['release_date']\n",
    "        final_track_df['album_id'] = pd.json_normalize(final_track_df['album'])['id']\n",
    "        \n",
    "        return final_track_df[['id','popularity','album_id','release_date']]\n",
    "\n",
    "    def get_albums(self, id_list, bucket_size=20):\n",
    "        \n",
    "        gpd_ids = self.group_ids(id_list, bucket_size)\n",
    "        col_list = ['id','release_date', 'release_date_precision','total_tracks','type']\n",
    "        \n",
    "        album_df = []\n",
    "        \n",
    "        for x in gpd_ids.values:\n",
    "            r = requests.get('https://api.spotify.com/v1/albums?ids={}'.format(x),\n",
    "                             headers = {'Authorization': 'Bearer ' + self.access_token})\n",
    "            \n",
    "            while r.status_code == 429:\n",
    "                retry_secs = int(r.headers['Retry-After'])\n",
    "                time.sleep(retry_secs)\n",
    "                  \n",
    "            albums = r.json()['albums']\n",
    "            albums = [i for i in albums if i]\n",
    "            \n",
    "            for a in albums:\n",
    "                df_row = {x: a[x] for x in col_list}\n",
    "                album_df.append(df_row)\n",
    "                \n",
    "        final_album_df = pd.DataFrame(album_df)\n",
    "        return final_album_df"
   ]
  },
  {
   "cell_type": "code",
   "execution_count": 163,
   "id": "4b157177",
   "metadata": {},
   "outputs": [],
   "source": [
    "client_id = 'ae17fb14354d4d98a442007563fafab9'\n",
    "client_secret = 'cb9e3752f07f4cfc9685c9369fd4b11c'\n",
    "\n",
    "sp = Spotify(client_id,client_secret)\n",
    "sp.get_access_token()"
   ]
  },
  {
   "cell_type": "code",
   "execution_count": null,
   "id": "664079a2",
   "metadata": {},
   "outputs": [],
   "source": [
    "data_path = r'data/'\n",
    "dataset_path = r'data/mri_full_data.csv'\n",
    "\n",
    "music_data = pd.read_csv(dataset_path)\n",
    "music_data.drop('Unnamed: 0', axis=1, inplace=True)\n",
    "music_data['Display Upc'] = music_data['Display Upc'].astype('string')"
   ]
  },
  {
   "cell_type": "code",
   "execution_count": 165,
   "id": "ade8e7b2",
   "metadata": {},
   "outputs": [],
   "source": [
    "isrc_ids = list(music_data[~music_data.ISRC.isna()].ISRC.unique())\n",
    "upc_ids = list(music_data[~music_data['Display Upc'].isna()]['Display Upc'].unique())"
   ]
  },
  {
   "cell_type": "code",
   "execution_count": null,
   "id": "3a9f2399",
   "metadata": {},
   "outputs": [],
   "source": [
    "isrc_to_spotify_id = sp.lookup_spotify_id(isrc_ids)"
   ]
  },
  {
   "cell_type": "code",
   "execution_count": null,
   "id": "82ccc5f5",
   "metadata": {
    "scrolled": true
   },
   "outputs": [],
   "source": [
    "upc_to_spotify_album_id = sp.lookup_album_id(upc_ids)"
   ]
  },
  {
   "cell_type": "code",
   "execution_count": null,
   "id": "015c9e18",
   "metadata": {},
   "outputs": [],
   "source": [
    "isrc_to_spotify_id.to_csv(os.path.join(data_path, 'isrc_to_spotify_id.csv'))\n",
    "upc_to_spotify_album_id.to_csv(os.path.join(data_path, 'upc_to_spotify_album_id.csv'))"
   ]
  },
  {
   "cell_type": "code",
   "execution_count": null,
   "id": "81c2862e",
   "metadata": {},
   "outputs": [],
   "source": [
    "spotify_ids = (isrc_to_spotify_id[~(isrc_to_spotify_id.spotify_id.isna())].spotify_id.unique())"
   ]
  },
  {
   "cell_type": "code",
   "execution_count": null,
   "id": "ba775857",
   "metadata": {},
   "outputs": [],
   "source": [
    "track_audio_feats = sp.get_audio_features(spotify_ids)"
   ]
  },
  {
   "cell_type": "code",
   "execution_count": null,
   "id": "a50e0a34",
   "metadata": {},
   "outputs": [],
   "source": [
    "track_audio_feats.to_csv(os.path.join(data_path, 'track_audio_feats.csv'))"
   ]
  },
  {
   "cell_type": "code",
   "execution_count": null,
   "id": "41b96301",
   "metadata": {},
   "outputs": [],
   "source": [
    "spotify_album_ids = list(\n",
    "    upc_to_spotify_album_id[\n",
    "        ~(upc_to_spotify_album_id.spotify_album_id.isna())\n",
    "    ].spotify_album_id.unique()\n",
    ")"
   ]
  },
  {
   "cell_type": "code",
   "execution_count": null,
   "id": "671004ff",
   "metadata": {},
   "outputs": [],
   "source": [
    "album_information = sp.get_albums(spotify_album_ids)"
   ]
  },
  {
   "cell_type": "code",
   "execution_count": null,
   "id": "d8e69261",
   "metadata": {},
   "outputs": [],
   "source": [
    "album_information.to_csv(os.path.join(data_path, 'album_information.csv'))"
   ]
  },
  {
   "cell_type": "markdown",
   "id": "319b4e76",
   "metadata": {},
   "source": [
    "# join all data"
   ]
  },
  {
   "cell_type": "code",
   "execution_count": null,
   "id": "a194af0e",
   "metadata": {},
   "outputs": [],
   "source": [
    "music_data.merge(\n",
    "    isrc_to_spotify_id,\n",
    "    how = 'left',\n",
    "    left_on = 'ISRC',\n",
    "    right_on = 'isrc'\n",
    ").merge(\n",
    "    upc_to_spotify_album_id,\n",
    "    how = 'left',\n",
    "    left_on = 'Display Upc',\n",
    "    right_on = 'upc'\n",
    ")"
   ]
  },
  {
   "cell_type": "code",
   "execution_count": 154,
   "id": "3257948e",
   "metadata": {},
   "outputs": [
    {
     "data": {
      "text/html": [
       "<div>\n",
       "<style scoped>\n",
       "    .dataframe tbody tr th:only-of-type {\n",
       "        vertical-align: middle;\n",
       "    }\n",
       "\n",
       "    .dataframe tbody tr th {\n",
       "        vertical-align: top;\n",
       "    }\n",
       "\n",
       "    .dataframe thead th {\n",
       "        text-align: right;\n",
       "    }\n",
       "</style>\n",
       "<table border=\"1\" class=\"dataframe\">\n",
       "  <thead>\n",
       "    <tr style=\"text-align: right;\">\n",
       "      <th></th>\n",
       "      <th>Statement Month</th>\n",
       "      <th>Store Name</th>\n",
       "      <th>Label Name</th>\n",
       "      <th>Artist Name</th>\n",
       "      <th>Release Name</th>\n",
       "      <th>Track Artist (Performer)</th>\n",
       "      <th>Track Name</th>\n",
       "      <th>ISRC</th>\n",
       "      <th>Display Upc</th>\n",
       "      <th>Country Code</th>\n",
       "      <th>Continent</th>\n",
       "      <th>Stream Ad-Supp, Stream Prem, Download, Physical, Locker, Other</th>\n",
       "      <th>Units</th>\n",
       "      <th>Gross Revenue USD</th>\n",
       "      <th>Net Revenue USD</th>\n",
       "    </tr>\n",
       "  </thead>\n",
       "  <tbody>\n",
       "    <tr>\n",
       "      <th>0</th>\n",
       "      <td>2018-07</td>\n",
       "      <td>iTunes/Apple</td>\n",
       "      <td>MRI Entertainment</td>\n",
       "      <td>Rebelution</td>\n",
       "      <td>Free Rein</td>\n",
       "      <td>NaN</td>\n",
       "      <td>NaN</td>\n",
       "      <td>NaN</td>\n",
       "      <td>657481106983</td>\n",
       "      <td>US</td>\n",
       "      <td>North America</td>\n",
       "      <td>Download</td>\n",
       "      <td>6,650</td>\n",
       "      <td>$46,550.00</td>\n",
       "      <td>$41,895.00</td>\n",
       "    </tr>\n",
       "    <tr>\n",
       "      <th>1</th>\n",
       "      <td>2021-07</td>\n",
       "      <td>iTunes/Apple</td>\n",
       "      <td>MRI Entertainment</td>\n",
       "      <td>Rebelution</td>\n",
       "      <td>In the Moment</td>\n",
       "      <td>NaN</td>\n",
       "      <td>NaN</td>\n",
       "      <td>NaN</td>\n",
       "      <td>657481109182</td>\n",
       "      <td>US</td>\n",
       "      <td>North America</td>\n",
       "      <td>Download</td>\n",
       "      <td>1,723</td>\n",
       "      <td>$12,061.00</td>\n",
       "      <td>$10,854.90</td>\n",
       "    </tr>\n",
       "  </tbody>\n",
       "</table>\n",
       "</div>"
      ],
      "text/plain": [
       "  Statement Month    Store Name         Label Name Artist Name   Release Name  \\\n",
       "0         2018-07  iTunes/Apple  MRI Entertainment  Rebelution      Free Rein   \n",
       "1         2021-07  iTunes/Apple  MRI Entertainment  Rebelution  In the Moment   \n",
       "\n",
       "  Track Artist (Performer) Track Name ISRC   Display Upc Country Code  \\\n",
       "0                      NaN        NaN  NaN  657481106983           US   \n",
       "1                      NaN        NaN  NaN  657481109182           US   \n",
       "\n",
       "       Continent  \\\n",
       "0  North America   \n",
       "1  North America   \n",
       "\n",
       "  Stream Ad-Supp, Stream Prem, Download, Physical, Locker, Other  Units  \\\n",
       "0                                           Download              6,650   \n",
       "1                                           Download              1,723   \n",
       "\n",
       "  Gross Revenue USD Net Revenue USD  \n",
       "0        $46,550.00      $41,895.00  \n",
       "1        $12,061.00      $10,854.90  "
      ]
     },
     "execution_count": 154,
     "metadata": {},
     "output_type": "execute_result"
    }
   ],
   "source": [
    "music_data.head(2)"
   ]
  },
  {
   "cell_type": "code",
   "execution_count": 156,
   "id": "3c9d150d",
   "metadata": {},
   "outputs": [
    {
     "data": {
      "text/html": [
       "<div>\n",
       "<style scoped>\n",
       "    .dataframe tbody tr th:only-of-type {\n",
       "        vertical-align: middle;\n",
       "    }\n",
       "\n",
       "    .dataframe tbody tr th {\n",
       "        vertical-align: top;\n",
       "    }\n",
       "\n",
       "    .dataframe thead th {\n",
       "        text-align: right;\n",
       "    }\n",
       "</style>\n",
       "<table border=\"1\" class=\"dataframe\">\n",
       "  <thead>\n",
       "    <tr style=\"text-align: right;\">\n",
       "      <th></th>\n",
       "      <th>isrc</th>\n",
       "      <th>spotify_id</th>\n",
       "    </tr>\n",
       "  </thead>\n",
       "  <tbody>\n",
       "    <tr>\n",
       "      <th>0</th>\n",
       "      <td>US4CL1410008</td>\n",
       "      <td>4TyCnstYu6LGrjka5WW6ft</td>\n",
       "    </tr>\n",
       "    <tr>\n",
       "      <th>1</th>\n",
       "      <td>US4CL1410011</td>\n",
       "      <td>49CdYBpfABUa0ZfT8FizQZ</td>\n",
       "    </tr>\n",
       "  </tbody>\n",
       "</table>\n",
       "</div>"
      ],
      "text/plain": [
       "           isrc              spotify_id\n",
       "0  US4CL1410008  4TyCnstYu6LGrjka5WW6ft\n",
       "1  US4CL1410011  49CdYBpfABUa0ZfT8FizQZ"
      ]
     },
     "execution_count": 156,
     "metadata": {},
     "output_type": "execute_result"
    }
   ],
   "source": [
    "isrc_to_spotify_id.head(2)"
   ]
  },
  {
   "cell_type": "code",
   "execution_count": 155,
   "id": "18fbff64",
   "metadata": {},
   "outputs": [
    {
     "data": {
      "text/html": [
       "<div>\n",
       "<style scoped>\n",
       "    .dataframe tbody tr th:only-of-type {\n",
       "        vertical-align: middle;\n",
       "    }\n",
       "\n",
       "    .dataframe tbody tr th {\n",
       "        vertical-align: top;\n",
       "    }\n",
       "\n",
       "    .dataframe thead th {\n",
       "        text-align: right;\n",
       "    }\n",
       "</style>\n",
       "<table border=\"1\" class=\"dataframe\">\n",
       "  <thead>\n",
       "    <tr style=\"text-align: right;\">\n",
       "      <th></th>\n",
       "      <th>isrc</th>\n",
       "      <th>spotify_album_id</th>\n",
       "    </tr>\n",
       "  </thead>\n",
       "  <tbody>\n",
       "    <tr>\n",
       "      <th>0</th>\n",
       "      <td>6.574811e+11</td>\n",
       "      <td>5FfbqVo0OapeCvoJvjWlOp</td>\n",
       "    </tr>\n",
       "    <tr>\n",
       "      <th>1</th>\n",
       "      <td>6.574811e+11</td>\n",
       "      <td>4ZO52CTQ2EzwDmAIrFjHaW</td>\n",
       "    </tr>\n",
       "  </tbody>\n",
       "</table>\n",
       "</div>"
      ],
      "text/plain": [
       "           isrc        spotify_album_id\n",
       "0  6.574811e+11  5FfbqVo0OapeCvoJvjWlOp\n",
       "1  6.574811e+11  4ZO52CTQ2EzwDmAIrFjHaW"
      ]
     },
     "execution_count": 155,
     "metadata": {},
     "output_type": "execute_result"
    }
   ],
   "source": [
    "upc_to_spotify_album_id.head(2)"
   ]
  },
  {
   "cell_type": "code",
   "execution_count": null,
   "id": "a114cff3",
   "metadata": {},
   "outputs": [],
   "source": []
  },
  {
   "cell_type": "code",
   "execution_count": null,
   "id": "b2028883",
   "metadata": {},
   "outputs": [],
   "source": []
  },
  {
   "cell_type": "code",
   "execution_count": null,
   "id": "718eb1bc",
   "metadata": {},
   "outputs": [],
   "source": []
  },
  {
   "cell_type": "code",
   "execution_count": 21,
   "id": "336ef800",
   "metadata": {},
   "outputs": [
    {
     "data": {
      "text/plain": [
       "369017"
      ]
     },
     "execution_count": 21,
     "metadata": {},
     "output_type": "execute_result"
    }
   ],
   "source": [
    "len(music_data)"
   ]
  },
  {
   "cell_type": "code",
   "execution_count": 29,
   "id": "bb751f85",
   "metadata": {},
   "outputs": [
    {
     "data": {
      "text/plain": [
       "1182"
      ]
     },
     "execution_count": 29,
     "metadata": {},
     "output_type": "execute_result"
    }
   ],
   "source": [
    "len(music_data['ISRC'].unique())"
   ]
  },
  {
   "cell_type": "code",
   "execution_count": 30,
   "id": "0d90552d",
   "metadata": {},
   "outputs": [
    {
     "data": {
      "text/plain": [
       "287"
      ]
     },
     "execution_count": 30,
     "metadata": {},
     "output_type": "execute_result"
    }
   ],
   "source": [
    "len(music_data['Display Upc'].unique())"
   ]
  },
  {
   "cell_type": "code",
   "execution_count": 28,
   "id": "50c4e5b2",
   "metadata": {},
   "outputs": [
    {
     "data": {
      "text/plain": [
       "47"
      ]
     },
     "execution_count": 28,
     "metadata": {},
     "output_type": "execute_result"
    }
   ],
   "source": [
    "len(music_data['Store Name'].unique())"
   ]
  },
  {
   "cell_type": "code",
   "execution_count": 37,
   "id": "262ead1f",
   "metadata": {},
   "outputs": [
    {
     "data": {
      "text/plain": [
       "array(['Stream Premium', 'Stream Ad-Supported', 'Download', 'Locker',\n",
       "       'Other'], dtype=object)"
      ]
     },
     "execution_count": 37,
     "metadata": {},
     "output_type": "execute_result"
    }
   ],
   "source": [
    "(music_data['Stream Ad-Supp, Stream Prem, Download, Physical, Locker, Other'].unique())"
   ]
  },
  {
   "cell_type": "code",
   "execution_count": null,
   "id": "8842626e",
   "metadata": {},
   "outputs": [],
   "source": [
    "audio_feats."
   ]
  },
  {
   "cell_type": "code",
   "execution_count": 20,
   "id": "a1ba905c",
   "metadata": {
    "scrolled": true
   },
   "outputs": [
    {
     "data": {
      "text/html": [
       "<div>\n",
       "<style scoped>\n",
       "    .dataframe tbody tr th:only-of-type {\n",
       "        vertical-align: middle;\n",
       "    }\n",
       "\n",
       "    .dataframe tbody tr th {\n",
       "        vertical-align: top;\n",
       "    }\n",
       "\n",
       "    .dataframe thead th {\n",
       "        text-align: right;\n",
       "    }\n",
       "</style>\n",
       "<table border=\"1\" class=\"dataframe\">\n",
       "  <thead>\n",
       "    <tr style=\"text-align: right;\">\n",
       "      <th></th>\n",
       "      <th>Statement Month</th>\n",
       "      <th>Store Name</th>\n",
       "      <th>Artist Name</th>\n",
       "      <th>Release Name</th>\n",
       "      <th>Track Artist (Performer)</th>\n",
       "      <th>Track Name</th>\n",
       "      <th>ISRC</th>\n",
       "      <th>Display Upc</th>\n",
       "      <th>Country Code</th>\n",
       "      <th>Continent</th>\n",
       "      <th>Stream Ad-Supp, Stream Prem, Download, Physical, Locker, Other</th>\n",
       "      <th>Units</th>\n",
       "      <th>Gross Revenue USD</th>\n",
       "    </tr>\n",
       "  </thead>\n",
       "  <tbody>\n",
       "    <tr>\n",
       "      <th>176</th>\n",
       "      <td>2021-02</td>\n",
       "      <td>iTunes/Apple</td>\n",
       "      <td>Rebelution</td>\n",
       "      <td>Count Me In</td>\n",
       "      <td>NaN</td>\n",
       "      <td>NaN</td>\n",
       "      <td>NaN</td>\n",
       "      <td>886444576840</td>\n",
       "      <td>US</td>\n",
       "      <td>North America</td>\n",
       "      <td>Download</td>\n",
       "      <td>51</td>\n",
       "      <td>357.00</td>\n",
       "    </tr>\n",
       "    <tr>\n",
       "      <th>225</th>\n",
       "      <td>2021-01</td>\n",
       "      <td>iTunes/Apple</td>\n",
       "      <td>Double Tiger</td>\n",
       "      <td>The Journey</td>\n",
       "      <td>NaN</td>\n",
       "      <td>NaN</td>\n",
       "      <td>NaN</td>\n",
       "      <td>657481107980</td>\n",
       "      <td>US</td>\n",
       "      <td>North America</td>\n",
       "      <td>Download</td>\n",
       "      <td>40</td>\n",
       "      <td>280.00</td>\n",
       "    </tr>\n",
       "    <tr>\n",
       "      <th>233</th>\n",
       "      <td>2021-03</td>\n",
       "      <td>iTunes/Apple</td>\n",
       "      <td>Rebelution</td>\n",
       "      <td>Count Me In</td>\n",
       "      <td>NaN</td>\n",
       "      <td>NaN</td>\n",
       "      <td>NaN</td>\n",
       "      <td>886444576840</td>\n",
       "      <td>US</td>\n",
       "      <td>North America</td>\n",
       "      <td>Download</td>\n",
       "      <td>39</td>\n",
       "      <td>273.00</td>\n",
       "    </tr>\n",
       "    <tr>\n",
       "      <th>256</th>\n",
       "      <td>2021-01</td>\n",
       "      <td>iTunes/Apple</td>\n",
       "      <td>Rebelution</td>\n",
       "      <td>Count Me In</td>\n",
       "      <td>NaN</td>\n",
       "      <td>NaN</td>\n",
       "      <td>NaN</td>\n",
       "      <td>886444576840</td>\n",
       "      <td>US</td>\n",
       "      <td>North America</td>\n",
       "      <td>Download</td>\n",
       "      <td>35</td>\n",
       "      <td>245.00</td>\n",
       "    </tr>\n",
       "    <tr>\n",
       "      <th>304</th>\n",
       "      <td>2021-02</td>\n",
       "      <td>iTunes/Apple</td>\n",
       "      <td>Rebelution</td>\n",
       "      <td>Falling into Place</td>\n",
       "      <td>NaN</td>\n",
       "      <td>NaN</td>\n",
       "      <td>NaN</td>\n",
       "      <td>886445840513</td>\n",
       "      <td>US</td>\n",
       "      <td>North America</td>\n",
       "      <td>Download</td>\n",
       "      <td>59</td>\n",
       "      <td>206.50</td>\n",
       "    </tr>\n",
       "    <tr>\n",
       "      <th>...</th>\n",
       "      <td>...</td>\n",
       "      <td>...</td>\n",
       "      <td>...</td>\n",
       "      <td>...</td>\n",
       "      <td>...</td>\n",
       "      <td>...</td>\n",
       "      <td>...</td>\n",
       "      <td>...</td>\n",
       "      <td>...</td>\n",
       "      <td>...</td>\n",
       "      <td>...</td>\n",
       "      <td>...</td>\n",
       "      <td>...</td>\n",
       "    </tr>\n",
       "    <tr>\n",
       "      <th>368399</th>\n",
       "      <td>2021-01</td>\n",
       "      <td>Amazon Music</td>\n",
       "      <td>Unified Highway</td>\n",
       "      <td>Headlines</td>\n",
       "      <td>NaN</td>\n",
       "      <td>NaN</td>\n",
       "      <td>NaN</td>\n",
       "      <td>657481107881</td>\n",
       "      <td>US</td>\n",
       "      <td>North America</td>\n",
       "      <td>Download</td>\n",
       "      <td>0</td>\n",
       "      <td>0.00</td>\n",
       "    </tr>\n",
       "    <tr>\n",
       "      <th>368622</th>\n",
       "      <td>2021-02</td>\n",
       "      <td>iTunes/Apple</td>\n",
       "      <td>Cas Haley</td>\n",
       "      <td>La Si Dah</td>\n",
       "      <td>NaN</td>\n",
       "      <td>NaN</td>\n",
       "      <td>NaN</td>\n",
       "      <td>886443999954</td>\n",
       "      <td>US</td>\n",
       "      <td>North America</td>\n",
       "      <td>Download</td>\n",
       "      <td>0</td>\n",
       "      <td>0.00</td>\n",
       "    </tr>\n",
       "    <tr>\n",
       "      <th>368912</th>\n",
       "      <td>2021-03</td>\n",
       "      <td>Amazon Music</td>\n",
       "      <td>Jesse Royal</td>\n",
       "      <td>Lily of da Valley</td>\n",
       "      <td>NaN</td>\n",
       "      <td>NaN</td>\n",
       "      <td>NaN</td>\n",
       "      <td>886446677620</td>\n",
       "      <td>GB</td>\n",
       "      <td>Europe</td>\n",
       "      <td>Download</td>\n",
       "      <td>0</td>\n",
       "      <td>0.00</td>\n",
       "    </tr>\n",
       "    <tr>\n",
       "      <th>369015</th>\n",
       "      <td>2021-03</td>\n",
       "      <td>Musictoday</td>\n",
       "      <td>Easy Star All-Stars</td>\n",
       "      <td>Easy Star's Thrillah</td>\n",
       "      <td>Easy Star All-Stars</td>\n",
       "      <td>NaN</td>\n",
       "      <td>NaN</td>\n",
       "      <td>886443510814</td>\n",
       "      <td>US</td>\n",
       "      <td>North America</td>\n",
       "      <td>Download</td>\n",
       "      <td>1</td>\n",
       "      <td>6.79</td>\n",
       "    </tr>\n",
       "    <tr>\n",
       "      <th>369016</th>\n",
       "      <td>2021-03</td>\n",
       "      <td>Musictoday</td>\n",
       "      <td>Easy Star All-Stars</td>\n",
       "      <td>Dubber Side of the Moon</td>\n",
       "      <td>Easy Star All-Stars</td>\n",
       "      <td>NaN</td>\n",
       "      <td>NaN</td>\n",
       "      <td>657481102329</td>\n",
       "      <td>US</td>\n",
       "      <td>North America</td>\n",
       "      <td>Download</td>\n",
       "      <td>1</td>\n",
       "      <td>6.79</td>\n",
       "    </tr>\n",
       "  </tbody>\n",
       "</table>\n",
       "<p>399 rows × 13 columns</p>\n",
       "</div>"
      ],
      "text/plain": [
       "       Statement Month    Store Name          Artist Name  \\\n",
       "176            2021-02  iTunes/Apple           Rebelution   \n",
       "225            2021-01  iTunes/Apple         Double Tiger   \n",
       "233            2021-03  iTunes/Apple           Rebelution   \n",
       "256            2021-01  iTunes/Apple           Rebelution   \n",
       "304            2021-02  iTunes/Apple           Rebelution   \n",
       "...                ...           ...                  ...   \n",
       "368399         2021-01  Amazon Music      Unified Highway   \n",
       "368622         2021-02  iTunes/Apple            Cas Haley   \n",
       "368912         2021-03  Amazon Music          Jesse Royal   \n",
       "369015         2021-03    Musictoday  Easy Star All-Stars   \n",
       "369016         2021-03    Musictoday  Easy Star All-Stars   \n",
       "\n",
       "                   Release Name Track Artist (Performer) Track Name ISRC  \\\n",
       "176                 Count Me In                      NaN        NaN  NaN   \n",
       "225                 The Journey                      NaN        NaN  NaN   \n",
       "233                 Count Me In                      NaN        NaN  NaN   \n",
       "256                 Count Me In                      NaN        NaN  NaN   \n",
       "304          Falling into Place                      NaN        NaN  NaN   \n",
       "...                         ...                      ...        ...  ...   \n",
       "368399                Headlines                      NaN        NaN  NaN   \n",
       "368622                La Si Dah                      NaN        NaN  NaN   \n",
       "368912        Lily of da Valley                      NaN        NaN  NaN   \n",
       "369015     Easy Star's Thrillah      Easy Star All-Stars        NaN  NaN   \n",
       "369016  Dubber Side of the Moon      Easy Star All-Stars        NaN  NaN   \n",
       "\n",
       "         Display Upc Country Code      Continent  \\\n",
       "176     886444576840           US  North America   \n",
       "225     657481107980           US  North America   \n",
       "233     886444576840           US  North America   \n",
       "256     886444576840           US  North America   \n",
       "304     886445840513           US  North America   \n",
       "...              ...          ...            ...   \n",
       "368399  657481107881           US  North America   \n",
       "368622  886443999954           US  North America   \n",
       "368912  886446677620           GB         Europe   \n",
       "369015  886443510814           US  North America   \n",
       "369016  657481102329           US  North America   \n",
       "\n",
       "       Stream Ad-Supp, Stream Prem, Download, Physical, Locker, Other  Units  \\\n",
       "176                                              Download                 51   \n",
       "225                                              Download                 40   \n",
       "233                                              Download                 39   \n",
       "256                                              Download                 35   \n",
       "304                                              Download                 59   \n",
       "...                                                   ...                ...   \n",
       "368399                                           Download                  0   \n",
       "368622                                           Download                  0   \n",
       "368912                                           Download                  0   \n",
       "369015                                           Download                  1   \n",
       "369016                                           Download                  1   \n",
       "\n",
       "        Gross Revenue USD  \n",
       "176                357.00  \n",
       "225                280.00  \n",
       "233                273.00  \n",
       "256                245.00  \n",
       "304                206.50  \n",
       "...                   ...  \n",
       "368399               0.00  \n",
       "368622               0.00  \n",
       "368912               0.00  \n",
       "369015               6.79  \n",
       "369016               6.79  \n",
       "\n",
       "[399 rows x 13 columns]"
      ]
     },
     "execution_count": 20,
     "metadata": {},
     "output_type": "execute_result"
    }
   ],
   "source": [
    "music_data[music_data.ISRC.isna()]"
   ]
  },
  {
   "cell_type": "code",
   "execution_count": null,
   "id": "4d979c5f",
   "metadata": {},
   "outputs": [],
   "source": [
    "# 369017 rows in data\n",
    "# 399 rows without ISRCs\n",
    "# "
   ]
  },
  {
   "cell_type": "code",
   "execution_count": 22,
   "id": "a4449fd9",
   "metadata": {},
   "outputs": [
    {
     "data": {
      "text/plain": [
       "953"
      ]
     },
     "execution_count": 22,
     "metadata": {},
     "output_type": "execute_result"
    }
   ],
   "source": [
    "len(audio_feats)"
   ]
  },
  {
   "cell_type": "code",
   "execution_count": 18,
   "id": "2d2962e9",
   "metadata": {},
   "outputs": [
    {
     "data": {
      "text/plain": [
       "1062"
      ]
     },
     "execution_count": 18,
     "metadata": {},
     "output_type": "execute_result"
    }
   ],
   "source": [
    "len(music_data.ISRC.unique())"
   ]
  },
  {
   "cell_type": "code",
   "execution_count": 15,
   "id": "3b749529",
   "metadata": {},
   "outputs": [
    {
     "data": {
      "text/plain": [
       "953"
      ]
     },
     "execution_count": 15,
     "metadata": {},
     "output_type": "execute_result"
    }
   ],
   "source": [
    "len(audio_feats)"
   ]
  },
  {
   "cell_type": "code",
   "execution_count": 12,
   "id": "b2795ba0",
   "metadata": {
    "scrolled": true
   },
   "outputs": [
    {
     "data": {
      "text/html": [
       "<div>\n",
       "<style scoped>\n",
       "    .dataframe tbody tr th:only-of-type {\n",
       "        vertical-align: middle;\n",
       "    }\n",
       "\n",
       "    .dataframe tbody tr th {\n",
       "        vertical-align: top;\n",
       "    }\n",
       "\n",
       "    .dataframe thead th {\n",
       "        text-align: right;\n",
       "    }\n",
       "</style>\n",
       "<table border=\"1\" class=\"dataframe\">\n",
       "  <thead>\n",
       "    <tr style=\"text-align: right;\">\n",
       "      <th></th>\n",
       "      <th>Unnamed: 0</th>\n",
       "      <th>danceability</th>\n",
       "      <th>energy</th>\n",
       "      <th>key</th>\n",
       "      <th>loudness</th>\n",
       "      <th>mode</th>\n",
       "      <th>speechiness</th>\n",
       "      <th>acousticness</th>\n",
       "      <th>instrumentalness</th>\n",
       "      <th>liveness</th>\n",
       "      <th>valence</th>\n",
       "      <th>tempo</th>\n",
       "      <th>type</th>\n",
       "      <th>id</th>\n",
       "      <th>uri</th>\n",
       "      <th>track_href</th>\n",
       "      <th>analysis_url</th>\n",
       "      <th>duration_ms</th>\n",
       "      <th>time_signature</th>\n",
       "    </tr>\n",
       "  </thead>\n",
       "  <tbody>\n",
       "    <tr>\n",
       "      <th>0</th>\n",
       "      <td>0</td>\n",
       "      <td>0.920</td>\n",
       "      <td>0.560</td>\n",
       "      <td>8</td>\n",
       "      <td>-9.530</td>\n",
       "      <td>1</td>\n",
       "      <td>0.0576</td>\n",
       "      <td>0.05510</td>\n",
       "      <td>0.000041</td>\n",
       "      <td>0.0970</td>\n",
       "      <td>0.625</td>\n",
       "      <td>140.004</td>\n",
       "      <td>audio_features</td>\n",
       "      <td>49CdYBpfABUa0ZfT8FizQZ</td>\n",
       "      <td>spotify:track:49CdYBpfABUa0ZfT8FizQZ</td>\n",
       "      <td>https://api.spotify.com/v1/tracks/49CdYBpfABUa...</td>\n",
       "      <td>https://api.spotify.com/v1/audio-analysis/49Cd...</td>\n",
       "      <td>273996</td>\n",
       "      <td>4</td>\n",
       "    </tr>\n",
       "    <tr>\n",
       "      <th>1</th>\n",
       "      <td>1</td>\n",
       "      <td>0.685</td>\n",
       "      <td>0.540</td>\n",
       "      <td>9</td>\n",
       "      <td>-9.701</td>\n",
       "      <td>1</td>\n",
       "      <td>0.0253</td>\n",
       "      <td>0.18100</td>\n",
       "      <td>0.015000</td>\n",
       "      <td>0.1140</td>\n",
       "      <td>0.235</td>\n",
       "      <td>109.926</td>\n",
       "      <td>audio_features</td>\n",
       "      <td>4TyCnstYu6LGrjka5WW6ft</td>\n",
       "      <td>spotify:track:4TyCnstYu6LGrjka5WW6ft</td>\n",
       "      <td>https://api.spotify.com/v1/tracks/4TyCnstYu6LG...</td>\n",
       "      <td>https://api.spotify.com/v1/audio-analysis/4TyC...</td>\n",
       "      <td>209253</td>\n",
       "      <td>4</td>\n",
       "    </tr>\n",
       "    <tr>\n",
       "      <th>2</th>\n",
       "      <td>2</td>\n",
       "      <td>0.877</td>\n",
       "      <td>0.618</td>\n",
       "      <td>5</td>\n",
       "      <td>-5.597</td>\n",
       "      <td>0</td>\n",
       "      <td>0.0456</td>\n",
       "      <td>0.06540</td>\n",
       "      <td>0.000010</td>\n",
       "      <td>0.0560</td>\n",
       "      <td>0.846</td>\n",
       "      <td>90.997</td>\n",
       "      <td>audio_features</td>\n",
       "      <td>548ddxWI4sZKK1aCLuMR16</td>\n",
       "      <td>spotify:track:548ddxWI4sZKK1aCLuMR16</td>\n",
       "      <td>https://api.spotify.com/v1/tracks/548ddxWI4sZK...</td>\n",
       "      <td>https://api.spotify.com/v1/audio-analysis/548d...</td>\n",
       "      <td>242723</td>\n",
       "      <td>4</td>\n",
       "    </tr>\n",
       "    <tr>\n",
       "      <th>3</th>\n",
       "      <td>3</td>\n",
       "      <td>0.800</td>\n",
       "      <td>0.661</td>\n",
       "      <td>7</td>\n",
       "      <td>-8.291</td>\n",
       "      <td>1</td>\n",
       "      <td>0.0304</td>\n",
       "      <td>0.02040</td>\n",
       "      <td>0.000107</td>\n",
       "      <td>0.0687</td>\n",
       "      <td>0.590</td>\n",
       "      <td>92.015</td>\n",
       "      <td>audio_features</td>\n",
       "      <td>0BweE3lWBMXRPWWLtLV5z8</td>\n",
       "      <td>spotify:track:0BweE3lWBMXRPWWLtLV5z8</td>\n",
       "      <td>https://api.spotify.com/v1/tracks/0BweE3lWBMXR...</td>\n",
       "      <td>https://api.spotify.com/v1/audio-analysis/0Bwe...</td>\n",
       "      <td>189613</td>\n",
       "      <td>4</td>\n",
       "    </tr>\n",
       "    <tr>\n",
       "      <th>4</th>\n",
       "      <td>4</td>\n",
       "      <td>0.775</td>\n",
       "      <td>0.824</td>\n",
       "      <td>11</td>\n",
       "      <td>-2.558</td>\n",
       "      <td>0</td>\n",
       "      <td>0.0470</td>\n",
       "      <td>0.00397</td>\n",
       "      <td>0.000000</td>\n",
       "      <td>0.0509</td>\n",
       "      <td>0.683</td>\n",
       "      <td>137.989</td>\n",
       "      <td>audio_features</td>\n",
       "      <td>60j4KO4XiFxLM6qy2Enic2</td>\n",
       "      <td>spotify:track:60j4KO4XiFxLM6qy2Enic2</td>\n",
       "      <td>https://api.spotify.com/v1/tracks/60j4KO4XiFxL...</td>\n",
       "      <td>https://api.spotify.com/v1/audio-analysis/60j4...</td>\n",
       "      <td>187710</td>\n",
       "      <td>4</td>\n",
       "    </tr>\n",
       "  </tbody>\n",
       "</table>\n",
       "</div>"
      ],
      "text/plain": [
       "   Unnamed: 0  danceability  energy  key  loudness  mode  speechiness  \\\n",
       "0           0         0.920   0.560    8    -9.530     1       0.0576   \n",
       "1           1         0.685   0.540    9    -9.701     1       0.0253   \n",
       "2           2         0.877   0.618    5    -5.597     0       0.0456   \n",
       "3           3         0.800   0.661    7    -8.291     1       0.0304   \n",
       "4           4         0.775   0.824   11    -2.558     0       0.0470   \n",
       "\n",
       "   acousticness  instrumentalness  liveness  valence    tempo            type  \\\n",
       "0       0.05510          0.000041    0.0970    0.625  140.004  audio_features   \n",
       "1       0.18100          0.015000    0.1140    0.235  109.926  audio_features   \n",
       "2       0.06540          0.000010    0.0560    0.846   90.997  audio_features   \n",
       "3       0.02040          0.000107    0.0687    0.590   92.015  audio_features   \n",
       "4       0.00397          0.000000    0.0509    0.683  137.989  audio_features   \n",
       "\n",
       "                       id                                   uri  \\\n",
       "0  49CdYBpfABUa0ZfT8FizQZ  spotify:track:49CdYBpfABUa0ZfT8FizQZ   \n",
       "1  4TyCnstYu6LGrjka5WW6ft  spotify:track:4TyCnstYu6LGrjka5WW6ft   \n",
       "2  548ddxWI4sZKK1aCLuMR16  spotify:track:548ddxWI4sZKK1aCLuMR16   \n",
       "3  0BweE3lWBMXRPWWLtLV5z8  spotify:track:0BweE3lWBMXRPWWLtLV5z8   \n",
       "4  60j4KO4XiFxLM6qy2Enic2  spotify:track:60j4KO4XiFxLM6qy2Enic2   \n",
       "\n",
       "                                          track_href  \\\n",
       "0  https://api.spotify.com/v1/tracks/49CdYBpfABUa...   \n",
       "1  https://api.spotify.com/v1/tracks/4TyCnstYu6LG...   \n",
       "2  https://api.spotify.com/v1/tracks/548ddxWI4sZK...   \n",
       "3  https://api.spotify.com/v1/tracks/0BweE3lWBMXR...   \n",
       "4  https://api.spotify.com/v1/tracks/60j4KO4XiFxL...   \n",
       "\n",
       "                                        analysis_url  duration_ms  \\\n",
       "0  https://api.spotify.com/v1/audio-analysis/49Cd...       273996   \n",
       "1  https://api.spotify.com/v1/audio-analysis/4TyC...       209253   \n",
       "2  https://api.spotify.com/v1/audio-analysis/548d...       242723   \n",
       "3  https://api.spotify.com/v1/audio-analysis/0Bwe...       189613   \n",
       "4  https://api.spotify.com/v1/audio-analysis/60j4...       187710   \n",
       "\n",
       "   time_signature  \n",
       "0               4  \n",
       "1               4  \n",
       "2               4  \n",
       "3               4  \n",
       "4               4  "
      ]
     },
     "execution_count": 12,
     "metadata": {},
     "output_type": "execute_result"
    }
   ],
   "source": [
    "audio_feats.head()"
   ]
  },
  {
   "cell_type": "code",
   "execution_count": 40,
   "id": "f9fba790",
   "metadata": {
    "scrolled": false
   },
   "outputs": [
    {
     "data": {
      "text/html": [
       "<div>\n",
       "<style scoped>\n",
       "    .dataframe tbody tr th:only-of-type {\n",
       "        vertical-align: middle;\n",
       "    }\n",
       "\n",
       "    .dataframe tbody tr th {\n",
       "        vertical-align: top;\n",
       "    }\n",
       "\n",
       "    .dataframe thead th {\n",
       "        text-align: right;\n",
       "    }\n",
       "</style>\n",
       "<table border=\"1\" class=\"dataframe\">\n",
       "  <thead>\n",
       "    <tr style=\"text-align: right;\">\n",
       "      <th></th>\n",
       "      <th>isrc</th>\n",
       "      <th>spotify_id</th>\n",
       "    </tr>\n",
       "  </thead>\n",
       "  <tbody>\n",
       "    <tr>\n",
       "      <th>0</th>\n",
       "      <td>US4CL1410011</td>\n",
       "      <td>49CdYBpfABUa0ZfT8FizQZ</td>\n",
       "    </tr>\n",
       "    <tr>\n",
       "      <th>1</th>\n",
       "      <td>US4CL1410008</td>\n",
       "      <td>4TyCnstYu6LGrjka5WW6ft</td>\n",
       "    </tr>\n",
       "    <tr>\n",
       "      <th>2</th>\n",
       "      <td>US4CL1610057</td>\n",
       "      <td>548ddxWI4sZKK1aCLuMR16</td>\n",
       "    </tr>\n",
       "    <tr>\n",
       "      <th>3</th>\n",
       "      <td>US4CL1410004</td>\n",
       "      <td>0BweE3lWBMXRPWWLtLV5z8</td>\n",
       "    </tr>\n",
       "    <tr>\n",
       "      <th>4</th>\n",
       "      <td>US4CL1610055</td>\n",
       "      <td>60j4KO4XiFxLM6qy2Enic2</td>\n",
       "    </tr>\n",
       "  </tbody>\n",
       "</table>\n",
       "</div>"
      ],
      "text/plain": [
       "           isrc              spotify_id\n",
       "0  US4CL1410011  49CdYBpfABUa0ZfT8FizQZ\n",
       "1  US4CL1410008  4TyCnstYu6LGrjka5WW6ft\n",
       "2  US4CL1610057  548ddxWI4sZKK1aCLuMR16\n",
       "3  US4CL1410004  0BweE3lWBMXRPWWLtLV5z8\n",
       "4  US4CL1610055  60j4KO4XiFxLM6qy2Enic2"
      ]
     },
     "execution_count": 40,
     "metadata": {},
     "output_type": "execute_result"
    }
   ],
   "source": [
    "id_map.head()"
   ]
  },
  {
   "cell_type": "code",
   "execution_count": 43,
   "id": "31a538e0",
   "metadata": {},
   "outputs": [],
   "source": [
    "merged_df = music_data.merge(\n",
    "    id_map,\n",
    "    left_on= 'ISRC',\n",
    "    right_on= 'isrc',\n",
    "    how = 'left'\n",
    ")"
   ]
  },
  {
   "cell_type": "code",
   "execution_count": 44,
   "id": "85f8356f",
   "metadata": {},
   "outputs": [
    {
     "data": {
      "text/plain": [
       "369017"
      ]
     },
     "execution_count": 44,
     "metadata": {},
     "output_type": "execute_result"
    }
   ],
   "source": [
    "len(merged_df)"
   ]
  },
  {
   "cell_type": "code",
   "execution_count": 49,
   "id": "ebbbe421",
   "metadata": {},
   "outputs": [
    {
     "data": {
      "text/plain": [
       "364671"
      ]
     },
     "execution_count": 49,
     "metadata": {},
     "output_type": "execute_result"
    }
   ],
   "source": [
    "len(merged_df[~merged_df.spotify_id.isna()])"
   ]
  },
  {
   "cell_type": "code",
   "execution_count": null,
   "id": "6fd7dc0e",
   "metadata": {},
   "outputs": [],
   "source": []
  }
 ],
 "metadata": {
  "kernelspec": {
   "display_name": "Python 3 (ipykernel)",
   "language": "python",
   "name": "python3"
  },
  "language_info": {
   "codemirror_mode": {
    "name": "ipython",
    "version": 3
   },
   "file_extension": ".py",
   "mimetype": "text/x-python",
   "name": "python",
   "nbconvert_exporter": "python",
   "pygments_lexer": "ipython3",
   "version": "3.9.7"
  }
 },
 "nbformat": 4,
 "nbformat_minor": 5
}
