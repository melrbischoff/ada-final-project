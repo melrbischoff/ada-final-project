{
 "cells": [
  {
   "cell_type": "code",
   "execution_count": null,
   "id": "fiscal-directory",
   "metadata": {},
   "outputs": [],
   "source": [
    "import pandas as pd\n",
    "import numpy as np\n",
    "import matplotlib.pyplot as plt\n",
    "from datetime import datetime"
   ]
  },
  {
   "cell_type": "markdown",
   "id": "unexpected-destruction",
   "metadata": {},
   "source": [
    "## Load Data "
   ]
  },
  {
   "cell_type": "code",
   "execution_count": null,
   "id": "individual-christian",
   "metadata": {},
   "outputs": [],
   "source": [
    "data = pd.read_csv(\"path_to_csv\", low_memory=False, index_col=0)"
   ]
  },
  {
   "cell_type": "code",
   "execution_count": null,
   "id": "technological-rochester",
   "metadata": {},
   "outputs": [],
   "source": [
    "data.info()"
   ]
  },
  {
   "cell_type": "code",
   "execution_count": null,
   "id": "public-florence",
   "metadata": {},
   "outputs": [],
   "source": [
    "data.head(10)"
   ]
  },
  {
   "cell_type": "markdown",
   "id": "informational-diary",
   "metadata": {},
   "source": [
    "## Format"
   ]
  },
  {
   "cell_type": "code",
   "execution_count": null,
   "id": "cultural-relationship",
   "metadata": {},
   "outputs": [],
   "source": [
    "#Statement Month to datetime\n",
    "data['Statement Month'] = pd.to_datetime(data['Statement Month'])\n",
    "#Gross Revenue to float\n",
    "data['Gross Revenue USD'] = data['Gross Revenue USD'].str.replace('$','').str.replace(',','').astype('float')\n",
    "#Net Revenue to float\n",
    "data['Net Revenue USD'] = data['Net Revenue USD'].str.replace('$','').str.replace(',','').astype('float')\n",
    "#Units to int\n",
    "data['Units'] = data['Units'].str.replace(',','').astype('int')"
   ]
  },
  {
   "cell_type": "markdown",
   "id": "amazing-benchmark",
   "metadata": {},
   "source": [
    "## Clean"
   ]
  },
  {
   "cell_type": "code",
   "execution_count": null,
   "id": "isolated-dispatch",
   "metadata": {},
   "outputs": [],
   "source": [
    "#Unite single band called by two different  names\n",
    "data['Artist Name'] = np.where(data['Artist Name'] == 'Easy Star All Stars','Easy Star All-Stars',data['Artist Name'])"
   ]
  },
  {
   "cell_type": "markdown",
   "id": "second-training",
   "metadata": {},
   "source": [
    "## (Potential Clean)"
   ]
  },
  {
   "cell_type": "markdown",
   "id": "lucky-produce",
   "metadata": {},
   "source": [
    "### Negitive Revenue"
   ]
  },
  {
   "cell_type": "code",
   "execution_count": null,
   "id": "happy-wrestling",
   "metadata": {},
   "outputs": [],
   "source": [
    "data.loc[data['Gross Revenue USD'] < 0]"
   ]
  },
  {
   "cell_type": "markdown",
   "id": "intended-prime",
   "metadata": {},
   "source": [
    "### NA ISRC values"
   ]
  },
  {
   "cell_type": "code",
   "execution_count": null,
   "id": "oriental-collapse",
   "metadata": {},
   "outputs": [],
   "source": [
    "pd.isna(data['ISRC']).sum()"
   ]
  },
  {
   "cell_type": "markdown",
   "id": "anticipated-ceramic",
   "metadata": {},
   "source": [
    "# Save Data"
   ]
  },
  {
   "cell_type": "code",
   "execution_count": null,
   "id": "centered-radius",
   "metadata": {},
   "outputs": [],
   "source": [
    "data.to_csv(r'path_to_save.csv', index=False, header=True)"
   ]
  }
 ],
 "metadata": {
  "kernelspec": {
   "display_name": "Python 3",
   "language": "python",
   "name": "python3"
  },
  "language_info": {
   "codemirror_mode": {
    "name": "ipython",
    "version": 3
   },
   "file_extension": ".py",
   "mimetype": "text/x-python",
   "name": "python",
   "nbconvert_exporter": "python",
   "pygments_lexer": "ipython3",
   "version": "3.8.5"
  }
 },
 "nbformat": 4,
 "nbformat_minor": 5
}
