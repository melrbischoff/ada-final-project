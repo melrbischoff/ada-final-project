{
 "cells": [
  {
   "cell_type": "code",
   "execution_count": null,
   "id": "pursuant-faith",
   "metadata": {},
   "outputs": [],
   "source": [
    "import pandas as pd\n",
    "import numpy as np\n",
    "import matplotlib.pyplot as plt"
   ]
  },
  {
   "cell_type": "code",
   "execution_count": null,
   "id": "affecting-acrobat",
   "metadata": {},
   "outputs": [],
   "source": [
    "data = pd.read_csv(\"path_to.csv\", low_memory=False)\n",
    "data['Statement Month'] = pd.to_datetime(data['Statement Month'])"
   ]
  },
  {
   "cell_type": "code",
   "execution_count": null,
   "id": "mighty-kuwait",
   "metadata": {},
   "outputs": [],
   "source": [
    "data.info()"
   ]
  },
  {
   "cell_type": "code",
   "execution_count": null,
   "id": "manufactured-frost",
   "metadata": {},
   "outputs": [],
   "source": [
    "data.head()"
   ]
  },
  {
   "cell_type": "markdown",
   "id": "collective-warner",
   "metadata": {},
   "source": [
    "Band Revenue Over Time"
   ]
  },
  {
   "cell_type": "code",
   "execution_count": null,
   "id": "peaceful-conservative",
   "metadata": {},
   "outputs": [],
   "source": [
    "bands = pd.unique(data['Artist Name'])\n",
    "len(bands)"
   ]
  },
  {
   "cell_type": "code",
   "execution_count": null,
   "id": "sudden-complex",
   "metadata": {},
   "outputs": [],
   "source": [
    "fig, ax = plt.subplots(9, 4, figsize=(16,28))\n",
    "fig.subplots_adjust(hspace = .4)\n",
    "ax = ax.ravel()\n",
    "\n",
    "for i in range(len(bands)):\n",
    "        reb = data.loc[data['Artist Name'] == bands[i]]\n",
    "        test = reb['Gross Revenue USD'].groupby(reb['Statement Month'].dt.to_period('M')).sum()\n",
    "        test.plot(ax=ax[i])\n",
    "        ax[i].set_title(bands[i])\n",
    "        ax[i].set_xlabel('')"
   ]
  },
  {
   "cell_type": "markdown",
   "id": "demonstrated-swift",
   "metadata": {},
   "source": [
    "Albums Revenue Over Time"
   ]
  },
  {
   "cell_type": "code",
   "execution_count": null,
   "id": "expanded-closing",
   "metadata": {},
   "outputs": [],
   "source": [
    "albums = pd.unique(data['Release Name'])\n",
    "albums.sort()\n",
    "len(albums)"
   ]
  },
  {
   "cell_type": "code",
   "execution_count": null,
   "id": "qualified-jumping",
   "metadata": {},
   "outputs": [],
   "source": [
    "#pick 36 radom albums for visualization\n",
    "ranAlbums = np.random.choice(albums,36)\n",
    "\n",
    "fig, ax = plt.subplots(9, 4, figsize=(16,28))\n",
    "fig.subplots_adjust(hspace = .4)\n",
    "\n",
    "ax = ax.ravel()\n",
    "for i in range(len(bands)):\n",
    "        reb = data.loc[data['Release Name'] == ranAlbums[i]]\n",
    "        test = reb['Gross Revenue USD'].groupby(reb['Statement Month'].dt.to_period('M')).sum()\n",
    "        test.plot(ax=ax[i])\n",
    "        ax[i].set_title(ranAlbums[i])\n",
    "        ax[i].set_xlabel('')"
   ]
  },
  {
   "cell_type": "code",
   "execution_count": null,
   "id": "surrounded-payday",
   "metadata": {},
   "outputs": [],
   "source": [
    "albums"
   ]
  }
 ],
 "metadata": {
  "kernelspec": {
   "display_name": "Python 3",
   "language": "python",
   "name": "python3"
  },
  "language_info": {
   "codemirror_mode": {
    "name": "ipython",
    "version": 3
   },
   "file_extension": ".py",
   "mimetype": "text/x-python",
   "name": "python",
   "nbconvert_exporter": "python",
   "pygments_lexer": "ipython3",
   "version": "3.8.5"
  }
 },
 "nbformat": 4,
 "nbformat_minor": 5
}
